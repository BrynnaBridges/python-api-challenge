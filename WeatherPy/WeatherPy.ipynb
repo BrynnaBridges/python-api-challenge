{
 "cells": [
  {
   "cell_type": "markdown",
   "metadata": {},
   "source": [
    "# WeatherPy\n",
    "----\n",
    "\n",
    "#### Note\n",
    "* Instructions have been included for each segment. You do not have to follow them exactly, but they are included to help you think through the steps."
   ]
  },
  {
   "cell_type": "code",
   "execution_count": 1,
   "metadata": {
    "scrolled": true
   },
   "outputs": [],
   "source": [
    "# Dependencies and Setup\n",
    "import matplotlib.pyplot as plt\n",
    "import pandas as pd\n",
    "import numpy as np\n",
    "import requests\n",
    "import time\n",
    "from scipy.stats import linregress\n",
    "import openweathermapy.core as owm\n",
    "\n",
    "# Import API key\n",
    "from api_keys import weather_api_key\n",
    "\n",
    "# Incorporated citipy to determine city based on latitude and longitude\n",
    "from citipy import citipy\n",
    "\n",
    "# Output File (CSV)\n",
    "output_data_file = \"output_data/cities.csv\"\n",
    "\n",
    "# Range of latitudes and longitudes\n",
    "lat_range = (-90, 90)\n",
    "lng_range = (-180, 180)"
   ]
  },
  {
   "cell_type": "markdown",
   "metadata": {},
   "source": [
    "## Generate Cities List"
   ]
  },
  {
   "cell_type": "code",
   "execution_count": 2,
   "metadata": {},
   "outputs": [
    {
     "data": {
      "text/plain": [
       "610"
      ]
     },
     "execution_count": 2,
     "metadata": {},
     "output_type": "execute_result"
    }
   ],
   "source": [
    "# List for holding lat_lngs and cities\n",
    "lat_lngs = []\n",
    "cities = []\n",
    "\n",
    "# Create a set of random lat and lng combinations\n",
    "lats = np.random.uniform(low=-90.000, high=90.000, size=1500)\n",
    "lngs = np.random.uniform(low=-180.000, high=180.000, size=1500)\n",
    "lat_lngs = zip(lats, lngs)\n",
    "\n",
    "# Identify nearest city for each lat, lng combination\n",
    "for lat_lng in lat_lngs:\n",
    "    city = citipy.nearest_city(lat_lng[0], lat_lng[1]).city_name\n",
    "    \n",
    "    # If the city is unique, then add it to a our cities list\n",
    "    if city not in cities:\n",
    "        cities.append(city)\n",
    "\n",
    "# Print the city count to confirm sufficient count\n",
    "len(cities)"
   ]
  },
  {
   "cell_type": "markdown",
   "metadata": {},
   "source": [
    "### Perform API Calls\n",
    "* Perform a weather check on each city using a series of successive API calls.\n",
    "* Include a print log of each city as it'sbeing processed (with the city number and city name).\n"
   ]
  },
  {
   "cell_type": "code",
   "execution_count": 3,
   "metadata": {},
   "outputs": [
    {
     "name": "stdout",
     "output_type": "stream",
     "text": [
      "Beginning Data Retrieval     \n",
      "-----------------------------\n",
      "Processing Record 0 of Set 0 | saskylakh\n",
      "Processing Record 1 of Set 1 | los llanos de aridane\n",
      "Processing Record 2 of Set 2 | nikolskoye\n",
      "Processing Record 3 of Set 3 | praia da vitoria\n",
      "Processing Record 4 of Set 4 | san cristobal\n",
      "Processing Record 5 of Set 5 | ushuaia\n",
      "Processing Record 6 of Set 6 | domoni\n",
      "Processing Record 7 of Set 7 | gasa\n",
      "Processing Record 8 of Set 8 | arraial do cabo\n",
      "Processing Record 9 of Set 9 | albany\n",
      "Processing Record 10 of Set 10 | jalu\n",
      "Processing Record 11 of Set 11 | rabo de peixe\n",
      "Processing Record 12 of Set 12 | upernavik\n",
      "Processing Record 13 of Set 13 | sitka\n",
      "Processing Record 14 of Set 14 | belushya guba\n",
      "City not found. Skipping...\n",
      "Processing Record 15 of Set 15 | beri\n",
      "Processing Record 16 of Set 16 | opuwo\n",
      "Processing Record 17 of Set 17 | chokurdakh\n",
      "Processing Record 18 of Set 18 | butaritari\n",
      "Processing Record 19 of Set 19 | mwaro\n",
      "Processing Record 20 of Set 20 | punta arenas\n",
      "Processing Record 21 of Set 21 | tuggurt\n",
      "City not found. Skipping...\n",
      "Processing Record 22 of Set 22 | saint-philippe\n",
      "Processing Record 23 of Set 23 | lagoa\n",
      "Processing Record 24 of Set 24 | atuona\n",
      "Processing Record 25 of Set 25 | ancud\n",
      "Processing Record 26 of Set 26 | eyl\n",
      "Processing Record 27 of Set 27 | northam\n",
      "Processing Record 28 of Set 28 | rikitea\n",
      "Processing Record 29 of Set 29 | qaanaaq\n",
      "Processing Record 30 of Set 30 | luderitz\n",
      "Processing Record 31 of Set 31 | bredasdorp\n",
      "Processing Record 32 of Set 32 | katsuura\n",
      "Processing Record 33 of Set 33 | pagudpud\n",
      "Processing Record 34 of Set 34 | tattayyangarpettai\n",
      "Processing Record 35 of Set 35 | berbera\n",
      "Processing Record 36 of Set 36 | mtimbira\n",
      "Processing Record 37 of Set 37 | new norfolk\n",
      "Processing Record 38 of Set 38 | belozerskoye\n",
      "Processing Record 39 of Set 39 | faanui\n",
      "Processing Record 40 of Set 40 | teguldet\n",
      "Processing Record 41 of Set 41 | jalandhar\n",
      "Processing Record 42 of Set 42 | hilo\n",
      "Processing Record 43 of Set 43 | upata\n",
      "Processing Record 44 of Set 44 | eureka\n",
      "Processing Record 45 of Set 45 | thompson\n",
      "Processing Record 46 of Set 46 | mount isa\n",
      "Processing Record 47 of Set 47 | amderma\n",
      "City not found. Skipping...\n",
      "Processing Record 48 of Set 48 | hobart\n",
      "Processing Record 49 of Set 49 | mokobeng\n",
      "Processing Record 50 of Set 50 | illoqqortoormiut\n",
      "City not found. Skipping...\n",
      "Processing Record 51 of Set 51 | esperance\n",
      "Processing Record 52 of Set 52 | hermanus\n",
      "Processing Record 53 of Set 53 | butterworth\n",
      "Processing Record 54 of Set 54 | casablanca\n",
      "Processing Record 55 of Set 55 | puerto carreno\n",
      "Processing Record 56 of Set 56 | mandalgovi\n",
      "Processing Record 57 of Set 57 | lebu\n",
      "Processing Record 58 of Set 58 | constitucion\n",
      "Processing Record 59 of Set 59 | kuytun\n",
      "Processing Record 60 of Set 60 | vaini\n",
      "Processing Record 61 of Set 61 | marostica\n",
      "Processing Record 62 of Set 62 | karpogory\n",
      "Processing Record 63 of Set 63 | kaitangata\n",
      "Processing Record 64 of Set 64 | bengkulu\n",
      "Processing Record 65 of Set 65 | adrar\n",
      "Processing Record 66 of Set 66 | port alfred\n",
      "Processing Record 67 of Set 67 | ketchikan\n",
      "Processing Record 68 of Set 68 | kharp\n",
      "Processing Record 69 of Set 69 | poum\n",
      "Processing Record 70 of Set 70 | alta floresta\n",
      "Processing Record 71 of Set 71 | muroto\n",
      "Processing Record 72 of Set 72 | paka\n",
      "Processing Record 73 of Set 73 | kaupanger\n",
      "Processing Record 74 of Set 74 | carnarvon\n",
      "Processing Record 75 of Set 75 | yellowknife\n",
      "Processing Record 76 of Set 76 | bonavista\n",
      "Processing Record 77 of Set 77 | taolanaro\n",
      "City not found. Skipping...\n",
      "Processing Record 78 of Set 78 | mataura\n",
      "Processing Record 79 of Set 79 | tuktoyaktuk\n",
      "Processing Record 80 of Set 80 | cap-aux-meules\n",
      "Processing Record 81 of Set 81 | castro\n",
      "Processing Record 82 of Set 82 | kruisfontein\n",
      "Processing Record 83 of Set 83 | kapaa\n",
      "Processing Record 84 of Set 84 | georgetown\n",
      "Processing Record 85 of Set 85 | klaksvik\n",
      "Processing Record 86 of Set 86 | sibu\n",
      "Processing Record 87 of Set 87 | nguiu\n",
      "City not found. Skipping...\n",
      "Processing Record 88 of Set 88 | terenos\n",
      "Processing Record 89 of Set 89 | kalmunai\n",
      "Processing Record 90 of Set 90 | rorvik\n",
      "Processing Record 91 of Set 91 | daru\n",
      "Processing Record 92 of Set 92 | port macquarie\n",
      "Processing Record 93 of Set 93 | cherskiy\n",
      "Processing Record 94 of Set 94 | marcona\n",
      "City not found. Skipping...\n",
      "Processing Record 95 of Set 95 | sao felix do xingu\n",
      "Processing Record 96 of Set 96 | isangel\n",
      "Processing Record 97 of Set 97 | lompoc\n",
      "Processing Record 98 of Set 98 | bonoua\n",
      "Processing Record 99 of Set 99 | ulaangom\n",
      "Processing Record 100 of Set 100 | mar del plata\n",
      "Processing Record 101 of Set 101 | cape town\n",
      "Processing Record 102 of Set 102 | tahta\n",
      "Processing Record 103 of Set 103 | sao filipe\n",
      "Processing Record 104 of Set 104 | ponta do sol\n",
      "Processing Record 105 of Set 105 | jamestown\n",
      "Processing Record 106 of Set 106 | xining\n",
      "Processing Record 107 of Set 107 | tumannyy\n",
      "City not found. Skipping...\n",
      "Processing Record 108 of Set 108 | puerto ayora\n",
      "Processing Record 109 of Set 109 | naze\n",
      "Processing Record 110 of Set 110 | vangaindrano\n",
      "Processing Record 111 of Set 111 | iqaluit\n",
      "Processing Record 112 of Set 112 | medea\n",
      "Processing Record 113 of Set 113 | sangar\n",
      "Processing Record 114 of Set 114 | chunoyar\n",
      "Processing Record 115 of Set 115 | yumen\n",
      "Processing Record 116 of Set 116 | huambo\n",
      "Processing Record 117 of Set 117 | toguchin\n",
      "Processing Record 118 of Set 118 | maturin\n",
      "Processing Record 119 of Set 119 | ribeira grande\n",
      "Processing Record 120 of Set 120 | ahuimanu\n",
      "Processing Record 121 of Set 121 | polunochnoye\n",
      "Processing Record 122 of Set 122 | severo-kurilsk\n",
      "Processing Record 123 of Set 123 | yelovo\n",
      "Processing Record 124 of Set 124 | atasu\n",
      "Processing Record 125 of Set 125 | quatre cocos\n",
      "Processing Record 126 of Set 126 | cockburn town\n",
      "Processing Record 127 of Set 127 | avarua\n",
      "Processing Record 128 of Set 128 | busselton\n",
      "Processing Record 129 of Set 129 | aklavik\n",
      "Processing Record 130 of Set 130 | dikson\n",
      "Processing Record 131 of Set 131 | mackay\n",
      "Processing Record 132 of Set 132 | port elizabeth\n",
      "Processing Record 133 of Set 133 | tasiilaq\n",
      "Processing Record 134 of Set 134 | sal rei\n",
      "Processing Record 135 of Set 135 | fougamou\n",
      "Processing Record 136 of Set 136 | dunedin\n",
      "Processing Record 137 of Set 137 | burica\n",
      "City not found. Skipping...\n",
      "Processing Record 138 of Set 138 | villa carlos paz\n",
      "Processing Record 139 of Set 139 | sakakah\n",
      "Processing Record 140 of Set 140 | bluff\n",
      "Processing Record 141 of Set 141 | phalodi\n",
      "Processing Record 142 of Set 142 | nanortalik\n",
      "Processing Record 143 of Set 143 | takoradi\n",
      "Processing Record 144 of Set 144 | kismayo\n",
      "Processing Record 145 of Set 145 | boguchany\n",
      "Processing Record 146 of Set 146 | hithadhoo\n",
      "Processing Record 147 of Set 147 | kurilsk\n",
      "Processing Record 148 of Set 148 | lavrentiya\n",
      "Processing Record 149 of Set 149 | nishihara\n",
      "Processing Record 150 of Set 150 | joao pinheiro\n",
      "Processing Record 151 of Set 151 | san patricio\n",
      "Processing Record 152 of Set 152 | yantai\n",
      "Processing Record 153 of Set 153 | pushkino\n",
      "Processing Record 154 of Set 154 | mataram\n",
      "Processing Record 155 of Set 155 | osypenko\n",
      "Processing Record 156 of Set 156 | honningsvag\n",
      "Processing Record 157 of Set 157 | airai\n",
      "Processing Record 158 of Set 158 | talnakh\n",
      "Processing Record 159 of Set 159 | tucupita\n",
      "Processing Record 160 of Set 160 | tuatapere\n",
      "Processing Record 161 of Set 161 | norman wells\n",
      "Processing Record 162 of Set 162 | los cedrales\n",
      "Processing Record 163 of Set 163 | tabiauea\n",
      "City not found. Skipping...\n",
      "Processing Record 164 of Set 164 | makakilo city\n",
      "Processing Record 165 of Set 165 | ituni\n",
      "City not found. Skipping...\n",
      "Processing Record 166 of Set 166 | belmonte\n",
      "Processing Record 167 of Set 167 | longyearbyen\n",
      "Processing Record 168 of Set 168 | dong xoai\n",
      "Processing Record 169 of Set 169 | emerald\n",
      "Processing Record 170 of Set 170 | terrace\n",
      "Processing Record 171 of Set 171 | saint anthony\n",
      "Processing Record 172 of Set 172 | komatipoort\n",
      "Processing Record 173 of Set 173 | amelia\n",
      "Processing Record 174 of Set 174 | mount gambier\n",
      "Processing Record 175 of Set 175 | xuddur\n",
      "Processing Record 176 of Set 176 | barentsburg\n",
      "City not found. Skipping...\n",
      "Processing Record 177 of Set 177 | stuttgart\n",
      "Processing Record 178 of Set 178 | vila franca do campo\n",
      "Processing Record 179 of Set 179 | bara\n",
      "Processing Record 180 of Set 180 | college\n",
      "Processing Record 181 of Set 181 | sao miguel do araguaia\n",
      "Processing Record 182 of Set 182 | meulaboh\n",
      "Processing Record 183 of Set 183 | hervey bay\n",
      "Processing Record 184 of Set 184 | mys shmidta\n",
      "City not found. Skipping...\n",
      "Processing Record 185 of Set 185 | borovskoy\n",
      "Processing Record 186 of Set 186 | bolgatanga\n",
      "Processing Record 187 of Set 187 | puerto escondido\n",
      "Processing Record 188 of Set 188 | faya\n",
      "Processing Record 189 of Set 189 | liverpool\n",
      "Processing Record 190 of Set 190 | marawi\n",
      "Processing Record 191 of Set 191 | dingle\n",
      "Processing Record 192 of Set 192 | molepolole\n",
      "Processing Record 193 of Set 193 | yelatma\n",
      "Processing Record 194 of Set 194 | kupang\n",
      "Processing Record 195 of Set 195 | ngukurr\n",
      "City not found. Skipping...\n",
      "Processing Record 196 of Set 196 | grindavik\n",
      "Processing Record 197 of Set 197 | paamiut\n",
      "Processing Record 198 of Set 198 | padang\n",
      "Processing Record 199 of Set 199 | oranjemund\n",
      "Processing Record 200 of Set 200 | babanusah\n",
      "City not found. Skipping...\n",
      "Processing Record 201 of Set 201 | skagen\n",
      "Processing Record 202 of Set 202 | santa maria\n",
      "Processing Record 203 of Set 203 | urengoy\n",
      "Processing Record 204 of Set 204 | taltal\n",
      "Processing Record 205 of Set 205 | torbay\n",
      "Processing Record 206 of Set 206 | geraldton\n",
      "Processing Record 207 of Set 207 | asind\n",
      "Processing Record 208 of Set 208 | biltine\n",
      "Processing Record 209 of Set 209 | chuy\n",
      "Processing Record 210 of Set 210 | taoudenni\n",
      "Processing Record 211 of Set 211 | provideniya\n",
      "Processing Record 212 of Set 212 | hit\n",
      "Processing Record 213 of Set 213 | palmer\n",
      "Processing Record 214 of Set 214 | muzaffarabad\n",
      "Processing Record 215 of Set 215 | mahebourg\n",
      "Processing Record 216 of Set 216 | kazalinsk\n",
      "City not found. Skipping...\n",
      "Processing Record 217 of Set 217 | hokitika\n",
      "Processing Record 218 of Set 218 | petropavlovsk-kamchatskiy\n",
      "Processing Record 219 of Set 219 | kununurra\n",
      "Processing Record 220 of Set 220 | manicore\n",
      "Processing Record 221 of Set 221 | yaan\n",
      "Processing Record 222 of Set 222 | tessalit\n",
      "Processing Record 223 of Set 223 | galveston\n",
      "Processing Record 224 of Set 224 | east london\n",
      "Processing Record 225 of Set 225 | salalah\n",
      "Processing Record 226 of Set 226 | ntungamo\n",
      "Processing Record 227 of Set 227 | anadyr\n",
      "Processing Record 228 of Set 228 | neryungri\n",
      "Processing Record 229 of Set 229 | ofaqim\n",
      "Processing Record 230 of Set 230 | vardo\n",
      "Processing Record 231 of Set 231 | puerto ayacucho\n",
      "Processing Record 232 of Set 232 | dongsheng\n",
      "Processing Record 233 of Set 233 | bolshaya dzhalga\n",
      "Processing Record 234 of Set 234 | richards bay\n",
      "Processing Record 235 of Set 235 | attawapiskat\n",
      "City not found. Skipping...\n",
      "Processing Record 236 of Set 236 | chapais\n",
      "Processing Record 237 of Set 237 | barrow\n",
      "Processing Record 238 of Set 238 | ilulissat\n",
      "Processing Record 239 of Set 239 | khatanga\n",
      "Processing Record 240 of Set 240 | cidreira\n",
      "Processing Record 241 of Set 241 | gra liyia\n",
      "Processing Record 242 of Set 242 | lugovoy\n",
      "Processing Record 243 of Set 243 | bud\n",
      "Processing Record 244 of Set 244 | yining\n",
      "Processing Record 245 of Set 245 | oliva\n",
      "Processing Record 246 of Set 246 | prabumulih\n",
      "Processing Record 247 of Set 247 | saurimo\n",
      "Processing Record 248 of Set 248 | abu samrah\n",
      "Processing Record 249 of Set 249 | avera\n",
      "Processing Record 250 of Set 250 | bethel\n",
      "Processing Record 251 of Set 251 | kysyl-syr\n",
      "Processing Record 252 of Set 252 | kokopo\n",
      "Processing Record 253 of Set 253 | mbandaka\n",
      "Processing Record 254 of Set 254 | armacao dos buzios\n",
      "City not found. Skipping...\n",
      "Processing Record 255 of Set 255 | humboldt\n",
      "Processing Record 256 of Set 256 | tanjong sepat\n",
      "City not found. Skipping...\n",
      "Processing Record 257 of Set 257 | manzanillo\n",
      "Processing Record 258 of Set 258 | omboue\n",
      "Processing Record 259 of Set 259 | huarmey\n",
      "Processing Record 260 of Set 260 | vestmannaeyjar\n",
      "Processing Record 261 of Set 261 | vao\n",
      "Processing Record 262 of Set 262 | vaitupu\n",
      "City not found. Skipping...\n",
      "Processing Record 263 of Set 263 | ler\n",
      "Processing Record 264 of Set 264 | warsaw\n",
      "Processing Record 265 of Set 265 | sistranda\n",
      "Processing Record 266 of Set 266 | kavieng\n",
      "Processing Record 267 of Set 267 | sept-iles\n",
      "Processing Record 268 of Set 268 | rocha\n",
      "Processing Record 269 of Set 269 | barawe\n",
      "City not found. Skipping...\n",
      "Processing Record 270 of Set 270 | ayagoz\n",
      "Processing Record 271 of Set 271 | hovd\n",
      "Processing Record 272 of Set 272 | clyde river\n",
      "Processing Record 273 of Set 273 | mineros\n",
      "Processing Record 274 of Set 274 | port-gentil\n",
      "Processing Record 275 of Set 275 | jiaojiang\n",
      "Processing Record 276 of Set 276 | port blair\n",
      "Processing Record 277 of Set 277 | haputale\n",
      "Processing Record 278 of Set 278 | lagos\n",
      "Processing Record 279 of Set 279 | mareeba\n",
      "Processing Record 280 of Set 280 | montepuez\n",
      "Processing Record 281 of Set 281 | youghal\n",
      "Processing Record 282 of Set 282 | manadhoo\n",
      "Processing Record 283 of Set 283 | tual\n",
      "Processing Record 284 of Set 284 | am timan\n",
      "Processing Record 285 of Set 285 | aripuana\n",
      "Processing Record 286 of Set 286 | okha\n",
      "Processing Record 287 of Set 287 | buenos aires\n",
      "Processing Record 288 of Set 288 | louisbourg\n",
      "City not found. Skipping...\n",
      "Processing Record 289 of Set 289 | gumusyaka\n",
      "City not found. Skipping...\n",
      "Processing Record 290 of Set 290 | portland\n",
      "Processing Record 291 of Set 291 | yeppoon\n",
      "Processing Record 292 of Set 292 | inta\n",
      "Processing Record 293 of Set 293 | challans\n",
      "Processing Record 294 of Set 294 | roald\n",
      "Processing Record 295 of Set 295 | olafsvik\n",
      "Processing Record 296 of Set 296 | sobolevo\n",
      "Processing Record 297 of Set 297 | vostok\n",
      "Processing Record 298 of Set 298 | jacareacanga\n",
      "Processing Record 299 of Set 299 | okhotsk\n",
      "Processing Record 300 of Set 300 | leningradskiy\n",
      "Processing Record 301 of Set 301 | george town\n",
      "Processing Record 302 of Set 302 | katobu\n",
      "Processing Record 303 of Set 303 | udachnyy\n",
      "Processing Record 304 of Set 304 | dudinka\n",
      "Processing Record 305 of Set 305 | birao\n",
      "Processing Record 306 of Set 306 | halalo\n",
      "City not found. Skipping...\n",
      "Processing Record 307 of Set 307 | zhoucheng\n",
      "Processing Record 308 of Set 308 | grand-santi\n",
      "Processing Record 309 of Set 309 | plateros\n",
      "Processing Record 310 of Set 310 | cacheu\n",
      "Processing Record 311 of Set 311 | port augusta\n",
      "Processing Record 312 of Set 312 | kiama\n",
      "Processing Record 313 of Set 313 | puerto leguizamo\n",
      "Processing Record 314 of Set 314 | hobyo\n",
      "Processing Record 315 of Set 315 | turan\n",
      "Processing Record 316 of Set 316 | lahnstein\n",
      "Processing Record 317 of Set 317 | nome\n",
      "Processing Record 318 of Set 318 | pemangkat\n",
      "Processing Record 319 of Set 319 | thinadhoo\n",
      "Processing Record 320 of Set 320 | nalut\n",
      "Processing Record 321 of Set 321 | rio grande\n",
      "Processing Record 322 of Set 322 | xixiang\n",
      "Processing Record 323 of Set 323 | port hardy\n",
      "Processing Record 324 of Set 324 | saleaula\n",
      "City not found. Skipping...\n",
      "Processing Record 325 of Set 325 | ormara\n",
      "Processing Record 326 of Set 326 | salinopolis\n",
      "Processing Record 327 of Set 327 | shelburne\n",
      "Processing Record 328 of Set 328 | gladstone\n",
      "Processing Record 329 of Set 329 | husavik\n",
      "Processing Record 330 of Set 330 | saldanha\n",
      "Processing Record 331 of Set 331 | lorengau\n",
      "Processing Record 332 of Set 332 | pangnirtung\n",
      "Processing Record 333 of Set 333 | vallenar\n",
      "Processing Record 334 of Set 334 | aitape\n",
      "Processing Record 335 of Set 335 | kloulklubed\n",
      "Processing Record 336 of Set 336 | panjab\n",
      "Processing Record 337 of Set 337 | narrabri\n",
      "Processing Record 338 of Set 338 | tiksi\n",
      "Processing Record 339 of Set 339 | hasaki\n",
      "Processing Record 340 of Set 340 | tambura\n",
      "Processing Record 341 of Set 341 | sedelnikovo\n",
      "City not found. Skipping...\n",
      "Processing Record 342 of Set 342 | taburao\n",
      "City not found. Skipping...\n",
      "Processing Record 343 of Set 343 | marataizes\n",
      "Processing Record 344 of Set 344 | suluq\n",
      "Processing Record 345 of Set 345 | kaura namoda\n",
      "Processing Record 346 of Set 346 | kongsberg\n",
      "Processing Record 347 of Set 347 | souillac\n",
      "Processing Record 348 of Set 348 | rockport\n",
      "Processing Record 349 of Set 349 | pontes e lacerda\n",
      "Processing Record 350 of Set 350 | sudzha\n",
      "Processing Record 351 of Set 351 | quibor\n",
      "Processing Record 352 of Set 352 | bambous virieux\n",
      "Processing Record 353 of Set 353 | ishim\n",
      "Processing Record 354 of Set 354 | wazzan\n",
      "City not found. Skipping...\n",
      "Processing Record 355 of Set 355 | camamu\n",
      "Processing Record 356 of Set 356 | zyryanka\n",
      "Processing Record 357 of Set 357 | bathsheba\n",
      "Processing Record 358 of Set 358 | gat\n",
      "Processing Record 359 of Set 359 | saint-denis\n",
      "Processing Record 360 of Set 360 | khonuu\n",
      "City not found. Skipping...\n",
      "Processing Record 361 of Set 361 | show low\n",
      "Processing Record 362 of Set 362 | labuhan\n",
      "Processing Record 363 of Set 363 | yorosso\n",
      "Processing Record 364 of Set 364 | grand centre\n",
      "City not found. Skipping...\n",
      "Processing Record 365 of Set 365 | cayenne\n",
      "Processing Record 366 of Set 366 | kahului\n",
      "Processing Record 367 of Set 367 | fort nelson\n",
      "Processing Record 368 of Set 368 | srednekolymsk\n",
      "Processing Record 369 of Set 369 | belize\n",
      "Processing Record 370 of Set 370 | dekar\n",
      "Processing Record 371 of Set 371 | pringsewu\n",
      "Processing Record 372 of Set 372 | anyama\n",
      "Processing Record 373 of Set 373 | goderich\n",
      "Processing Record 374 of Set 374 | damietta\n",
      "Processing Record 375 of Set 375 | santiago del estero\n",
      "Processing Record 376 of Set 376 | beira\n",
      "Processing Record 377 of Set 377 | macusani\n",
      "Processing Record 378 of Set 378 | progreso\n",
      "Processing Record 379 of Set 379 | abadiania\n",
      "Processing Record 380 of Set 380 | ibra\n",
      "Processing Record 381 of Set 381 | lima\n",
      "Processing Record 382 of Set 382 | alamosa\n",
      "Processing Record 383 of Set 383 | vila velha\n",
      "Processing Record 384 of Set 384 | victoria\n",
      "Processing Record 385 of Set 385 | haldia\n",
      "Processing Record 386 of Set 386 | dandong\n",
      "Processing Record 387 of Set 387 | santa rosa\n",
      "Processing Record 388 of Set 388 | sao joao da barra\n",
      "Processing Record 389 of Set 389 | kerrville\n",
      "Processing Record 390 of Set 390 | abasolo\n",
      "Processing Record 391 of Set 391 | tsihombe\n",
      "City not found. Skipping...\n",
      "Processing Record 392 of Set 392 | haines junction\n",
      "Processing Record 393 of Set 393 | cabo san lucas\n",
      "Processing Record 394 of Set 394 | aygut\n",
      "Processing Record 395 of Set 395 | blythe\n",
      "Processing Record 396 of Set 396 | aksu\n",
      "Processing Record 397 of Set 397 | west wendover\n",
      "Processing Record 398 of Set 398 | bozoum\n",
      "Processing Record 399 of Set 399 | kalabo\n",
      "Processing Record 400 of Set 400 | asau\n",
      "Processing Record 401 of Set 401 | zaragoza\n",
      "Processing Record 402 of Set 402 | ahipara\n",
      "Processing Record 403 of Set 403 | pisco\n",
      "Processing Record 404 of Set 404 | madang\n",
      "Processing Record 405 of Set 405 | kavaratti\n",
      "Processing Record 406 of Set 406 | koumac\n",
      "Processing Record 407 of Set 407 | monrovia\n",
      "Processing Record 408 of Set 408 | najran\n",
      "Processing Record 409 of Set 409 | aloleng\n",
      "Processing Record 410 of Set 410 | innisfail\n",
      "Processing Record 411 of Set 411 | san luis de palenque\n",
      "Processing Record 412 of Set 412 | utiroa\n",
      "City not found. Skipping...\n",
      "Processing Record 413 of Set 413 | nizhneyansk\n",
      "City not found. Skipping...\n",
      "Processing Record 414 of Set 414 | tagusao\n",
      "Processing Record 415 of Set 415 | sulangan\n",
      "Processing Record 416 of Set 416 | kachikau\n",
      "City not found. Skipping...\n",
      "Processing Record 417 of Set 417 | toliary\n",
      "City not found. Skipping...\n",
      "Processing Record 418 of Set 418 | west bay\n",
      "Processing Record 419 of Set 419 | nizhnevartovsk\n",
      "Processing Record 420 of Set 420 | tete\n",
      "Processing Record 421 of Set 421 | semiletka\n",
      "Processing Record 422 of Set 422 | prestea\n",
      "Processing Record 423 of Set 423 | macau\n",
      "Processing Record 424 of Set 424 | carauari\n",
      "Processing Record 425 of Set 425 | satitoa\n",
      "City not found. Skipping...\n",
      "Processing Record 426 of Set 426 | codrington\n",
      "Processing Record 427 of Set 427 | pedernales\n",
      "Processing Record 428 of Set 428 | guerrero negro\n",
      "Processing Record 429 of Set 429 | svetlyy\n",
      "Processing Record 430 of Set 430 | waddan\n",
      "Processing Record 431 of Set 431 | saint george\n",
      "Processing Record 432 of Set 432 | quelimane\n",
      "Processing Record 433 of Set 433 | olenino\n",
      "Processing Record 434 of Set 434 | chara\n",
      "Processing Record 435 of Set 435 | viedma\n",
      "Processing Record 436 of Set 436 | kodiak\n",
      "Processing Record 437 of Set 437 | mikhaylovka\n",
      "Processing Record 438 of Set 438 | pevek\n",
      "Processing Record 439 of Set 439 | batticaloa\n",
      "Processing Record 440 of Set 440 | auki\n",
      "Processing Record 441 of Set 441 | salto del guaira\n",
      "Processing Record 442 of Set 442 | fairlie\n",
      "Processing Record 443 of Set 443 | abu zabad\n",
      "Processing Record 444 of Set 444 | yar-sale\n",
      "Processing Record 445 of Set 445 | mullaitivu\n",
      "City not found. Skipping...\n",
      "Processing Record 446 of Set 446 | alice springs\n",
      "Processing Record 447 of Set 447 | strezhevoy\n",
      "Processing Record 448 of Set 448 | cardona\n",
      "Processing Record 449 of Set 449 | sattahip\n",
      "Processing Record 450 of Set 450 | nemuro\n",
      "Processing Record 451 of Set 451 | billings\n",
      "Processing Record 452 of Set 452 | ostrovnoy\n",
      "Processing Record 453 of Set 453 | samalaeulu\n",
      "City not found. Skipping...\n",
      "Processing Record 454 of Set 454 | dzilam gonzalez\n",
      "Processing Record 455 of Set 455 | kamennomostskoye\n",
      "Processing Record 456 of Set 456 | port moresby\n",
      "Processing Record 457 of Set 457 | nantucket\n",
      "Processing Record 458 of Set 458 | nieuw nickerie\n",
      "Processing Record 459 of Set 459 | broome\n",
      "Processing Record 460 of Set 460 | whitehorse\n",
      "Processing Record 461 of Set 461 | purpe\n",
      "Processing Record 462 of Set 462 | santa margherita ligure\n",
      "Processing Record 463 of Set 463 | aykhal\n",
      "Processing Record 464 of Set 464 | ruatoria\n",
      "City not found. Skipping...\n",
      "Processing Record 465 of Set 465 | rawson\n",
      "Processing Record 466 of Set 466 | mercedes\n",
      "Processing Record 467 of Set 467 | olinda\n",
      "Processing Record 468 of Set 468 | loukhi\n",
      "Processing Record 469 of Set 469 | cabedelo\n",
      "Processing Record 470 of Set 470 | bababe\n",
      "City not found. Skipping...\n",
      "Processing Record 471 of Set 471 | alofi\n",
      "Processing Record 472 of Set 472 | ola\n",
      "Processing Record 473 of Set 473 | shingu\n",
      "Processing Record 474 of Set 474 | port hedland\n",
      "Processing Record 475 of Set 475 | cochrane\n",
      "Processing Record 476 of Set 476 | saint-leu\n",
      "Processing Record 477 of Set 477 | gimbi\n",
      "Processing Record 478 of Set 478 | telde\n",
      "Processing Record 479 of Set 479 | ostersund\n",
      "Processing Record 480 of Set 480 | san diego de los banos\n",
      "Processing Record 481 of Set 481 | maseru\n",
      "Processing Record 482 of Set 482 | grand river south east\n",
      "City not found. Skipping...\n",
      "Processing Record 483 of Set 483 | odweyne\n",
      "Processing Record 484 of Set 484 | iwanai\n",
      "Processing Record 485 of Set 485 | zeerust\n",
      "Processing Record 486 of Set 486 | barra do corda\n",
      "Processing Record 487 of Set 487 | ozernovskiy\n",
      "Processing Record 488 of Set 488 | sabang\n",
      "Processing Record 489 of Set 489 | kungurtug\n",
      "Processing Record 490 of Set 490 | palembang\n",
      "Processing Record 491 of Set 491 | sahrak\n",
      "City not found. Skipping...\n",
      "Processing Record 492 of Set 492 | anloga\n",
      "Processing Record 493 of Set 493 | lere\n",
      "Processing Record 494 of Set 494 | rodrigues alves\n",
      "Processing Record 495 of Set 495 | pochutla\n",
      "Processing Record 496 of Set 496 | spearfish\n",
      "Processing Record 497 of Set 497 | jumla\n",
      "Processing Record 498 of Set 498 | khorixas\n",
      "Processing Record 499 of Set 499 | bandarbeyla\n",
      "Processing Record 500 of Set 500 | kuznechnoye\n",
      "Processing Record 501 of Set 501 | lynden\n",
      "Processing Record 502 of Set 502 | goure\n",
      "Processing Record 503 of Set 503 | morros\n",
      "Processing Record 504 of Set 504 | moree\n",
      "Processing Record 505 of Set 505 | marsh harbour\n",
      "Processing Record 506 of Set 506 | heilbad heiligenstadt\n",
      "Processing Record 507 of Set 507 | kyzyl-suu\n",
      "Processing Record 508 of Set 508 | suntar\n",
      "Processing Record 509 of Set 509 | porto novo\n",
      "Processing Record 510 of Set 510 | zhanaozen\n",
      "Processing Record 511 of Set 511 | shellbrook\n",
      "Processing Record 512 of Set 512 | chipinge\n",
      "Processing Record 513 of Set 513 | xique-xique\n",
      "Processing Record 514 of Set 514 | samusu\n",
      "City not found. Skipping...\n",
      "Processing Record 515 of Set 515 | buta\n",
      "Processing Record 516 of Set 516 | newport\n",
      "Processing Record 517 of Set 517 | vanimo\n",
      "Processing Record 518 of Set 518 | sinnamary\n",
      "Processing Record 519 of Set 519 | tura\n",
      "Processing Record 520 of Set 520 | sinkat\n",
      "City not found. Skipping...\n",
      "Processing Record 521 of Set 521 | dawlatabad\n",
      "Processing Record 522 of Set 522 | mae hong son\n",
      "Processing Record 523 of Set 523 | basco\n",
      "Processing Record 524 of Set 524 | takayama\n",
      "Processing Record 525 of Set 525 | khobi\n",
      "Processing Record 526 of Set 526 | kaeo\n",
      "Processing Record 527 of Set 527 | basna\n",
      "Processing Record 528 of Set 528 | kautokeino\n",
      "Processing Record 529 of Set 529 | kachug\n",
      "Processing Record 530 of Set 530 | visby\n",
      "Processing Record 531 of Set 531 | luena\n",
      "Processing Record 532 of Set 532 | alamogordo\n",
      "Processing Record 533 of Set 533 | voh\n",
      "Processing Record 534 of Set 534 | celestun\n",
      "Processing Record 535 of Set 535 | kuito\n",
      "Processing Record 536 of Set 536 | bull savanna\n",
      "Processing Record 537 of Set 537 | san quintin\n",
      "Processing Record 538 of Set 538 | coffeyville\n",
      "Processing Record 539 of Set 539 | panzhihua\n",
      "Processing Record 540 of Set 540 | kichmengskiy gorodok\n",
      "Processing Record 541 of Set 541 | ketchenery\n",
      "City not found. Skipping...\n",
      "Processing Record 542 of Set 542 | skibbereen\n",
      "Processing Record 543 of Set 543 | masallatah\n",
      "Processing Record 544 of Set 544 | shimoda\n",
      "Processing Record 545 of Set 545 | namibe\n",
      "Processing Record 546 of Set 546 | saint-joseph\n",
      "Processing Record 547 of Set 547 | chifeng\n",
      "Processing Record 548 of Set 548 | qaqortoq\n",
      "Processing Record 549 of Set 549 | kirkenes\n",
      "Processing Record 550 of Set 550 | dauphin\n",
      "Processing Record 551 of Set 551 | la asuncion\n",
      "Processing Record 552 of Set 552 | batagay-alyta\n",
      "Processing Record 553 of Set 553 | bur gabo\n",
      "City not found. Skipping...\n",
      "Processing Record 554 of Set 554 | coahuayana\n",
      "Processing Record 555 of Set 555 | kama\n",
      "Processing Record 556 of Set 556 | bulungu\n",
      "Processing Record 557 of Set 557 | cajaruro\n",
      "Processing Record 558 of Set 558 | vitim\n",
      "Processing Record 559 of Set 559 | libreville\n",
      "Processing Record 560 of Set 560 | mata\n",
      "Processing Record 561 of Set 561 | havelock\n",
      "Processing Record 562 of Set 562 | hailey\n",
      "Processing Record 563 of Set 563 | fort-shevchenko\n",
      "Processing Record 564 of Set 564 | clermont\n",
      "Processing Record 565 of Set 565 | conceicao do araguaia\n",
      "Processing Record 566 of Set 566 | fortuna\n",
      "Processing Record 567 of Set 567 | dalvik\n",
      "Processing Record 568 of Set 568 | sovetskiy\n",
      "Processing Record 569 of Set 569 | isabela\n",
      "Processing Record 570 of Set 570 | daxian\n",
      "City not found. Skipping...\n",
      "Processing Record 571 of Set 571 | dongying\n",
      "Processing Record 572 of Set 572 | kirakira\n",
      "Processing Record 573 of Set 573 | murmansk\n",
      "Processing Record 574 of Set 574 | volga\n",
      "Processing Record 575 of Set 575 | tiruvottiyur\n",
      "City not found. Skipping...\n",
      "Processing Record 576 of Set 576 | xiaoweizhai\n",
      "Processing Record 577 of Set 577 | praia\n",
      "Processing Record 578 of Set 578 | ivanteyevka\n",
      "Processing Record 579 of Set 579 | grand forks\n",
      "Processing Record 580 of Set 580 | antalaha\n",
      "Processing Record 581 of Set 581 | kramat\n",
      "Processing Record 582 of Set 582 | lephepe\n",
      "City not found. Skipping...\n",
      "Processing Record 583 of Set 583 | mayo\n",
      "Processing Record 584 of Set 584 | gogrial\n",
      "Processing Record 585 of Set 585 | maceio\n",
      "Processing Record 586 of Set 586 | aranos\n",
      "Processing Record 587 of Set 587 | seminole\n",
      "Processing Record 588 of Set 588 | katakwi\n",
      "Processing Record 589 of Set 589 | tugolesskiy bor\n",
      "Processing Record 590 of Set 590 | cootamundra\n",
      "Processing Record 591 of Set 591 | athens\n",
      "Processing Record 592 of Set 592 | zhuhai\n",
      "Processing Record 593 of Set 593 | namatanai\n",
      "Processing Record 594 of Set 594 | shenjiamen\n",
      "Processing Record 595 of Set 595 | sofiyivka\n",
      "Processing Record 596 of Set 596 | puerto madero\n",
      "Processing Record 597 of Set 597 | urumqi\n",
      "Processing Record 598 of Set 598 | teahupoo\n",
      "Processing Record 599 of Set 599 | nampula\n",
      "Processing Record 600 of Set 600 | zhurivka\n",
      "Processing Record 601 of Set 601 | armizonskoye\n",
      "Processing Record 602 of Set 602 | gazni\n",
      "City not found. Skipping...\n",
      "Processing Record 603 of Set 603 | taburi\n",
      "City not found. Skipping...\n",
      "Processing Record 604 of Set 604 | itacoatiara\n",
      "Processing Record 605 of Set 605 | dibulla\n",
      "Processing Record 606 of Set 606 | manyana\n",
      "Processing Record 607 of Set 607 | surt\n",
      "Processing Record 608 of Set 608 | phan rang\n",
      "City not found. Skipping...\n",
      "Processing Record 609 of Set 609 | krasnoselkup\n",
      "-----------------------------\n",
      "Data Retrieval Complete      \n",
      "-----------------------------\n"
     ]
    }
   ],
   "source": [
    "#Creat Lists\n",
    "City = []\n",
    "Cloudiness = []    \n",
    "Country = []       \n",
    "Date = []          \n",
    "Humidity = []      \n",
    "Lat = []           \n",
    "Lng = []           \n",
    "Max_Temp = []      \n",
    "Wind_Speed = []\n",
    "\n",
    "#Set Units\n",
    "units = \"imperial\"\n",
    "\n",
    "#Set URL\n",
    "url = \"http://api.openweathermap.org/data/2.5/weather?\"\n",
    "\n",
    "#Start Print\n",
    "print(\"Beginning Data Retrieval     \")\n",
    "print(\"-----------------------------\")\n",
    "\n",
    "# Set start point for counters\n",
    "record_count = 0\n",
    "set_count = 0\n",
    "\n",
    "#Create loop\n",
    "for city in cities:\n",
    "\n",
    "    # Set URL\n",
    "    city_url = f\"{url}appid={weather_api_key}&units={units}&q=\"\n",
    "\n",
    "    # Create the print for checking the data\n",
    "    print(\"Processing Record %s of Set %s | %s\" % (record_count, set_count, city))\n",
    "\n",
    "    # Add 1 to the count for every city\n",
    "    record_count += 1\n",
    "    set_count += 1\n",
    "    \n",
    "    try:\n",
    "        # Use json to collect the data\n",
    "        weather_data = requests.get(city_url + city).json()\n",
    "\n",
    "        # Append data to create dataframe \n",
    "        City.append(weather_data[\"name\"])\n",
    "        Cloudiness.append(weather_data[\"clouds\"][\"all\"])   \n",
    "        Country.append(weather_data[\"sys\"][\"country\"])      \n",
    "        Date.append(weather_data[\"dt\"])         \n",
    "        Humidity.append(weather_data[\"main\"][\"humidity\"])     \n",
    "        Lat.append(weather_data['coord']['lat'])          \n",
    "        Lng.append(weather_data['coord']['lon'])           \n",
    "        Max_Temp.append(weather_data[\"main\"][\"temp_max\"])    \n",
    "        Wind_Speed.append(weather_data[\"wind\"][\"speed\"])\n",
    "\n",
    "        # Create Dataframe\n",
    "        weather_df = pd.DataFrame({\n",
    "                                    \"City\": (City),\n",
    "                                   \"Cloudiness\":(Cloudiness),     \n",
    "                                    \"Country\":(Country),        \n",
    "                                    \"Date\":(Date),           \n",
    "                                    \"Humidity\":(Humidity),       \n",
    "                                    \"Lat\":(Lat),            \n",
    "                                    \"Lng\":(Lng),            \n",
    "                                    \"Max Temp\":(Max_Temp),       \n",
    "                                    \"Wind Speed\":(Wind_Speed) \n",
    "                                   })\n",
    "        weather_df = weather_df[[\n",
    "                                    \"City\",\n",
    "                                    \"Cloudiness\",     \n",
    "                                    \"Country\",        \n",
    "                                    \"Date\",           \n",
    "                                    \"Humidity\",       \n",
    "                                    \"Lat\",            \n",
    "                                    \"Lng\",            \n",
    "                                    \"Max Temp\",      \n",
    "                                    \"Wind Speed\" \n",
    "                                        ]]\n",
    "        weather_df\n",
    "\n",
    "    # Print error line if city not found\n",
    "    except:\n",
    "        print(\"City not found. Skipping...\")\n",
    "    pass\n",
    "              \n",
    "# Print completion line \n",
    "print(\"-----------------------------\")\n",
    "print(\"Data Retrieval Complete      \")\n",
    "print(\"-----------------------------\")    \n"
   ]
  },
  {
   "cell_type": "markdown",
   "metadata": {},
   "source": [
    "### Convert Raw Data to DataFrame\n",
    "* Export the city data into a .csv.\n",
    "* Display the DataFrame"
   ]
  },
  {
   "cell_type": "code",
   "execution_count": 4,
   "metadata": {},
   "outputs": [
    {
     "data": {
      "text/html": [
       "<div>\n",
       "<style scoped>\n",
       "    .dataframe tbody tr th:only-of-type {\n",
       "        vertical-align: middle;\n",
       "    }\n",
       "\n",
       "    .dataframe tbody tr th {\n",
       "        vertical-align: top;\n",
       "    }\n",
       "\n",
       "    .dataframe thead th {\n",
       "        text-align: right;\n",
       "    }\n",
       "</style>\n",
       "<table border=\"1\" class=\"dataframe\">\n",
       "  <thead>\n",
       "    <tr style=\"text-align: right;\">\n",
       "      <th></th>\n",
       "      <th>City</th>\n",
       "      <th>Cloudiness</th>\n",
       "      <th>Country</th>\n",
       "      <th>Date</th>\n",
       "      <th>Humidity</th>\n",
       "      <th>Lat</th>\n",
       "      <th>Lng</th>\n",
       "      <th>Max Temp</th>\n",
       "      <th>Wind Speed</th>\n",
       "    </tr>\n",
       "  </thead>\n",
       "  <tbody>\n",
       "    <tr>\n",
       "      <th>0</th>\n",
       "      <td>Saskylakh</td>\n",
       "      <td>99</td>\n",
       "      <td>RU</td>\n",
       "      <td>1588458487</td>\n",
       "      <td>93</td>\n",
       "      <td>71.92</td>\n",
       "      <td>114.08</td>\n",
       "      <td>11.86</td>\n",
       "      <td>5.26</td>\n",
       "    </tr>\n",
       "    <tr>\n",
       "      <th>1</th>\n",
       "      <td>Los Llanos de Aridane</td>\n",
       "      <td>90</td>\n",
       "      <td>ES</td>\n",
       "      <td>1588458487</td>\n",
       "      <td>73</td>\n",
       "      <td>28.66</td>\n",
       "      <td>-17.92</td>\n",
       "      <td>69.80</td>\n",
       "      <td>3.36</td>\n",
       "    </tr>\n",
       "    <tr>\n",
       "      <th>2</th>\n",
       "      <td>Nikolskoye</td>\n",
       "      <td>99</td>\n",
       "      <td>RU</td>\n",
       "      <td>1588458487</td>\n",
       "      <td>61</td>\n",
       "      <td>59.70</td>\n",
       "      <td>30.79</td>\n",
       "      <td>52.00</td>\n",
       "      <td>8.95</td>\n",
       "    </tr>\n",
       "    <tr>\n",
       "      <th>3</th>\n",
       "      <td>Praia da Vitória</td>\n",
       "      <td>20</td>\n",
       "      <td>PT</td>\n",
       "      <td>1588458405</td>\n",
       "      <td>82</td>\n",
       "      <td>38.73</td>\n",
       "      <td>-27.07</td>\n",
       "      <td>57.20</td>\n",
       "      <td>8.93</td>\n",
       "    </tr>\n",
       "    <tr>\n",
       "      <th>4</th>\n",
       "      <td>San Cristobal</td>\n",
       "      <td>40</td>\n",
       "      <td>VE</td>\n",
       "      <td>1588458257</td>\n",
       "      <td>55</td>\n",
       "      <td>7.77</td>\n",
       "      <td>-72.22</td>\n",
       "      <td>91.40</td>\n",
       "      <td>11.41</td>\n",
       "    </tr>\n",
       "  </tbody>\n",
       "</table>\n",
       "</div>"
      ],
      "text/plain": [
       "                    City  Cloudiness Country        Date  Humidity    Lat  \\\n",
       "0              Saskylakh          99      RU  1588458487        93  71.92   \n",
       "1  Los Llanos de Aridane          90      ES  1588458487        73  28.66   \n",
       "2             Nikolskoye          99      RU  1588458487        61  59.70   \n",
       "3       Praia da Vitória          20      PT  1588458405        82  38.73   \n",
       "4          San Cristobal          40      VE  1588458257        55   7.77   \n",
       "\n",
       "      Lng  Max Temp  Wind Speed  \n",
       "0  114.08     11.86        5.26  \n",
       "1  -17.92     69.80        3.36  \n",
       "2   30.79     52.00        8.95  \n",
       "3  -27.07     57.20        8.93  \n",
       "4  -72.22     91.40       11.41  "
      ]
     },
     "execution_count": 4,
     "metadata": {},
     "output_type": "execute_result"
    }
   ],
   "source": [
    "#Export Dataframe to csv\n",
    "weather_df.to_csv(r'output_data/cities.csv', index=False, header = True)\n",
    "#Display Dataframe\n",
    "weather_df.head()"
   ]
  },
  {
   "cell_type": "code",
   "execution_count": null,
   "metadata": {},
   "outputs": [],
   "source": []
  },
  {
   "cell_type": "markdown",
   "metadata": {},
   "source": [
    "### Plotting the Data\n",
    "* Use proper labeling of the plots using plot titles (including date of analysis) and axes labels.\n",
    "* Save the plotted figures as .pngs."
   ]
  },
  {
   "cell_type": "markdown",
   "metadata": {},
   "source": [
    "#### Latitude vs. Temperature Plot"
   ]
  },
  {
   "cell_type": "code",
   "execution_count": 5,
   "metadata": {
    "scrolled": true
   },
   "outputs": [
    {
     "data": {
      "image/png": "[encoded data removed]",
      "text/plain": [
       "<Figure size 432x288 with 1 Axes>"
      ]
     },
     "metadata": {
      "needs_background": "light"
     },
     "output_type": "display_data"
    }
   ],
   "source": [
    "# Create scatter plot\n",
    "plt.scatter(weather_df[\"Lat\"], weather_df[\"Max Temp\"], marker=\"o\")\n",
    "\n",
    "# Add labels\n",
    "plt.title(\"Latitude vs. Temperature 04/24/2020\")\n",
    "plt.ylabel(\"Max Temperature\")\n",
    "plt.xlabel(\"Latitude\")\n",
    "plt.grid(True)\n",
    "\n",
    "# Create Png\n",
    "plt.savefig(\"LatitudeVs.TemperaturePlot.png\")\n",
    "\n",
    "# Show plot\n",
    "plt.show()"
   ]
  },
  {
   "cell_type": "markdown",
   "metadata": {},
   "source": [
    "This plot looks at whether latitude affects the maximum temperature of the city, and we can see that it does the cities closest to zero having higher temperatures and the temp dropping on either side of 0.  "
   ]
  },
  {
   "cell_type": "markdown",
   "metadata": {},
   "source": [
    "#### Latitude vs. Humidity Plot"
   ]
  },
  {
   "cell_type": "code",
   "execution_count": 6,
   "metadata": {},
   "outputs": [
    {
     "data": {
      "image/png": "[encoded data removed]",
      "text/plain": [
       "<Figure size 432x288 with 1 Axes>"
      ]
     },
     "metadata": {
      "needs_background": "light"
     },
     "output_type": "display_data"
    }
   ],
   "source": [
    "# Create scatter plot\n",
    "plt.scatter(weather_df[\"Lat\"], weather_df[\"Humidity\"], marker=\"o\")\n",
    "\n",
    "# Add labels\n",
    "plt.title(\"Latitude vs. Humidity 04/24/2020\")\n",
    "plt.ylabel(\"Humidity\")\n",
    "plt.xlabel(\"Latitude\")\n",
    "plt.grid(True)\n",
    "\n",
    "# Create Png\n",
    "plt.savefig(\"LatitudeVs.HumidityPlot.png\")\n",
    "\n",
    "# Show plot\n",
    "plt.show()"
   ]
  },
  {
   "cell_type": "markdown",
   "metadata": {},
   "source": [
    "This plot looks at whether latitude affects the humidity of the city, and we can see there is a slight amount of correlation around the 0 latitude there is higher humidity. However, the rest of the data points do not show strong correlation.   "
   ]
  },
  {
   "cell_type": "markdown",
   "metadata": {},
   "source": [
    "#### Latitude vs. Cloudiness Plot"
   ]
  },
  {
   "cell_type": "code",
   "execution_count": 7,
   "metadata": {},
   "outputs": [
    {
     "data": {
      "image/png": "[encoded data removed]",
      "text/plain": [
       "<Figure size 432x288 with 1 Axes>"
      ]
     },
     "metadata": {
      "needs_background": "light"
     },
     "output_type": "display_data"
    }
   ],
   "source": [
    "# Create scatter plot\n",
    "plt.scatter(weather_df[\"Lat\"], weather_df[\"Cloudiness\"], marker=\"o\")\n",
    "\n",
    "# Add labels\n",
    "plt.title(\"Latitude vs. Cloudiness 04/24/2020\")\n",
    "plt.ylabel(\"Cloudiness\")\n",
    "plt.xlabel(\"Latitude\")\n",
    "plt.grid(True)\n",
    "\n",
    "# Create Png\n",
    "plt.savefig(\"LatitudeVs.CloudinessPlot.png\")\n",
    "\n",
    "# Show plot\n",
    "plt.show()"
   ]
  },
  {
   "cell_type": "markdown",
   "metadata": {},
   "source": [
    "This plot looks at whether latitude affects the cloudiness of the city, and we can see that it does not because of the non-correlated data points.  "
   ]
  },
  {
   "cell_type": "markdown",
   "metadata": {},
   "source": [
    "#### Latitude vs. Wind Speed Plot"
   ]
  },
  {
   "cell_type": "code",
   "execution_count": 8,
   "metadata": {},
   "outputs": [
    {
     "data": {
      "image/png": "[encoded data removed]",
      "text/plain": [
       "<Figure size 432x288 with 1 Axes>"
      ]
     },
     "metadata": {
      "needs_background": "light"
     },
     "output_type": "display_data"
    }
   ],
   "source": [
    "# Create scatter plot\n",
    "plt.scatter(weather_df[\"Lat\"], weather_df[\"Wind Speed\"], marker=\"o\")\n",
    "\n",
    "# Add labels\n",
    "plt.title(\"Latitude vs. Wind Speed 04/24/2020\")\n",
    "plt.ylabel(\"Wind Speed\")\n",
    "plt.xlabel(\"Latitude\")\n",
    "plt.grid(True)\n",
    "\n",
    "# Create Png\n",
    "plt.savefig(\"LatitudeVs.WindSpeedPlot.png\")\n",
    "\n",
    "# Show plot\n",
    "plt.show()"
   ]
  },
  {
   "cell_type": "markdown",
   "metadata": {},
   "source": [
    "This plot looks at whether latitude affects the wind speed in a city, and we can see that it does not because the data points are consistent across the graph no matter their latitude.  "
   ]
  },
  {
   "cell_type": "markdown",
   "metadata": {},
   "source": [
    "## Linear Regression"
   ]
  },
  {
   "cell_type": "code",
   "execution_count": 9,
   "metadata": {},
   "outputs": [],
   "source": [
    "# OPTIONAL: Create a function to create Linear Regression plots\n"
   ]
  },
  {
   "cell_type": "code",
   "execution_count": 10,
   "metadata": {},
   "outputs": [
    {
     "data": {
      "text/html": [
       "<div>\n",
       "<style scoped>\n",
       "    .dataframe tbody tr th:only-of-type {\n",
       "        vertical-align: middle;\n",
       "    }\n",
       "\n",
       "    .dataframe tbody tr th {\n",
       "        vertical-align: top;\n",
       "    }\n",
       "\n",
       "    .dataframe thead th {\n",
       "        text-align: right;\n",
       "    }\n",
       "</style>\n",
       "<table border=\"1\" class=\"dataframe\">\n",
       "  <thead>\n",
       "    <tr style=\"text-align: right;\">\n",
       "      <th></th>\n",
       "      <th>City</th>\n",
       "      <th>Cloudiness</th>\n",
       "      <th>Country</th>\n",
       "      <th>Date</th>\n",
       "      <th>Humidity</th>\n",
       "      <th>Lat</th>\n",
       "      <th>Lng</th>\n",
       "      <th>Max Temp</th>\n",
       "      <th>Wind Speed</th>\n",
       "    </tr>\n",
       "  </thead>\n",
       "  <tbody>\n",
       "    <tr>\n",
       "      <th>0</th>\n",
       "      <td>Saskylakh</td>\n",
       "      <td>99</td>\n",
       "      <td>RU</td>\n",
       "      <td>1588458487</td>\n",
       "      <td>93</td>\n",
       "      <td>71.92</td>\n",
       "      <td>114.08</td>\n",
       "      <td>11.86</td>\n",
       "      <td>5.26</td>\n",
       "    </tr>\n",
       "    <tr>\n",
       "      <th>1</th>\n",
       "      <td>Los Llanos de Aridane</td>\n",
       "      <td>90</td>\n",
       "      <td>ES</td>\n",
       "      <td>1588458487</td>\n",
       "      <td>73</td>\n",
       "      <td>28.66</td>\n",
       "      <td>-17.92</td>\n",
       "      <td>69.80</td>\n",
       "      <td>3.36</td>\n",
       "    </tr>\n",
       "    <tr>\n",
       "      <th>2</th>\n",
       "      <td>Nikolskoye</td>\n",
       "      <td>99</td>\n",
       "      <td>RU</td>\n",
       "      <td>1588458487</td>\n",
       "      <td>61</td>\n",
       "      <td>59.70</td>\n",
       "      <td>30.79</td>\n",
       "      <td>52.00</td>\n",
       "      <td>8.95</td>\n",
       "    </tr>\n",
       "    <tr>\n",
       "      <th>3</th>\n",
       "      <td>Praia da Vitória</td>\n",
       "      <td>20</td>\n",
       "      <td>PT</td>\n",
       "      <td>1588458405</td>\n",
       "      <td>82</td>\n",
       "      <td>38.73</td>\n",
       "      <td>-27.07</td>\n",
       "      <td>57.20</td>\n",
       "      <td>8.93</td>\n",
       "    </tr>\n",
       "    <tr>\n",
       "      <th>4</th>\n",
       "      <td>San Cristobal</td>\n",
       "      <td>40</td>\n",
       "      <td>VE</td>\n",
       "      <td>1588458257</td>\n",
       "      <td>55</td>\n",
       "      <td>7.77</td>\n",
       "      <td>-72.22</td>\n",
       "      <td>91.40</td>\n",
       "      <td>11.41</td>\n",
       "    </tr>\n",
       "  </tbody>\n",
       "</table>\n",
       "</div>"
      ],
      "text/plain": [
       "                    City  Cloudiness Country        Date  Humidity    Lat  \\\n",
       "0              Saskylakh          99      RU  1588458487        93  71.92   \n",
       "1  Los Llanos de Aridane          90      ES  1588458487        73  28.66   \n",
       "2             Nikolskoye          99      RU  1588458487        61  59.70   \n",
       "3       Praia da Vitória          20      PT  1588458405        82  38.73   \n",
       "4          San Cristobal          40      VE  1588458257        55   7.77   \n",
       "\n",
       "      Lng  Max Temp  Wind Speed  \n",
       "0  114.08     11.86        5.26  \n",
       "1  -17.92     69.80        3.36  \n",
       "2   30.79     52.00        8.95  \n",
       "3  -27.07     57.20        8.93  \n",
       "4  -72.22     91.40       11.41  "
      ]
     },
     "execution_count": 10,
     "metadata": {},
     "output_type": "execute_result"
    }
   ],
   "source": [
    "# Create Northern Hemisphere DataFrame\n",
    "northern_df = weather_df.query(\"Lat >= 0\")\n",
    "northern_df = northern_df.reset_index(drop=True)\n",
    "northern_df.head()"
   ]
  },
  {
   "cell_type": "code",
   "execution_count": 11,
   "metadata": {},
   "outputs": [
    {
     "data": {
      "text/html": [
       "<div>\n",
       "<style scoped>\n",
       "    .dataframe tbody tr th:only-of-type {\n",
       "        vertical-align: middle;\n",
       "    }\n",
       "\n",
       "    .dataframe tbody tr th {\n",
       "        vertical-align: top;\n",
       "    }\n",
       "\n",
       "    .dataframe thead th {\n",
       "        text-align: right;\n",
       "    }\n",
       "</style>\n",
       "<table border=\"1\" class=\"dataframe\">\n",
       "  <thead>\n",
       "    <tr style=\"text-align: right;\">\n",
       "      <th></th>\n",
       "      <th>City</th>\n",
       "      <th>Cloudiness</th>\n",
       "      <th>Country</th>\n",
       "      <th>Date</th>\n",
       "      <th>Humidity</th>\n",
       "      <th>Lat</th>\n",
       "      <th>Lng</th>\n",
       "      <th>Max Temp</th>\n",
       "      <th>Wind Speed</th>\n",
       "    </tr>\n",
       "  </thead>\n",
       "  <tbody>\n",
       "    <tr>\n",
       "      <th>0</th>\n",
       "      <td>Ushuaia</td>\n",
       "      <td>8</td>\n",
       "      <td>AR</td>\n",
       "      <td>1588458488</td>\n",
       "      <td>76</td>\n",
       "      <td>-54.80</td>\n",
       "      <td>-68.30</td>\n",
       "      <td>48.20</td>\n",
       "      <td>10.29</td>\n",
       "    </tr>\n",
       "    <tr>\n",
       "      <th>1</th>\n",
       "      <td>Domoni</td>\n",
       "      <td>46</td>\n",
       "      <td>KM</td>\n",
       "      <td>1588458488</td>\n",
       "      <td>79</td>\n",
       "      <td>-12.26</td>\n",
       "      <td>44.53</td>\n",
       "      <td>78.98</td>\n",
       "      <td>10.49</td>\n",
       "    </tr>\n",
       "    <tr>\n",
       "      <th>2</th>\n",
       "      <td>Arraial do Cabo</td>\n",
       "      <td>75</td>\n",
       "      <td>BR</td>\n",
       "      <td>1588458393</td>\n",
       "      <td>83</td>\n",
       "      <td>-22.97</td>\n",
       "      <td>-42.03</td>\n",
       "      <td>75.20</td>\n",
       "      <td>12.75</td>\n",
       "    </tr>\n",
       "    <tr>\n",
       "      <th>3</th>\n",
       "      <td>Opuwo</td>\n",
       "      <td>6</td>\n",
       "      <td>NA</td>\n",
       "      <td>1588458489</td>\n",
       "      <td>31</td>\n",
       "      <td>-18.06</td>\n",
       "      <td>13.84</td>\n",
       "      <td>65.64</td>\n",
       "      <td>2.55</td>\n",
       "    </tr>\n",
       "    <tr>\n",
       "      <th>4</th>\n",
       "      <td>Mwaro Province</td>\n",
       "      <td>100</td>\n",
       "      <td>BI</td>\n",
       "      <td>1588458489</td>\n",
       "      <td>52</td>\n",
       "      <td>-3.50</td>\n",
       "      <td>29.67</td>\n",
       "      <td>58.19</td>\n",
       "      <td>0.87</td>\n",
       "    </tr>\n",
       "  </tbody>\n",
       "</table>\n",
       "</div>"
      ],
      "text/plain": [
       "              City  Cloudiness Country        Date  Humidity    Lat    Lng  \\\n",
       "0          Ushuaia           8      AR  1588458488        76 -54.80 -68.30   \n",
       "1           Domoni          46      KM  1588458488        79 -12.26  44.53   \n",
       "2  Arraial do Cabo          75      BR  1588458393        83 -22.97 -42.03   \n",
       "3            Opuwo           6      NA  1588458489        31 -18.06  13.84   \n",
       "4   Mwaro Province         100      BI  1588458489        52  -3.50  29.67   \n",
       "\n",
       "   Max Temp  Wind Speed  \n",
       "0     48.20       10.29  \n",
       "1     78.98       10.49  \n",
       "2     75.20       12.75  \n",
       "3     65.64        2.55  \n",
       "4     58.19        0.87  "
      ]
     },
     "execution_count": 11,
     "metadata": {},
     "output_type": "execute_result"
    }
   ],
   "source": [
    "#Create Southern Hemisphere DataFrame\n",
    "southern_df = weather_df.query(\"Lat <= 0\")\n",
    "southern_df = southern_df.reset_index(drop=True)\n",
    "southern_df.head()"
   ]
  },
  {
   "cell_type": "markdown",
   "metadata": {},
   "source": [
    "####  Northern Hemisphere - Max Temp vs. Latitude Linear Regression"
   ]
  },
  {
   "cell_type": "code",
   "execution_count": 12,
   "metadata": {},
   "outputs": [
    {
     "data": {
      "image/png": "[encoded data removed]",
      "text/plain": [
       "<Figure size 432x288 with 1 Axes>"
      ]
     },
     "metadata": {
      "needs_background": "light"
     },
     "output_type": "display_data"
    },
    {
     "name": "stdout",
     "output_type": "stream",
     "text": [
      "-0.8956902508414645\n"
     ]
    }
   ],
   "source": [
    "# Create values\n",
    "lat = northern_df[\"Lat\"]\n",
    "temp = northern_df[\"Max Temp\"]\n",
    "\n",
    "#Linear Regression & Scatter\n",
    "(slope, intercept, rvalue, pvalue, stderr) = linregress(lat, temp)\n",
    "regress_values = lat * slope + intercept\n",
    "line_eq = \"y = \" + str(round(slope,2)) + \"x + \" + str(round(intercept,2))\n",
    "plt.scatter(northern_df[\"Lat\"], northern_df[\"Max Temp\"], marker=\"o\")\n",
    "plt.plot(lat,regress_values,\"r-\")\n",
    "plt.annotate(line_eq,(6,10),fontsize=15,color=\"red\")\n",
    "\n",
    "# Add labels\n",
    "plt.title(\"Latitude vs. Temperature 04/24/2020\")\n",
    "plt.ylabel(\"Max Temperature\")\n",
    "plt.xlabel(\"Latitude\")\n",
    "plt.grid(True)\n",
    "\n",
    "# Create Png\n",
    "plt.savefig(\"NHLatitudeVs.TemperaturePlot.png\")\n",
    "\n",
    "# Show plot\n",
    "plt.show()\n",
    "print(rvalue)"
   ]
  },
  {
   "cell_type": "markdown",
   "metadata": {},
   "source": [
    "This plot looks at whether latitude affects the temperature in the city, and we can see that it does because of the clear corraltion between the closer to 0 the higher the temperature.  "
   ]
  },
  {
   "cell_type": "markdown",
   "metadata": {},
   "source": [
    "####  Southern Hemisphere - Max Temp vs. Latitude Linear Regression"
   ]
  },
  {
   "cell_type": "code",
   "execution_count": 13,
   "metadata": {},
   "outputs": [
    {
     "data": {
      "image/png": "[encoded data removed]",
      "text/plain": [
       "<Figure size 432x288 with 1 Axes>"
      ]
     },
     "metadata": {
      "needs_background": "light"
     },
     "output_type": "display_data"
    },
    {
     "name": "stdout",
     "output_type": "stream",
     "text": [
      "0.7351015211485876\n"
     ]
    }
   ],
   "source": [
    "# Create values\n",
    "lat = southern_df[\"Lat\"]\n",
    "temp = southern_df[\"Max Temp\"]\n",
    "\n",
    "#Linear Regression & Scatter\n",
    "(slope, intercept, rvalue, pvalue, stderr) = linregress(lat, temp)\n",
    "regress_values = lat * slope + intercept\n",
    "line_eq = \"y = \" + str(round(slope,2)) + \"x + \" + str(round(intercept,2))\n",
    "plt.scatter(southern_df[\"Lat\"], southern_df[\"Max Temp\"], marker=\"o\")\n",
    "plt.plot(lat,regress_values,\"r-\")\n",
    "plt.annotate(line_eq,(-25, 50),fontsize=15,color=\"red\")\n",
    "\n",
    "# Add labels\n",
    "plt.title(\"Latitude vs. Temperature 04/24/2020\")\n",
    "plt.ylabel(\"Max Temperature\")\n",
    "plt.xlabel(\"Latitude\")\n",
    "plt.grid(True)\n",
    "\n",
    "# Create Png\n",
    "plt.savefig(\"SHLatitudeVs.TemperaturePlot.png\")\n",
    "\n",
    "# Show plot\n",
    "plt.show()\n",
    "print(rvalue)"
   ]
  },
  {
   "cell_type": "markdown",
   "metadata": {},
   "source": [
    "This plot looks at whether latitude affects the temperature in the city, and we can see that it does because of the clear corraltion between the closer to 0 the higher the temperature.  "
   ]
  },
  {
   "cell_type": "markdown",
   "metadata": {},
   "source": [
    "####  Northern Hemisphere - Humidity (%) vs. Latitude Linear Regression"
   ]
  },
  {
   "cell_type": "code",
   "execution_count": 14,
   "metadata": {},
   "outputs": [
    {
     "data": {
      "image/png": "[encoded data removed]",
      "text/plain": [
       "<Figure size 432x288 with 1 Axes>"
      ]
     },
     "metadata": {
      "needs_background": "light"
     },
     "output_type": "display_data"
    },
    {
     "name": "stdout",
     "output_type": "stream",
     "text": [
      "0.2064652316168332\n"
     ]
    }
   ],
   "source": [
    "# Create values\n",
    "lat = northern_df[\"Lat\"]\n",
    "humidity = northern_df[\"Humidity\"]\n",
    "\n",
    "#Linear Regression & Scatter\n",
    "(slope, intercept, rvalue, pvalue, stderr) = linregress(lat, humidity)\n",
    "regress_values = lat * slope + intercept\n",
    "line_eq = \"y = \" + str(round(slope,2)) + \"x + \" + str(round(intercept,2))\n",
    "plt.scatter(northern_df[\"Lat\"], northern_df[\"Humidity\"], marker=\"o\")\n",
    "plt.plot(lat,regress_values,\"r-\")\n",
    "plt.annotate(line_eq,(6,10),fontsize=15,color=\"red\")\n",
    "\n",
    "# Add labels\n",
    "plt.title(\"Latitude vs. Humidity 04/24/2020\")\n",
    "plt.ylabel(\"Humidity\")\n",
    "plt.xlabel(\"Latitude\")\n",
    "plt.grid(True)\n",
    "\n",
    "# Create Png\n",
    "plt.savefig(\"NHLatitudeVs.HumidityPlot.png\")\n",
    "\n",
    "# Show plot\n",
    "plt.show()\n",
    "print(rvalue)"
   ]
  },
  {
   "cell_type": "markdown",
   "metadata": {},
   "source": [
    "This plot looks at whether latitude affects the humidity of the city, and we can see there is a slight amount of correlation around with the higher the latitude the higher the humidity.  "
   ]
  },
  {
   "cell_type": "markdown",
   "metadata": {},
   "source": [
    "####  Southern Hemisphere - Humidity (%) vs. Latitude Linear Regression"
   ]
  },
  {
   "cell_type": "code",
   "execution_count": 15,
   "metadata": {},
   "outputs": [
    {
     "data": {
      "image/png": "[encoded data removed]",
      "text/plain": [
       "<Figure size 432x288 with 1 Axes>"
      ]
     },
     "metadata": {
      "needs_background": "light"
     },
     "output_type": "display_data"
    },
    {
     "name": "stdout",
     "output_type": "stream",
     "text": [
      "0.11424127442531459\n"
     ]
    }
   ],
   "source": [
    "# Create values\n",
    "lat = southern_df[\"Lat\"]\n",
    "humidity = southern_df[\"Humidity\"]\n",
    "\n",
    "#Linear Regression & Scatter\n",
    "(slope, intercept, rvalue, pvalue, stderr) = linregress(lat, humidity)\n",
    "regress_values = lat * slope + intercept\n",
    "line_eq = \"y = \" + str(round(slope,2)) + \"x + \" + str(round(intercept,2))\n",
    "plt.scatter(southern_df[\"Lat\"], southern_df[\"Humidity\"], marker=\"o\")\n",
    "plt.plot(lat,regress_values,\"r-\")\n",
    "plt.annotate(line_eq,(-25, 50),fontsize=15,color=\"red\")\n",
    "\n",
    "# Add labels\n",
    "plt.title(\"Latitude vs. Humidity 04/24/2020\")\n",
    "plt.ylabel(\"Humidity\")\n",
    "plt.xlabel(\"Latitude\")\n",
    "plt.grid(True)\n",
    "\n",
    "# Create Png\n",
    "plt.savefig(\"SHLatitudeVs.HumidityPlot.png\")\n",
    "\n",
    "# Show plot\n",
    "plt.show()\n",
    "print(rvalue)"
   ]
  },
  {
   "cell_type": "markdown",
   "metadata": {},
   "source": [
    "This plot looks at whether latitude affects the humidity of the city, and we can see there is very little correlation between these datapoints. "
   ]
  },
  {
   "cell_type": "markdown",
   "metadata": {},
   "source": [
    "####  Northern Hemisphere - Cloudiness (%) vs. Latitude Linear Regression"
   ]
  },
  {
   "cell_type": "code",
   "execution_count": 16,
   "metadata": {},
   "outputs": [
    {
     "data": {
      "image/png": "[encoded data removed]",
      "text/plain": [
       "<Figure size 432x288 with 1 Axes>"
      ]
     },
     "metadata": {
      "needs_background": "light"
     },
     "output_type": "display_data"
    },
    {
     "name": "stdout",
     "output_type": "stream",
     "text": [
      "0.16908493484200487\n"
     ]
    }
   ],
   "source": [
    "# Create values\n",
    "lat = northern_df[\"Lat\"]\n",
    "cloud = northern_df[\"Cloudiness\"]\n",
    "\n",
    "#Linear Regression & Scatter\n",
    "(slope, intercept, rvalue, pvalue, stderr) = linregress(lat, cloud)\n",
    "regress_values = lat * slope + intercept\n",
    "line_eq = \"y = \" + str(round(slope,2)) + \"x + \" + str(round(intercept,2))\n",
    "plt.scatter(northern_df[\"Lat\"], northern_df[\"Cloudiness\"], marker=\"o\")\n",
    "plt.plot(lat,regress_values,\"r-\")\n",
    "plt.annotate(line_eq,(6,10),fontsize=15,color=\"red\")\n",
    "\n",
    "# Add labels\n",
    "plt.title(\"Latitude vs. Cloudiness 04/24/2020\")\n",
    "plt.ylabel(\"Cloudiness\")\n",
    "plt.xlabel(\"Latitude\")\n",
    "plt.grid(True)\n",
    "\n",
    "# Create Png\n",
    "plt.savefig(\"NHLatitudeVs.CloudinessPlot.png\")\n",
    "\n",
    "# Show plot\n",
    "plt.show()\n",
    "print(rvalue)"
   ]
  },
  {
   "cell_type": "markdown",
   "metadata": {},
   "source": [
    "This plot looks at whether latitude affects the cloudiness of the city, and we can see that it does not because of the non-correlated data points.  "
   ]
  },
  {
   "cell_type": "markdown",
   "metadata": {},
   "source": [
    "####  Southern Hemisphere - Cloudiness (%) vs. Latitude Linear Regression"
   ]
  },
  {
   "cell_type": "code",
   "execution_count": 17,
   "metadata": {},
   "outputs": [
    {
     "data": {
      "image/png": "[encoded data removed]",
      "text/plain": [
       "<Figure size 432x288 with 1 Axes>"
      ]
     },
     "metadata": {
      "needs_background": "light"
     },
     "output_type": "display_data"
    },
    {
     "name": "stdout",
     "output_type": "stream",
     "text": [
      "0.20601560413853623\n"
     ]
    }
   ],
   "source": [
    "# Create values\n",
    "lat = southern_df[\"Lat\"]\n",
    "cloud = southern_df[\"Cloudiness\"]\n",
    "\n",
    "#Linear Regression & Scatter\n",
    "(slope, intercept, rvalue, pvalue, stderr) = linregress(lat, cloud)\n",
    "regress_values = lat * slope + intercept\n",
    "line_eq = \"y = \" + str(round(slope,2)) + \"x + \" + str(round(intercept,2))\n",
    "plt.scatter(southern_df[\"Lat\"], southern_df[\"Cloudiness\"], marker=\"o\")\n",
    "plt.plot(lat,regress_values,\"r-\")\n",
    "plt.annotate(line_eq,(-25, 50),fontsize=15,color=\"red\")\n",
    "\n",
    "# Add labels\n",
    "plt.title(\"Latitude vs. Cloudiness 04/24/2020\")\n",
    "plt.ylabel(\"Cloudiness\")\n",
    "plt.xlabel(\"Latitude\")\n",
    "plt.grid(True)\n",
    "\n",
    "# Create Png\n",
    "plt.savefig(\"SHLatitudeVs.CloudinessPlot.png\")\n",
    "\n",
    "# Show plot\n",
    "plt.show()\n",
    "print(rvalue)"
   ]
  },
  {
   "cell_type": "markdown",
   "metadata": {},
   "source": [
    "This plot looks at whether latitude affects the cloudiness of the city, and we can see there is a slight correlation with the lower the latitude having a higher or absent amount of cloudiness. "
   ]
  },
  {
   "cell_type": "markdown",
   "metadata": {},
   "source": [
    "####  Northern Hemisphere - Wind Speed (mph) vs. Latitude Linear Regression"
   ]
  },
  {
   "cell_type": "code",
   "execution_count": 18,
   "metadata": {},
   "outputs": [
    {
     "data": {
      "image/png": "[encoded data removed]",
      "text/plain": [
       "<Figure size 432x288 with 1 Axes>"
      ]
     },
     "metadata": {
      "needs_background": "light"
     },
     "output_type": "display_data"
    },
    {
     "name": "stdout",
     "output_type": "stream",
     "text": [
      "0.045762496446648836\n"
     ]
    }
   ],
   "source": [
    "# Create values\n",
    "lat = northern_df[\"Lat\"]\n",
    "wind = northern_df[\"Wind Speed\"]\n",
    "\n",
    "#Linear Regression & Scatter\n",
    "(slope, intercept, rvalue, pvalue, stderr) = linregress(lat, wind)\n",
    "regress_values = lat * slope + intercept\n",
    "line_eq = \"y = \" + str(round(slope,2)) + \"x + \" + str(round(intercept,2))\n",
    "plt.scatter(northern_df[\"Lat\"], northern_df[\"Wind Speed\"], marker=\"o\")\n",
    "plt.plot(lat,regress_values,\"r-\")\n",
    "plt.annotate(line_eq,(6,10),fontsize=15,color=\"red\")\n",
    "\n",
    "# Add labels\n",
    "plt.title(\"Latitude vs. Wind Speed 04/24/2020\")\n",
    "plt.ylabel(\"Wind Speed\")\n",
    "plt.xlabel(\"Latitude\")\n",
    "plt.grid(True)\n",
    "\n",
    "# Create Png\n",
    "plt.savefig(\"NHLatitudeVs.WindSpeedPlot.png\")\n",
    "\n",
    "# Show plot\n",
    "plt.show()\n",
    "print(rvalue)"
   ]
  },
  {
   "cell_type": "markdown",
   "metadata": {},
   "source": [
    "This plot looks at whether latitude affects the wind speed in a city, and we can see a small correlation with the increase in latitude bringing slightly higher wind speed.  "
   ]
  },
  {
   "cell_type": "markdown",
   "metadata": {},
   "source": [
    "####  Southern Hemisphere - Wind Speed (mph) vs. Latitude Linear Regression"
   ]
  },
  {
   "cell_type": "code",
   "execution_count": 19,
   "metadata": {},
   "outputs": [
    {
     "data": {
      "image/png": "[encoded data removed]",
      "text/plain": [
       "<Figure size 432x288 with 1 Axes>"
      ]
     },
     "metadata": {
      "needs_background": "light"
     },
     "output_type": "display_data"
    },
    {
     "name": "stdout",
     "output_type": "stream",
     "text": [
      "-0.28284275379963275\n"
     ]
    }
   ],
   "source": [
    "# Create values\n",
    "lat = southern_df[\"Lat\"]\n",
    "wind = southern_df[\"Wind Speed\"]\n",
    "\n",
    "#Linear Regression & Scatter\n",
    "(slope, intercept, rvalue, pvalue, stderr) = linregress(lat, wind)\n",
    "regress_values = lat * slope + intercept\n",
    "line_eq = \"y = \" + str(round(slope,2)) + \"x + \" + str(round(intercept,2))\n",
    "plt.scatter(southern_df[\"Lat\"], southern_df[\"Wind Speed\"], marker=\"o\")\n",
    "plt.plot(lat,regress_values,\"r-\")\n",
    "plt.annotate(line_eq,(-50, 0),fontsize=15,color=\"red\")\n",
    "\n",
    "# Add labels\n",
    "plt.title(\"Latitude vs. Wind Speed 04/24/2020\")\n",
    "plt.ylabel(\"Wind Speed\")\n",
    "plt.xlabel(\"Latitude\")\n",
    "plt.grid(True)\n",
    "\n",
    "# Create Png\n",
    "plt.savefig(\"SHLatitudeVs.WindSpeedPlot.png\")\n",
    "\n",
    "# Show plot\n",
    "plt.show()\n",
    "print(rvalue)"
   ]
  },
  {
   "cell_type": "markdown",
   "metadata": {},
   "source": [
    "This plot looks at whether latitude affects the wind speed in a city, and we can see a correlation with the increase in latitude bringing lower wind speed.  "
   ]
  },
  {
   "cell_type": "code",
   "execution_count": null,
   "metadata": {},
   "outputs": [],
   "source": []
  }
 ],
 "metadata": {
  "anaconda-cloud": {},
  "kernel_info": {
   "name": "python3"
  },
  "kernelspec": {
   "display_name": "PythonData",
   "language": "python",
   "name": "pythondata"
  },
  "language_info": {
   "codemirror_mode": {
    "name": "ipython",
    "version": 3
   },
   "file_extension": ".py",
   "mimetype": "text/x-python",
   "name": "python",
   "nbconvert_exporter": "python",
   "pygments_lexer": "ipython3",
   "version": "3.8.1"
  },
  "latex_envs": {
   "LaTeX_envs_menu_present": true,
   "autoclose": false,
   "autocomplete": true,
   "bibliofile": "biblio.bib",
   "cite_by": "apalike",
   "current_citInitial": 1,
   "eqLabelWithNumbers": true,
   "eqNumInitial": 1,
   "hotkeys": {
    "equation": "Ctrl-E",
    "itemize": "Ctrl-I"
   },
   "labels_anchors": false,
   "latex_user_defs": false,
   "report_style_numbering": false,
   "user_envs_cfg": false
  },
  "nteract": {
   "version": "0.12.3"
  }
 },
 "nbformat": 4,
 "nbformat_minor": 4
}
