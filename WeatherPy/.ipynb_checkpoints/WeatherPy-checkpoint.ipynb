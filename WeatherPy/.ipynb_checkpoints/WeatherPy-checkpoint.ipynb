{
 "cells": [
  {
   "cell_type": "markdown",
   "metadata": {},
   "source": [
    "# WeatherPy\n",
    "----\n",
    "\n",
    "#### Note\n",
    "* Instructions have been included for each segment. You do not have to follow them exactly, but they are included to help you think through the steps."
   ]
  },
  {
   "cell_type": "code",
   "execution_count": 18,
   "metadata": {
    "scrolled": true
   },
   "outputs": [],
   "source": [
    "# Dependencies and Setup\n",
    "import matplotlib.pyplot as plt\n",
    "import pandas as pd\n",
    "import numpy as np\n",
    "import requests\n",
    "import time\n",
    "from scipy.stats import linregress\n",
    "import openweathermapy.core as owm\n",
    "\n",
    "# Import API key\n",
    "from api_keys import weather_api_key\n",
    "\n",
    "# Incorporated citipy to determine city based on latitude and longitude\n",
    "from citipy import citipy\n",
    "\n",
    "# Output File (CSV)\n",
    "output_data_file = \"output_data/cities.csv\"\n",
    "\n",
    "# Range of latitudes and longitudes\n",
    "lat_range = (-90, 90)\n",
    "lng_range = (-180, 180)"
   ]
  },
  {
   "cell_type": "markdown",
   "metadata": {},
   "source": [
    "## Generate Cities List"
   ]
  },
  {
   "cell_type": "code",
   "execution_count": 19,
   "metadata": {},
   "outputs": [
    {
     "data": {
      "text/plain": [
       "620"
      ]
     },
     "execution_count": 19,
     "metadata": {},
     "output_type": "execute_result"
    }
   ],
   "source": [
    "# List for holding lat_lngs and cities\n",
    "lat_lngs = []\n",
    "cities = []\n",
    "\n",
    "# Create a set of random lat and lng combinations\n",
    "lats = np.random.uniform(low=-90.000, high=90.000, size=1500)\n",
    "lngs = np.random.uniform(low=-180.000, high=180.000, size=1500)\n",
    "lat_lngs = zip(lats, lngs)\n",
    "\n",
    "# Identify nearest city for each lat, lng combination\n",
    "for lat_lng in lat_lngs:\n",
    "    city = citipy.nearest_city(lat_lng[0], lat_lng[1]).city_name\n",
    "    \n",
    "    # If the city is unique, then add it to a our cities list\n",
    "    if city not in cities:\n",
    "        cities.append(city)\n",
    "\n",
    "# Print the city count to confirm sufficient count\n",
    "len(cities)"
   ]
  },
  {
   "cell_type": "markdown",
   "metadata": {},
   "source": [
    "### Perform API Calls\n",
    "* Perform a weather check on each city using a series of successive API calls.\n",
    "* Include a print log of each city as it'sbeing processed (with the city number and city name).\n"
   ]
  },
  {
   "cell_type": "code",
   "execution_count": 65,
   "metadata": {},
   "outputs": [
    {
     "name": "stdout",
     "output_type": "stream",
     "text": [
      "Beginning Data Retrieval     \n",
      "-----------------------------\n",
      "Processing Record 0 of Set 0 | rawson\n",
      "Processing Record 1 of Set 1 | dera din panah\n",
      "City not found...\n",
      "Processing Record 2 of Set 2 | sumbe\n",
      "Processing Record 3 of Set 3 | barrow\n",
      "Processing Record 4 of Set 4 | atuona\n",
      "Processing Record 5 of Set 5 | busselton\n",
      "Processing Record 6 of Set 6 | batagay-alyta\n",
      "Processing Record 7 of Set 7 | ashqelon\n",
      "Processing Record 8 of Set 8 | bethel\n",
      "Processing Record 9 of Set 9 | taolanaro\n",
      "City not found...\n",
      "Processing Record 10 of Set 10 | carutapera\n",
      "Processing Record 11 of Set 11 | emerald\n",
      "Processing Record 12 of Set 12 | husavik\n",
      "Processing Record 13 of Set 13 | waipawa\n",
      "Processing Record 14 of Set 14 | butaritari\n",
      "Processing Record 15 of Set 15 | colares\n",
      "Processing Record 16 of Set 16 | ushuaia\n",
      "Processing Record 17 of Set 17 | poum\n",
      "Processing Record 18 of Set 18 | katsiveli\n",
      "City not found...\n",
      "Processing Record 19 of Set 19 | bargal\n",
      "City not found...\n",
      "Processing Record 20 of Set 20 | yellowknife\n",
      "Processing Record 21 of Set 21 | arraial do cabo\n",
      "Processing Record 22 of Set 22 | bambous virieux\n",
      "Processing Record 23 of Set 23 | ede\n",
      "Processing Record 24 of Set 24 | chokurdakh\n",
      "Processing Record 25 of Set 25 | seminole\n",
      "Processing Record 26 of Set 26 | cape town\n",
      "Processing Record 27 of Set 27 | makung\n",
      "City not found...\n",
      "Processing Record 28 of Set 28 | klyuchi\n",
      "Processing Record 29 of Set 29 | imperia\n",
      "Processing Record 30 of Set 30 | yatou\n",
      "Processing Record 31 of Set 31 | leningradskiy\n",
      "Processing Record 32 of Set 32 | vaini\n",
      "Processing Record 33 of Set 33 | port alfred\n",
      "Processing Record 34 of Set 34 | lorengau\n",
      "Processing Record 35 of Set 35 | conde\n",
      "Processing Record 36 of Set 36 | nikolskoye\n",
      "Processing Record 37 of Set 37 | vila velha\n",
      "Processing Record 38 of Set 38 | haibowan\n",
      "City not found...\n",
      "Processing Record 39 of Set 39 | illoqqortoormiut\n",
      "City not found...\n",
      "Processing Record 40 of Set 40 | saint george\n",
      "Processing Record 41 of Set 41 | abnub\n",
      "Processing Record 42 of Set 42 | akyab\n",
      "Processing Record 43 of Set 43 | pisco\n",
      "Processing Record 44 of Set 44 | castro\n",
      "Processing Record 45 of Set 45 | qui nhon\n",
      "Processing Record 46 of Set 46 | saskylakh\n",
      "Processing Record 47 of Set 47 | tuatapere\n",
      "Processing Record 48 of Set 48 | albany\n",
      "Processing Record 49 of Set 49 | hithadhoo\n",
      "Processing Record 50 of Set 50 | shchelyayur\n",
      "City not found...\n",
      "Processing Record 51 of Set 51 | lompoc\n",
      "Processing Record 52 of Set 52 | cockburn town\n",
      "Processing Record 53 of Set 53 | tommot\n",
      "Processing Record 54 of Set 54 | rikitea\n",
      "Processing Record 55 of Set 55 | punta arenas\n",
      "Processing Record 56 of Set 56 | saleaula\n",
      "City not found...\n",
      "Processing Record 57 of Set 57 | adrar\n",
      "Processing Record 58 of Set 58 | jiexiu\n",
      "Processing Record 59 of Set 59 | jos\n",
      "Processing Record 60 of Set 60 | nabire\n",
      "Processing Record 61 of Set 61 | salalah\n",
      "Processing Record 62 of Set 62 | grand gaube\n",
      "Processing Record 63 of Set 63 | port elizabeth\n",
      "Processing Record 64 of Set 64 | anadyr\n",
      "Processing Record 65 of Set 65 | esperance\n",
      "Processing Record 66 of Set 66 | upernavik\n",
      "Processing Record 67 of Set 67 | sechura\n",
      "Processing Record 68 of Set 68 | dikson\n",
      "Processing Record 69 of Set 69 | bluff\n",
      "Processing Record 70 of Set 70 | sao filipe\n",
      "Processing Record 71 of Set 71 | dingle\n",
      "Processing Record 72 of Set 72 | laguna\n",
      "Processing Record 73 of Set 73 | awjilah\n",
      "Processing Record 74 of Set 74 | saint-philippe\n",
      "Processing Record 75 of Set 75 | thompson\n",
      "Processing Record 76 of Set 76 | airai\n",
      "Processing Record 77 of Set 77 | jamestown\n",
      "Processing Record 78 of Set 78 | rivadavia\n",
      "Processing Record 79 of Set 79 | puerto penasco\n",
      "Processing Record 80 of Set 80 | vardo\n",
      "Processing Record 81 of Set 81 | beringovskiy\n",
      "Processing Record 82 of Set 82 | ossora\n",
      "Processing Record 83 of Set 83 | mataura\n",
      "Processing Record 84 of Set 84 | isangel\n",
      "Processing Record 85 of Set 85 | hobart\n",
      "Processing Record 86 of Set 86 | alofi\n",
      "Processing Record 87 of Set 87 | victoria\n",
      "Processing Record 88 of Set 88 | mount gambier\n",
      "Processing Record 89 of Set 89 | nizhneyansk\n",
      "City not found...\n",
      "Processing Record 90 of Set 90 | hambantota\n",
      "Processing Record 91 of Set 91 | sambava\n",
      "Processing Record 92 of Set 92 | carinhanha\n",
      "Processing Record 93 of Set 93 | kourou\n",
      "Processing Record 94 of Set 94 | lavrentiya\n",
      "Processing Record 95 of Set 95 | san carlos de bariloche\n",
      "Processing Record 96 of Set 96 | hermanus\n",
      "Processing Record 97 of Set 97 | lashio\n",
      "Processing Record 98 of Set 98 | baft\n",
      "Processing Record 99 of Set 99 | comodoro rivadavia\n",
      "Processing Record 100 of Set 100 | tidore\n",
      "City not found...\n",
      "Processing Record 101 of Set 101 | mar del plata\n",
      "Processing Record 102 of Set 102 | bredasdorp\n",
      "Processing Record 103 of Set 103 | bolungarvik\n",
      "City not found...\n",
      "Processing Record 104 of Set 104 | yermakovskoye\n",
      "Processing Record 105 of Set 105 | bozoum\n",
      "Processing Record 106 of Set 106 | namibe\n",
      "Processing Record 107 of Set 107 | pathein\n",
      "Processing Record 108 of Set 108 | khatanga\n",
      "Processing Record 109 of Set 109 | do gonbadan\n",
      "Processing Record 110 of Set 110 | awbari\n",
      "Processing Record 111 of Set 111 | fayaoue\n",
      "Processing Record 112 of Set 112 | egvekinot\n",
      "Processing Record 113 of Set 113 | soe\n",
      "Processing Record 114 of Set 114 | yarada\n",
      "Processing Record 115 of Set 115 | honningsvag\n",
      "Processing Record 116 of Set 116 | raga\n",
      "Processing Record 117 of Set 117 | iqaluit\n",
      "Processing Record 118 of Set 118 | tiksi\n",
      "Processing Record 119 of Set 119 | maniitsoq\n",
      "Processing Record 120 of Set 120 | micheweni\n",
      "Processing Record 121 of Set 121 | iracoubo\n",
      "Processing Record 122 of Set 122 | narsaq\n",
      "Processing Record 123 of Set 123 | mareeba\n",
      "Processing Record 124 of Set 124 | hulyaypole\n",
      "Processing Record 125 of Set 125 | ponta do sol\n",
      "Processing Record 126 of Set 126 | correntina\n",
      "Processing Record 127 of Set 127 | itoman\n",
      "Processing Record 128 of Set 128 | gat\n",
      "Processing Record 129 of Set 129 | almonte\n",
      "Processing Record 130 of Set 130 | olga\n",
      "Processing Record 131 of Set 131 | hami\n",
      "Processing Record 132 of Set 132 | moerai\n",
      "Processing Record 133 of Set 133 | san patricio\n",
      "Processing Record 134 of Set 134 | hervey bay\n",
      "Processing Record 135 of Set 135 | mys shmidta\n",
      "City not found...\n",
      "Processing Record 136 of Set 136 | takoradi\n",
      "Processing Record 137 of Set 137 | mahebourg\n",
      "Processing Record 138 of Set 138 | camabatela\n",
      "Processing Record 139 of Set 139 | tateyama\n",
      "Processing Record 140 of Set 140 | punta cardon\n",
      "Processing Record 141 of Set 141 | new norfolk\n",
      "Processing Record 142 of Set 142 | ancud\n",
      "Processing Record 143 of Set 143 | touros\n",
      "Processing Record 144 of Set 144 | liberal\n",
      "Processing Record 145 of Set 145 | aquiraz\n",
      "Processing Record 146 of Set 146 | ruatoria\n",
      "City not found...\n",
      "Processing Record 147 of Set 147 | mackenzie\n",
      "Processing Record 148 of Set 148 | coquimbo\n",
      "Processing Record 149 of Set 149 | saint pete beach\n",
      "Processing Record 150 of Set 150 | jujuy\n",
      "City not found...\n",
      "Processing Record 151 of Set 151 | bose\n",
      "Processing Record 152 of Set 152 | creel\n",
      "Processing Record 153 of Set 153 | chuy\n",
      "Processing Record 154 of Set 154 | belaya gora\n",
      "Processing Record 155 of Set 155 | ahipara\n",
      "Processing Record 156 of Set 156 | benghazi\n",
      "Processing Record 157 of Set 157 | avarua\n",
      "Processing Record 158 of Set 158 | mocuba\n",
      "Processing Record 159 of Set 159 | espinosa\n",
      "Processing Record 160 of Set 160 | zhongxing\n",
      "Processing Record 161 of Set 161 | winkler\n",
      "Processing Record 162 of Set 162 | tual\n",
      "Processing Record 163 of Set 163 | rameshki\n",
      "Processing Record 164 of Set 164 | verkhoyansk\n",
      "Processing Record 165 of Set 165 | kapaa\n",
      "Processing Record 166 of Set 166 | moose factory\n",
      "Processing Record 167 of Set 167 | kloulklubed\n",
      "Processing Record 168 of Set 168 | cerasu\n",
      "Processing Record 169 of Set 169 | longyearbyen\n",
      "Processing Record 170 of Set 170 | murgab\n",
      "Processing Record 171 of Set 171 | tazovskiy\n",
      "Processing Record 172 of Set 172 | agaro\n",
      "Processing Record 173 of Set 173 | guerrero negro\n",
      "Processing Record 174 of Set 174 | luderitz\n",
      "Processing Record 175 of Set 175 | visby\n",
      "Processing Record 176 of Set 176 | saldanha\n",
      "Processing Record 177 of Set 177 | kautokeino\n",
      "Processing Record 178 of Set 178 | sitka\n",
      "Processing Record 179 of Set 179 | carnduff\n",
      "Processing Record 180 of Set 180 | hofn\n",
      "Processing Record 181 of Set 181 | korem\n",
      "Processing Record 182 of Set 182 | pevek\n",
      "Processing Record 183 of Set 183 | carnarvon\n",
      "Processing Record 184 of Set 184 | cidreira\n",
      "Processing Record 185 of Set 185 | mankono\n",
      "Processing Record 186 of Set 186 | arroyo grande\n",
      "Processing Record 187 of Set 187 | khandyga\n",
      "Processing Record 188 of Set 188 | lokosovo\n",
      "Processing Record 189 of Set 189 | nanortalik\n",
      "Processing Record 190 of Set 190 | clyde river\n",
      "Processing Record 191 of Set 191 | qaanaaq\n",
      "Processing Record 192 of Set 192 | attawapiskat\n",
      "City not found...\n",
      "Processing Record 193 of Set 193 | meulaboh\n",
      "Processing Record 194 of Set 194 | vestmannaeyjar\n",
      "Processing Record 195 of Set 195 | tessalit\n",
      "Processing Record 196 of Set 196 | hilo\n",
      "Processing Record 197 of Set 197 | rolante\n",
      "Processing Record 198 of Set 198 | maragogi\n",
      "Processing Record 199 of Set 199 | puerto ayora\n",
      "Processing Record 200 of Set 200 | malakal\n",
      "Processing Record 201 of Set 201 | wamba\n",
      "Processing Record 202 of Set 202 | wanning\n",
      "Processing Record 203 of Set 203 | padang\n",
      "Processing Record 204 of Set 204 | havelock\n",
      "Processing Record 205 of Set 205 | plouzane\n",
      "Processing Record 206 of Set 206 | kavieng\n",
      "Processing Record 207 of Set 207 | khormuj\n",
      "City not found...\n",
      "Processing Record 208 of Set 208 | nisia floresta\n",
      "Processing Record 209 of Set 209 | la ronge\n",
      "Processing Record 210 of Set 210 | norman wells\n",
      "Processing Record 211 of Set 211 | amderma\n",
      "City not found...\n",
      "Processing Record 212 of Set 212 | san cristobal\n",
      "Processing Record 213 of Set 213 | cockburn harbour\n",
      "City not found...\n",
      "Processing Record 214 of Set 214 | sabang\n",
      "Processing Record 215 of Set 215 | redlands\n",
      "Processing Record 216 of Set 216 | kalmunai\n",
      "Processing Record 217 of Set 217 | hamilton\n",
      "Processing Record 218 of Set 218 | tumannyy\n",
      "City not found...\n",
      "Processing Record 219 of Set 219 | korla\n",
      "Processing Record 220 of Set 220 | chipinge\n",
      "Processing Record 221 of Set 221 | severo-kurilsk\n",
      "Processing Record 222 of Set 222 | chapais\n",
      "Processing Record 223 of Set 223 | bilibino\n",
      "Processing Record 224 of Set 224 | kaitangata\n",
      "Processing Record 225 of Set 225 | oussouye\n",
      "Processing Record 226 of Set 226 | karratha\n",
      "Processing Record 227 of Set 227 | manavalakurichi\n",
      "Processing Record 228 of Set 228 | kuhestan\n",
      "City not found...\n",
      "Processing Record 229 of Set 229 | huanta\n",
      "Processing Record 230 of Set 230 | grand river south east\n",
      "City not found...\n",
      "Processing Record 231 of Set 231 | matay\n",
      "Processing Record 232 of Set 232 | belushya guba\n",
      "City not found...\n",
      "Processing Record 233 of Set 233 | aykhal\n",
      "Processing Record 234 of Set 234 | kjollefjord\n",
      "Processing Record 235 of Set 235 | muros\n",
      "Processing Record 236 of Set 236 | geraldton\n",
      "Processing Record 237 of Set 237 | tasiilaq\n",
      "Processing Record 238 of Set 238 | martapura\n",
      "Processing Record 239 of Set 239 | yingcheng\n",
      "Processing Record 240 of Set 240 | dunedin\n",
      "Processing Record 241 of Set 241 | araouane\n",
      "Processing Record 242 of Set 242 | mugumu\n",
      "Processing Record 243 of Set 243 | mombasa\n",
      "Processing Record 244 of Set 244 | kristianstad\n",
      "Processing Record 245 of Set 245 | talnakh\n",
      "Processing Record 246 of Set 246 | palora\n",
      "Processing Record 247 of Set 247 | margate\n",
      "Processing Record 248 of Set 248 | kuching\n",
      "Processing Record 249 of Set 249 | buchanan\n",
      "Processing Record 250 of Set 250 | christchurch\n",
      "Processing Record 251 of Set 251 | mahadday weyne\n",
      "City not found...\n",
      "Processing Record 252 of Set 252 | byron bay\n",
      "Processing Record 253 of Set 253 | zabol\n",
      "Processing Record 254 of Set 254 | cherskiy\n",
      "Processing Record 255 of Set 255 | east london\n",
      "Processing Record 256 of Set 256 | santa barbara\n",
      "Processing Record 257 of Set 257 | salinopolis\n",
      "Processing Record 258 of Set 258 | ilulissat\n",
      "Processing Record 259 of Set 259 | luang prabang\n",
      "Processing Record 260 of Set 260 | fairbanks\n",
      "Processing Record 261 of Set 261 | ampanihy\n",
      "Processing Record 262 of Set 262 | mount isa\n",
      "Processing Record 263 of Set 263 | jhudo\n",
      "Processing Record 264 of Set 264 | cannes\n",
      "Processing Record 265 of Set 265 | thinadhoo\n",
      "Processing Record 266 of Set 266 | cumaribo\n",
      "City not found...\n",
      "Processing Record 267 of Set 267 | provideniya\n",
      "Processing Record 268 of Set 268 | yuancheng\n",
      "Processing Record 269 of Set 269 | marcona\n",
      "City not found...\n",
      "Processing Record 270 of Set 270 | weihe\n",
      "Processing Record 271 of Set 271 | shahreza\n",
      "Processing Record 272 of Set 272 | oum hadjer\n",
      "Processing Record 273 of Set 273 | ribeira grande\n",
      "Processing Record 274 of Set 274 | daru\n",
      "Processing Record 275 of Set 275 | viedma\n",
      "Processing Record 276 of Set 276 | nakhon phanom\n",
      "Processing Record 277 of Set 277 | chicama\n",
      "Processing Record 278 of Set 278 | fortuna\n",
      "Processing Record 279 of Set 279 | samusu\n",
      "City not found...\n",
      "Processing Record 280 of Set 280 | gannan\n",
      "Processing Record 281 of Set 281 | popondetta\n",
      "Processing Record 282 of Set 282 | georgetown\n",
      "Processing Record 283 of Set 283 | khuzhir\n",
      "Processing Record 284 of Set 284 | vaitupu\n",
      "City not found...\n",
      "Processing Record 285 of Set 285 | mokhotlong\n",
      "Processing Record 286 of Set 286 | bathsheba\n",
      "Processing Record 287 of Set 287 | kamenka\n",
      "Processing Record 288 of Set 288 | omsukchan\n",
      "Processing Record 289 of Set 289 | severobaykalsk\n",
      "Processing Record 290 of Set 290 | tsihombe\n",
      "City not found...\n",
      "Processing Record 291 of Set 291 | santa cruz del sur\n",
      "Processing Record 292 of Set 292 | kemi\n",
      "Processing Record 293 of Set 293 | tuktoyaktuk\n",
      "Processing Record 294 of Set 294 | agirish\n",
      "Processing Record 295 of Set 295 | vikulovo\n",
      "Processing Record 296 of Set 296 | chumikan\n",
      "Processing Record 297 of Set 297 | marystown\n",
      "Processing Record 298 of Set 298 | lerwick\n",
      "Processing Record 299 of Set 299 | ouallam\n",
      "Processing Record 300 of Set 300 | port hedland\n",
      "Processing Record 301 of Set 301 | port shepstone\n",
      "Processing Record 302 of Set 302 | bonnyville\n",
      "Processing Record 303 of Set 303 | mecca\n",
      "Processing Record 304 of Set 304 | tautira\n",
      "Processing Record 305 of Set 305 | uhlove\n",
      "Processing Record 306 of Set 306 | kavaratti\n",
      "Processing Record 307 of Set 307 | north bend\n",
      "Processing Record 308 of Set 308 | atherton\n",
      "Processing Record 309 of Set 309 | port lincoln\n",
      "Processing Record 310 of Set 310 | gangotri\n",
      "City not found...\n",
      "Processing Record 311 of Set 311 | sal\n",
      "Processing Record 312 of Set 312 | imbituba\n",
      "Processing Record 313 of Set 313 | khudumelapye\n",
      "Processing Record 314 of Set 314 | porto belo\n",
      "Processing Record 315 of Set 315 | saint-pierre\n",
      "Processing Record 316 of Set 316 | cartagena del chaira\n",
      "Processing Record 317 of Set 317 | port hardy\n",
      "Processing Record 318 of Set 318 | vanavara\n",
      "Processing Record 319 of Set 319 | cabo san lucas\n",
      "Processing Record 320 of Set 320 | rungata\n",
      "City not found...\n",
      "Processing Record 321 of Set 321 | arkhangelos\n",
      "City not found...\n",
      "Processing Record 322 of Set 322 | goderich\n",
      "Processing Record 323 of Set 323 | sentyabrskiy\n",
      "City not found...\n",
      "Processing Record 324 of Set 324 | grindavik\n",
      "Processing Record 325 of Set 325 | los chiles\n",
      "Processing Record 326 of Set 326 | lewistown\n",
      "Processing Record 327 of Set 327 | ovalle\n",
      "Processing Record 328 of Set 328 | lisakovsk\n",
      "Processing Record 329 of Set 329 | dapaong\n",
      "Processing Record 330 of Set 330 | jalu\n",
      "Processing Record 331 of Set 331 | mezen\n",
      "Processing Record 332 of Set 332 | umzimvubu\n",
      "City not found...\n",
      "Processing Record 333 of Set 333 | saint-joseph\n",
      "Processing Record 334 of Set 334 | palabuhanratu\n",
      "City not found...\n",
      "Processing Record 335 of Set 335 | payo\n",
      "Processing Record 336 of Set 336 | eyl\n",
      "Processing Record 337 of Set 337 | lenger\n",
      "Processing Record 338 of Set 338 | terrace\n",
      "Processing Record 339 of Set 339 | chegdomyn\n",
      "Processing Record 340 of Set 340 | torbay\n",
      "Processing Record 341 of Set 341 | tacoronte\n",
      "Processing Record 342 of Set 342 | college\n",
      "Processing Record 343 of Set 343 | texarkana\n",
      "Processing Record 344 of Set 344 | berlevag\n",
      "Processing Record 345 of Set 345 | akureyri\n",
      "Processing Record 346 of Set 346 | rawannawi\n",
      "City not found...\n",
      "Processing Record 347 of Set 347 | lata\n",
      "Processing Record 348 of Set 348 | kaliua\n",
      "Processing Record 349 of Set 349 | klaksvik\n",
      "Processing Record 350 of Set 350 | porirua\n",
      "Processing Record 351 of Set 351 | tilichiki\n",
      "Processing Record 352 of Set 352 | gamba\n",
      "Processing Record 353 of Set 353 | bengkulu\n",
      "Processing Record 354 of Set 354 | atambua\n",
      "Processing Record 355 of Set 355 | newnan\n",
      "Processing Record 356 of Set 356 | wetaskiwin\n",
      "Processing Record 357 of Set 357 | paoua\n",
      "Processing Record 358 of Set 358 | honiara\n",
      "Processing Record 359 of Set 359 | san andres\n",
      "Processing Record 360 of Set 360 | nantucket\n",
      "Processing Record 361 of Set 361 | ponta delgada\n",
      "Processing Record 362 of Set 362 | cam ranh\n",
      "Processing Record 363 of Set 363 | muroto\n",
      "Processing Record 364 of Set 364 | marzuq\n",
      "Processing Record 365 of Set 365 | izumo\n",
      "Processing Record 366 of Set 366 | osmena\n",
      "Processing Record 367 of Set 367 | torbat-e jam\n",
      "Processing Record 368 of Set 368 | corovode\n",
      "Processing Record 369 of Set 369 | pangnirtung\n",
      "Processing Record 370 of Set 370 | jiazi\n",
      "Processing Record 371 of Set 371 | tigil\n",
      "Processing Record 372 of Set 372 | kade\n",
      "Processing Record 373 of Set 373 | taoudenni\n",
      "Processing Record 374 of Set 374 | sungaipenuh\n",
      "Processing Record 375 of Set 375 | at-bashi\n",
      "Processing Record 376 of Set 376 | thunder bay\n",
      "Processing Record 377 of Set 377 | neubrandenburg\n",
      "Processing Record 378 of Set 378 | lasa\n",
      "Processing Record 379 of Set 379 | makakilo city\n",
      "Processing Record 380 of Set 380 | olinda\n",
      "Processing Record 381 of Set 381 | novyy urengoy\n",
      "Processing Record 382 of Set 382 | caravelas\n",
      "Processing Record 383 of Set 383 | bubaque\n",
      "Processing Record 384 of Set 384 | port macquarie\n",
      "Processing Record 385 of Set 385 | yeppoon\n",
      "Processing Record 386 of Set 386 | krasnoselkup\n",
      "Processing Record 387 of Set 387 | kushiro\n",
      "Processing Record 388 of Set 388 | matamoros\n",
      "Processing Record 389 of Set 389 | pula\n",
      "Processing Record 390 of Set 390 | henties bay\n",
      "Processing Record 391 of Set 391 | los llanos de aridane\n",
      "Processing Record 392 of Set 392 | hasaki\n",
      "Processing Record 393 of Set 393 | dzilam gonzalez\n",
      "Processing Record 394 of Set 394 | kem\n",
      "Processing Record 395 of Set 395 | yanggu\n",
      "Processing Record 396 of Set 396 | beni\n",
      "Processing Record 397 of Set 397 | lincoln\n",
      "Processing Record 398 of Set 398 | pingdingshan\n",
      "Processing Record 399 of Set 399 | mazagao\n",
      "Processing Record 400 of Set 400 | moron\n",
      "Processing Record 401 of Set 401 | constitucion\n",
      "Processing Record 402 of Set 402 | pechora\n",
      "Processing Record 403 of Set 403 | dalvik\n",
      "Processing Record 404 of Set 404 | buala\n",
      "Processing Record 405 of Set 405 | progreso\n",
      "Processing Record 406 of Set 406 | sur\n",
      "Processing Record 407 of Set 407 | camana\n",
      "Processing Record 408 of Set 408 | phan thiet\n",
      "Processing Record 409 of Set 409 | akdagmadeni\n",
      "Processing Record 410 of Set 410 | yar-sale\n",
      "Processing Record 411 of Set 411 | ostrovnoy\n",
      "Processing Record 412 of Set 412 | avanigadda\n",
      "Processing Record 413 of Set 413 | port keats\n",
      "Processing Record 414 of Set 414 | strezhevoy\n",
      "Processing Record 415 of Set 415 | vostok\n",
      "Processing Record 416 of Set 416 | roebourne\n",
      "Processing Record 417 of Set 417 | gigmoto\n",
      "Processing Record 418 of Set 418 | port blair\n",
      "Processing Record 419 of Set 419 | sao luiz gonzaga\n",
      "Processing Record 420 of Set 420 | kropotkin\n",
      "Processing Record 421 of Set 421 | nemuro\n",
      "Processing Record 422 of Set 422 | krutinka\n",
      "Processing Record 423 of Set 423 | sudislavl\n",
      "Processing Record 424 of Set 424 | illela\n",
      "Processing Record 425 of Set 425 | sao paulo de olivenca\n",
      "Processing Record 426 of Set 426 | zhigansk\n",
      "Processing Record 427 of Set 427 | sari\n",
      "Processing Record 428 of Set 428 | el sauzal\n",
      "Processing Record 429 of Set 429 | portland\n",
      "Processing Record 430 of Set 430 | meadow lake\n",
      "Processing Record 431 of Set 431 | lagoa\n",
      "Processing Record 432 of Set 432 | saint-pacome\n",
      "City not found...\n",
      "Processing Record 433 of Set 433 | fort nelson\n",
      "Processing Record 434 of Set 434 | kushima\n",
      "Processing Record 435 of Set 435 | coihaique\n",
      "Processing Record 436 of Set 436 | inderborskiy\n",
      "City not found...\n",
      "Processing Record 437 of Set 437 | shreveport\n",
      "Processing Record 438 of Set 438 | broome\n",
      "Processing Record 439 of Set 439 | banda aceh\n",
      "Processing Record 440 of Set 440 | peleduy\n",
      "Processing Record 441 of Set 441 | bonthe\n",
      "Processing Record 442 of Set 442 | tromso\n",
      "Processing Record 443 of Set 443 | pangody\n",
      "Processing Record 444 of Set 444 | kayerkan\n",
      "Processing Record 445 of Set 445 | stokmarknes\n",
      "Processing Record 446 of Set 446 | yaan\n",
      "Processing Record 447 of Set 447 | ron phibun\n",
      "Processing Record 448 of Set 448 | andenes\n",
      "Processing Record 449 of Set 449 | hay river\n",
      "Processing Record 450 of Set 450 | sterling\n",
      "Processing Record 451 of Set 451 | wukari\n",
      "Processing Record 452 of Set 452 | coahuayana\n",
      "Processing Record 453 of Set 453 | avera\n",
      "Processing Record 454 of Set 454 | vestmanna\n",
      "Processing Record 455 of Set 455 | ixtapa\n",
      "Processing Record 456 of Set 456 | viligili\n",
      "City not found...\n",
      "Processing Record 457 of Set 457 | cusuna\n",
      "Processing Record 458 of Set 458 | yulara\n",
      "Processing Record 459 of Set 459 | emba\n",
      "Processing Record 460 of Set 460 | terrace bay\n",
      "Processing Record 461 of Set 461 | brae\n",
      "Processing Record 462 of Set 462 | charters towers\n",
      "Processing Record 463 of Set 463 | marsa matruh\n",
      "Processing Record 464 of Set 464 | aksarayskiy\n",
      "Processing Record 465 of Set 465 | ngukurr\n",
      "City not found...\n",
      "Processing Record 466 of Set 466 | ulaangom\n",
      "Processing Record 467 of Set 467 | mwinilunga\n",
      "Processing Record 468 of Set 468 | central point\n",
      "Processing Record 469 of Set 469 | ondorhaan\n",
      "City not found...\n",
      "Processing Record 470 of Set 470 | lambarene\n",
      "Processing Record 471 of Set 471 | bayonet point\n",
      "Processing Record 472 of Set 472 | matara\n",
      "Processing Record 473 of Set 473 | nikolayevka\n",
      "Processing Record 474 of Set 474 | butajira\n",
      "Processing Record 475 of Set 475 | balkhash\n",
      "Processing Record 476 of Set 476 | wasilla\n",
      "Processing Record 477 of Set 477 | kodiak\n",
      "Processing Record 478 of Set 478 | bagamoyo\n",
      "Processing Record 479 of Set 479 | el limon\n",
      "Processing Record 480 of Set 480 | mityana\n",
      "Processing Record 481 of Set 481 | ternate\n",
      "Processing Record 482 of Set 482 | santa cruz\n",
      "Processing Record 483 of Set 483 | lulea\n",
      "Processing Record 484 of Set 484 | cambrils\n",
      "Processing Record 485 of Set 485 | codrington\n",
      "Processing Record 486 of Set 486 | mabaruma\n",
      "Processing Record 487 of Set 487 | itainopolis\n",
      "Processing Record 488 of Set 488 | galgani\n",
      "City not found...\n",
      "Processing Record 489 of Set 489 | hirara\n",
      "Processing Record 490 of Set 490 | iskateley\n",
      "Processing Record 491 of Set 491 | kawalu\n",
      "Processing Record 492 of Set 492 | noumea\n",
      "Processing Record 493 of Set 493 | cangucu\n",
      "Processing Record 494 of Set 494 | barhi\n",
      "Processing Record 495 of Set 495 | barentsburg\n",
      "City not found...\n",
      "Processing Record 496 of Set 496 | caucaia\n",
      "Processing Record 497 of Set 497 | praia da vitoria\n",
      "Processing Record 498 of Set 498 | cape canaveral\n",
      "Processing Record 499 of Set 499 | vila franca do campo\n",
      "Processing Record 500 of Set 500 | solwezi\n",
      "Processing Record 501 of Set 501 | mayumba\n",
      "Processing Record 502 of Set 502 | kaeo\n",
      "Processing Record 503 of Set 503 | oil city\n",
      "Processing Record 504 of Set 504 | birjand\n",
      "Processing Record 505 of Set 505 | jiehu\n",
      "Processing Record 506 of Set 506 | port moresby\n",
      "Processing Record 507 of Set 507 | balclutha\n",
      "Processing Record 508 of Set 508 | olafsvik\n",
      "Processing Record 509 of Set 509 | severodvinsk\n",
      "Processing Record 510 of Set 510 | wum\n",
      "Processing Record 511 of Set 511 | savalou\n",
      "Processing Record 512 of Set 512 | bandarbeyla\n",
      "Processing Record 513 of Set 513 | panzhihua\n",
      "Processing Record 514 of Set 514 | diego de almagro\n",
      "Processing Record 515 of Set 515 | babanusah\n",
      "City not found...\n",
      "Processing Record 516 of Set 516 | quatre cocos\n",
      "Processing Record 517 of Set 517 | cayenne\n",
      "Processing Record 518 of Set 518 | ambanja\n",
      "Processing Record 519 of Set 519 | bjornevatn\n",
      "Processing Record 520 of Set 520 | faanui\n",
      "Processing Record 521 of Set 521 | souillac\n",
      "Processing Record 522 of Set 522 | warqla\n",
      "City not found...\n",
      "Processing Record 523 of Set 523 | abu jubayhah\n",
      "City not found...\n",
      "Processing Record 524 of Set 524 | lebu\n",
      "Processing Record 525 of Set 525 | jieshi\n",
      "Processing Record 526 of Set 526 | panjakent\n",
      "Processing Record 527 of Set 527 | zimovniki\n",
      "Processing Record 528 of Set 528 | dolbeau\n",
      "City not found...\n",
      "Processing Record 529 of Set 529 | werda\n",
      "Processing Record 530 of Set 530 | ladario\n",
      "Processing Record 531 of Set 531 | monte di procida\n",
      "Processing Record 532 of Set 532 | beloha\n",
      "Processing Record 533 of Set 533 | gejiu\n",
      "Processing Record 534 of Set 534 | neuquen\n",
      "Processing Record 535 of Set 535 | farmington\n",
      "Processing Record 536 of Set 536 | pryazha\n",
      "Processing Record 537 of Set 537 | beyneu\n",
      "Processing Record 538 of Set 538 | zhumadian\n",
      "Processing Record 539 of Set 539 | benjamin hill\n",
      "Processing Record 540 of Set 540 | sarrebourg\n",
      "Processing Record 541 of Set 541 | batemans bay\n",
      "Processing Record 542 of Set 542 | roanoke rapids\n",
      "Processing Record 543 of Set 543 | qaqortoq\n",
      "Processing Record 544 of Set 544 | okhotsk\n",
      "Processing Record 545 of Set 545 | yumen\n",
      "Processing Record 546 of Set 546 | metro\n",
      "Processing Record 547 of Set 547 | urumqi\n",
      "Processing Record 548 of Set 548 | svetlogorsk\n",
      "Processing Record 549 of Set 549 | dawei\n",
      "Processing Record 550 of Set 550 | namalenga\n",
      "Processing Record 551 of Set 551 | nouadhibou\n",
      "Processing Record 552 of Set 552 | lubumbashi\n",
      "Processing Record 553 of Set 553 | igrim\n",
      "Processing Record 554 of Set 554 | tucumcari\n",
      "Processing Record 555 of Set 555 | svirstroy\n",
      "Processing Record 556 of Set 556 | elko\n",
      "Processing Record 557 of Set 557 | shimoda\n",
      "Processing Record 558 of Set 558 | goldap\n",
      "Processing Record 559 of Set 559 | bukama\n",
      "Processing Record 560 of Set 560 | srednekolymsk\n",
      "Processing Record 561 of Set 561 | waingapu\n",
      "Processing Record 562 of Set 562 | dickinson\n",
      "Processing Record 563 of Set 563 | ammon\n",
      "Processing Record 564 of Set 564 | turukhansk\n",
      "Processing Record 565 of Set 565 | shache\n",
      "Processing Record 566 of Set 566 | eenhana\n",
      "Processing Record 567 of Set 567 | pafos\n",
      "Processing Record 568 of Set 568 | cuitlahuac\n",
      "Processing Record 569 of Set 569 | zunyi\n",
      "Processing Record 570 of Set 570 | victoria point\n",
      "Processing Record 571 of Set 571 | beli potok\n",
      "Processing Record 572 of Set 572 | churu\n",
      "Processing Record 573 of Set 573 | wuwei\n",
      "Processing Record 574 of Set 574 | dakar\n",
      "Processing Record 575 of Set 575 | khasan\n",
      "Processing Record 576 of Set 576 | aflu\n",
      "City not found...\n",
      "Processing Record 577 of Set 577 | ikauna\n",
      "Processing Record 578 of Set 578 | mbekenyera\n",
      "Processing Record 579 of Set 579 | brokopondo\n",
      "Processing Record 580 of Set 580 | prince george\n",
      "Processing Record 581 of Set 581 | najran\n",
      "Processing Record 582 of Set 582 | vokhma\n",
      "Processing Record 583 of Set 583 | roald\n",
      "Processing Record 584 of Set 584 | boyolangu\n",
      "Processing Record 585 of Set 585 | sergeyevka\n",
      "Processing Record 586 of Set 586 | waitara\n",
      "Processing Record 587 of Set 587 | sao jose da coroa grande\n",
      "Processing Record 588 of Set 588 | honda\n",
      "Processing Record 589 of Set 589 | linhares\n",
      "Processing Record 590 of Set 590 | rio branco\n",
      "Processing Record 591 of Set 591 | sekoma\n",
      "Processing Record 592 of Set 592 | brighton\n",
      "Processing Record 593 of Set 593 | clarence town\n",
      "Processing Record 594 of Set 594 | maceio\n",
      "Processing Record 595 of Set 595 | tecoanapa\n",
      "Processing Record 596 of Set 596 | helena\n",
      "Processing Record 597 of Set 597 | corning\n",
      "Processing Record 598 of Set 598 | haftoni\n",
      "Processing Record 599 of Set 599 | vrangel\n",
      "Processing Record 600 of Set 600 | richards bay\n",
      "Processing Record 601 of Set 601 | shalya\n",
      "Processing Record 602 of Set 602 | plettenberg bay\n",
      "Processing Record 603 of Set 603 | kadykchan\n",
      "City not found...\n",
      "Processing Record 604 of Set 604 | naica\n",
      "Processing Record 605 of Set 605 | krasnogorskiy\n",
      "Processing Record 606 of Set 606 | belgrade\n",
      "Processing Record 607 of Set 607 | pilar\n",
      "Processing Record 608 of Set 608 | stantsiya gorchakovo\n",
      "City not found...\n",
      "Processing Record 609 of Set 609 | ugoofaaru\n",
      "Processing Record 610 of Set 610 | butembo\n",
      "Processing Record 611 of Set 611 | tesistan\n",
      "Processing Record 612 of Set 612 | te anau\n",
      "Processing Record 613 of Set 613 | terney\n",
      "Processing Record 614 of Set 614 | la paz\n",
      "Processing Record 615 of Set 615 | aguimes\n",
      "Processing Record 616 of Set 616 | toliary\n",
      "City not found...\n",
      "Processing Record 617 of Set 617 | uglegorsk\n",
      "Processing Record 618 of Set 618 | falun\n",
      "Processing Record 619 of Set 619 | asau\n",
      "-----------------------------\n",
      "Data Retrieval Complete      \n",
      "-----------------------------\n"
     ]
    }
   ],
   "source": [
    "#Creat Lists\n",
    "City = []\n",
    "Cloudiness = []    \n",
    "Country = []       \n",
    "Date = []          \n",
    "Humidity = []      \n",
    "Lat = []           \n",
    "Lng = []           \n",
    "Max_Temp = []      \n",
    "Wind_Speed = [] \n",
    "\n",
    "#Start Print\n",
    "print(\"Beginning Data Retrieval     \")\n",
    "print(\"-----------------------------\")\n",
    "\n",
    "# Set start point for counters\n",
    "record_count = 0\n",
    "set_count = 0\n",
    "\n",
    "#Create loop\n",
    "for city in cities:\n",
    "    \n",
    "    #Create Sets\n",
    "    if (i % 50 == 0 and i >= 50):\n",
    "        set_count += 1\n",
    "        record_count = 0\n",
    "\n",
    "    # Set URL\n",
    "    city_url = f\"{url}appid={weather_api_key}&units={units}&q=\"\n",
    "\n",
    "    # Create the print for checking the data\n",
    "    print(\"Processing Record %s of Set %s | %s\" % (record_count, set_count, city))\n",
    "\n",
    "    # Add 1 to the count for every city\n",
    "    record_count += 1\n",
    "    set_count += 1\n",
    "    \n",
    "    try:\n",
    "        # Use json to collect the data\n",
    "        weather_data = requests.get(city_url + city).json()\n",
    "\n",
    "        # Append data to create dataframe \n",
    "        City.append(weather_data[\"name\"])\n",
    "        Cloudiness.append(weather_data[\"clouds\"][\"all\"])   \n",
    "        Country.append(weather_data[\"sys\"][\"country\"])      \n",
    "        Date.append(weather_data[\"dt\"])         \n",
    "        Humidity.append(weather_data[\"main\"][\"humidity\"])     \n",
    "        Lat.append(weather_data['coord']['lat'])          \n",
    "        Lng.append(weather_data['coord']['lon'])           \n",
    "        Max_Temp.append(weather_data[\"main\"][\"temp_max\"])    \n",
    "        Wind_Speed.append(weather_data[\"wind\"][\"speed\"])\n",
    "\n",
    "        # Create Dataframe\n",
    "        weather_df = pd.DataFrame({\n",
    "                                    \"City\": (City),\n",
    "                                   \"Cloudiness\":(Cloudiness),     \n",
    "                                    \"Country\":(Country),        \n",
    "                                    \"Date\":(Date),           \n",
    "                                    \"Humidity\":(Humidity),       \n",
    "                                    \"Lat\":(Lat),            \n",
    "                                    \"Lng\":(Lng),            \n",
    "                                    \"Max Temp\":(Max_Temp),       \n",
    "                                    \"Wind Speed\":(Wind_Speed) \n",
    "                                   })\n",
    "        weather_df = weather_df[[\n",
    "                                    \"City\",\n",
    "                                    \"Cloudiness\",     \n",
    "                                    \"Country\",        \n",
    "                                    \"Date\",           \n",
    "                                    \"Humidity\",       \n",
    "                                    \"Lat\",            \n",
    "                                    \"Lng\",            \n",
    "                                    \"Max Temp\",      \n",
    "                                    \"Wind Speed\" \n",
    "                                        ]]\n",
    "        weather_df\n",
    "\n",
    "    # Print error line if city not found\n",
    "    except:\n",
    "        print(\"City not found...\")\n",
    "    pass\n",
    "              \n",
    "# Print completion line \n",
    "print(\"-----------------------------\")\n",
    "print(\"Data Retrieval Complete      \")\n",
    "print(\"-----------------------------\")    \n"
   ]
  },
  {
   "cell_type": "markdown",
   "metadata": {},
   "source": [
    "### Convert Raw Data to DataFrame\n",
    "* Export the city data into a .csv.\n",
    "* Display the DataFrame"
   ]
  },
  {
   "cell_type": "code",
   "execution_count": 72,
   "metadata": {},
   "outputs": [
    {
     "data": {
      "text/html": [
       "<div>\n",
       "<style scoped>\n",
       "    .dataframe tbody tr th:only-of-type {\n",
       "        vertical-align: middle;\n",
       "    }\n",
       "\n",
       "    .dataframe tbody tr th {\n",
       "        vertical-align: top;\n",
       "    }\n",
       "\n",
       "    .dataframe thead th {\n",
       "        text-align: right;\n",
       "    }\n",
       "</style>\n",
       "<table border=\"1\" class=\"dataframe\">\n",
       "  <thead>\n",
       "    <tr style=\"text-align: right;\">\n",
       "      <th></th>\n",
       "      <th>City</th>\n",
       "      <th>Cloudiness</th>\n",
       "      <th>Country</th>\n",
       "      <th>Date</th>\n",
       "      <th>Humidity</th>\n",
       "      <th>Lat</th>\n",
       "      <th>Lng</th>\n",
       "      <th>Max Temp</th>\n",
       "      <th>Wind Speed</th>\n",
       "    </tr>\n",
       "  </thead>\n",
       "  <tbody>\n",
       "    <tr>\n",
       "      <th>0</th>\n",
       "      <td>Rawson</td>\n",
       "      <td>72</td>\n",
       "      <td>AR</td>\n",
       "      <td>1587752340</td>\n",
       "      <td>36</td>\n",
       "      <td>-43.30</td>\n",
       "      <td>-65.10</td>\n",
       "      <td>20.00</td>\n",
       "      <td>3.67</td>\n",
       "    </tr>\n",
       "    <tr>\n",
       "      <th>1</th>\n",
       "      <td>Sumbe</td>\n",
       "      <td>5</td>\n",
       "      <td>AO</td>\n",
       "      <td>1587752341</td>\n",
       "      <td>85</td>\n",
       "      <td>-11.21</td>\n",
       "      <td>13.84</td>\n",
       "      <td>25.87</td>\n",
       "      <td>1.39</td>\n",
       "    </tr>\n",
       "    <tr>\n",
       "      <th>2</th>\n",
       "      <td>Barrow</td>\n",
       "      <td>1</td>\n",
       "      <td>US</td>\n",
       "      <td>1587752341</td>\n",
       "      <td>77</td>\n",
       "      <td>71.29</td>\n",
       "      <td>-156.79</td>\n",
       "      <td>-18.00</td>\n",
       "      <td>5.70</td>\n",
       "    </tr>\n",
       "    <tr>\n",
       "      <th>3</th>\n",
       "      <td>Atuona</td>\n",
       "      <td>13</td>\n",
       "      <td>PF</td>\n",
       "      <td>1587752341</td>\n",
       "      <td>73</td>\n",
       "      <td>-9.80</td>\n",
       "      <td>-139.03</td>\n",
       "      <td>27.79</td>\n",
       "      <td>7.23</td>\n",
       "    </tr>\n",
       "    <tr>\n",
       "      <th>4</th>\n",
       "      <td>Busselton</td>\n",
       "      <td>100</td>\n",
       "      <td>AU</td>\n",
       "      <td>1587752341</td>\n",
       "      <td>76</td>\n",
       "      <td>-33.65</td>\n",
       "      <td>115.33</td>\n",
       "      <td>17.22</td>\n",
       "      <td>7.10</td>\n",
       "    </tr>\n",
       "  </tbody>\n",
       "</table>\n",
       "</div>"
      ],
      "text/plain": [
       "        City  Cloudiness Country        Date  Humidity    Lat     Lng  \\\n",
       "0     Rawson          72      AR  1587752340        36 -43.30  -65.10   \n",
       "1      Sumbe           5      AO  1587752341        85 -11.21   13.84   \n",
       "2     Barrow           1      US  1587752341        77  71.29 -156.79   \n",
       "3     Atuona          13      PF  1587752341        73  -9.80 -139.03   \n",
       "4  Busselton         100      AU  1587752341        76 -33.65  115.33   \n",
       "\n",
       "   Max Temp  Wind Speed  \n",
       "0     20.00        3.67  \n",
       "1     25.87        1.39  \n",
       "2    -18.00        5.70  \n",
       "3     27.79        7.23  \n",
       "4     17.22        7.10  "
      ]
     },
     "execution_count": 72,
     "metadata": {},
     "output_type": "execute_result"
    }
   ],
   "source": [
    "#Export Dataframe to csv\n",
    "weather_df.to_csv(r'output_data/cities.csv', index=False, header = True)\n",
    "#Display Dataframe\n",
    "weather_df.head()"
   ]
  },
  {
   "cell_type": "code",
   "execution_count": null,
   "metadata": {},
   "outputs": [],
   "source": []
  },
  {
   "cell_type": "markdown",
   "metadata": {},
   "source": [
    "### Plotting the Data\n",
    "* Use proper labeling of the plots using plot titles (including date of analysis) and axes labels.\n",
    "* Save the plotted figures as .pngs."
   ]
  },
  {
   "cell_type": "markdown",
   "metadata": {},
   "source": [
    "#### Latitude vs. Temperature Plot"
   ]
  },
  {
   "cell_type": "code",
   "execution_count": 97,
   "metadata": {
    "scrolled": true
   },
   "outputs": [
    {
     "data": {
      "image/png": "[encoded data removed]",
      "text/plain": [
       "<Figure size 432x288 with 1 Axes>"
      ]
     },
     "metadata": {
      "needs_background": "light"
     },
     "output_type": "display_data"
    }
   ],
   "source": [
    "# Create scatter plot\n",
    "plt.scatter(weather_df[\"Lat\"], weather_df[\"Max Temp\"], marker=\"o\")\n",
    "\n",
    "# Add labels\n",
    "plt.title(\"Latitude vs. Temperature 04/24/2020\")\n",
    "plt.ylabel(\"Max Temperature\")\n",
    "plt.xlabel(\"Latitude\")\n",
    "plt.grid(True)\n",
    "\n",
    "# Create Png\n",
    "plt.savefig(\"LatitudeVs.TemperaturePlot.png\")\n",
    "\n",
    "# Show plot\n",
    "plt.show()"
   ]
  },
  {
   "cell_type": "markdown",
   "metadata": {},
   "source": [
    "This plot looks at whether latitude affects the maximum temperature of the city, and we can see that it does the cities closest to zero having higher temperatures and the temp dropping on either side of 0.  "
   ]
  },
  {
   "cell_type": "markdown",
   "metadata": {},
   "source": [
    "#### Latitude vs. Humidity Plot"
   ]
  },
  {
   "cell_type": "code",
   "execution_count": 98,
   "metadata": {},
   "outputs": [
    {
     "data": {
      "image/png": "[encoded data removed]",
      "text/plain": [
       "<Figure size 432x288 with 1 Axes>"
      ]
     },
     "metadata": {
      "needs_background": "light"
     },
     "output_type": "display_data"
    }
   ],
   "source": [
    "# Create scatter plot\n",
    "plt.scatter(weather_df[\"Lat\"], weather_df[\"Humidity\"], marker=\"o\")\n",
    "\n",
    "# Add labels\n",
    "plt.title(\"Latitude vs. Humidity 04/24/2020\")\n",
    "plt.ylabel(\"Humidity\")\n",
    "plt.xlabel(\"Latitude\")\n",
    "plt.grid(True)\n",
    "\n",
    "# Create Png\n",
    "plt.savefig(\"LatitudeVs.HumidityPlot.png\")\n",
    "\n",
    "# Show plot\n",
    "plt.show()"
   ]
  },
  {
   "cell_type": "markdown",
   "metadata": {},
   "source": [
    "This plot looks at whether latitude affects the humidity of the city, and we can see there is a slight amount of correlation around the 0 latitude there is higher humidity. However, the rest of the data points do not show strong correlation.   "
   ]
  },
  {
   "cell_type": "markdown",
   "metadata": {},
   "source": [
    "#### Latitude vs. Cloudiness Plot"
   ]
  },
  {
   "cell_type": "code",
   "execution_count": 99,
   "metadata": {},
   "outputs": [
    {
     "data": {
      "image/png": "[encoded data removed]",
      "text/plain": [
       "<Figure size 432x288 with 1 Axes>"
      ]
     },
     "metadata": {
      "needs_background": "light"
     },
     "output_type": "display_data"
    }
   ],
   "source": [
    "# Create scatter plot\n",
    "plt.scatter(weather_df[\"Lat\"], weather_df[\"Cloudiness\"], marker=\"o\")\n",
    "\n",
    "# Add labels\n",
    "plt.title(\"Latitude vs. Cloudiness 04/24/2020\")\n",
    "plt.ylabel(\"Cloudiness\")\n",
    "plt.xlabel(\"Latitude\")\n",
    "plt.grid(True)\n",
    "\n",
    "# Create Png\n",
    "plt.savefig(\"LatitudeVs.CloudinessPlot.png\")\n",
    "\n",
    "# Show plot\n",
    "plt.show()"
   ]
  },
  {
   "cell_type": "markdown",
   "metadata": {},
   "source": [
    "This plot looks at whether latitude affects the cloudiness of the city, and we can see that it does not because of the non-correlated data points.  "
   ]
  },
  {
   "cell_type": "markdown",
   "metadata": {},
   "source": [
    "#### Latitude vs. Wind Speed Plot"
   ]
  },
  {
   "cell_type": "code",
   "execution_count": 100,
   "metadata": {},
   "outputs": [
    {
     "data": {
      "image/png": "[encoded data removed]",
      "text/plain": [
       "<Figure size 432x288 with 1 Axes>"
      ]
     },
     "metadata": {
      "needs_background": "light"
     },
     "output_type": "display_data"
    }
   ],
   "source": [
    "# Create scatter plot\n",
    "plt.scatter(weather_df[\"Lat\"], weather_df[\"Wind Speed\"], marker=\"o\")\n",
    "\n",
    "# Add labels\n",
    "plt.title(\"Latitude vs. Wind Speed 04/24/2020\")\n",
    "plt.ylabel(\"Wind Speed\")\n",
    "plt.xlabel(\"Latitude\")\n",
    "plt.grid(True)\n",
    "\n",
    "# Create Png\n",
    "plt.savefig(\"LatitudeVs.WindSpeedPlot.png\")\n",
    "\n",
    "# Show plot\n",
    "plt.show()"
   ]
  },
  {
   "cell_type": "markdown",
   "metadata": {},
   "source": [
    "This plot looks at whether latitude affects the wind speed in a city, and we can see that it does not because the data points are consistent across the graph no matter their latitude.  "
   ]
  },
  {
   "cell_type": "markdown",
   "metadata": {},
   "source": [
    "## Linear Regression"
   ]
  },
  {
   "cell_type": "code",
   "execution_count": null,
   "metadata": {},
   "outputs": [],
   "source": [
    "# OPTIONAL: Create a function to create Linear Regression plots\n"
   ]
  },
  {
   "cell_type": "code",
   "execution_count": 130,
   "metadata": {},
   "outputs": [
    {
     "data": {
      "text/html": [
       "<div>\n",
       "<style scoped>\n",
       "    .dataframe tbody tr th:only-of-type {\n",
       "        vertical-align: middle;\n",
       "    }\n",
       "\n",
       "    .dataframe tbody tr th {\n",
       "        vertical-align: top;\n",
       "    }\n",
       "\n",
       "    .dataframe thead th {\n",
       "        text-align: right;\n",
       "    }\n",
       "</style>\n",
       "<table border=\"1\" class=\"dataframe\">\n",
       "  <thead>\n",
       "    <tr style=\"text-align: right;\">\n",
       "      <th></th>\n",
       "      <th>City</th>\n",
       "      <th>Cloudiness</th>\n",
       "      <th>Country</th>\n",
       "      <th>Date</th>\n",
       "      <th>Humidity</th>\n",
       "      <th>Lat</th>\n",
       "      <th>Lng</th>\n",
       "      <th>Max Temp</th>\n",
       "      <th>Wind Speed</th>\n",
       "    </tr>\n",
       "  </thead>\n",
       "  <tbody>\n",
       "    <tr>\n",
       "      <th>0</th>\n",
       "      <td>Barrow</td>\n",
       "      <td>1</td>\n",
       "      <td>US</td>\n",
       "      <td>1587752341</td>\n",
       "      <td>77</td>\n",
       "      <td>71.29</td>\n",
       "      <td>-156.79</td>\n",
       "      <td>-18.00</td>\n",
       "      <td>5.70</td>\n",
       "    </tr>\n",
       "    <tr>\n",
       "      <th>1</th>\n",
       "      <td>Batagay-Alyta</td>\n",
       "      <td>65</td>\n",
       "      <td>RU</td>\n",
       "      <td>1587752341</td>\n",
       "      <td>91</td>\n",
       "      <td>67.80</td>\n",
       "      <td>130.41</td>\n",
       "      <td>-8.05</td>\n",
       "      <td>1.24</td>\n",
       "    </tr>\n",
       "    <tr>\n",
       "      <th>2</th>\n",
       "      <td>Ashquelon</td>\n",
       "      <td>2</td>\n",
       "      <td>IL</td>\n",
       "      <td>1587752341</td>\n",
       "      <td>72</td>\n",
       "      <td>31.67</td>\n",
       "      <td>34.57</td>\n",
       "      <td>21.11</td>\n",
       "      <td>8.44</td>\n",
       "    </tr>\n",
       "    <tr>\n",
       "      <th>3</th>\n",
       "      <td>Bethel</td>\n",
       "      <td>90</td>\n",
       "      <td>US</td>\n",
       "      <td>1587752342</td>\n",
       "      <td>93</td>\n",
       "      <td>41.37</td>\n",
       "      <td>-73.41</td>\n",
       "      <td>8.33</td>\n",
       "      <td>5.10</td>\n",
       "    </tr>\n",
       "    <tr>\n",
       "      <th>4</th>\n",
       "      <td>Husavik</td>\n",
       "      <td>20</td>\n",
       "      <td>IS</td>\n",
       "      <td>1587752342</td>\n",
       "      <td>70</td>\n",
       "      <td>66.04</td>\n",
       "      <td>-17.34</td>\n",
       "      <td>7.00</td>\n",
       "      <td>3.60</td>\n",
       "    </tr>\n",
       "  </tbody>\n",
       "</table>\n",
       "</div>"
      ],
      "text/plain": [
       "            City  Cloudiness Country        Date  Humidity    Lat     Lng  \\\n",
       "0         Barrow           1      US  1587752341        77  71.29 -156.79   \n",
       "1  Batagay-Alyta          65      RU  1587752341        91  67.80  130.41   \n",
       "2      Ashquelon           2      IL  1587752341        72  31.67   34.57   \n",
       "3         Bethel          90      US  1587752342        93  41.37  -73.41   \n",
       "4        Husavik          20      IS  1587752342        70  66.04  -17.34   \n",
       "\n",
       "   Max Temp  Wind Speed  \n",
       "0    -18.00        5.70  \n",
       "1     -8.05        1.24  \n",
       "2     21.11        8.44  \n",
       "3      8.33        5.10  \n",
       "4      7.00        3.60  "
      ]
     },
     "execution_count": 130,
     "metadata": {},
     "output_type": "execute_result"
    }
   ],
   "source": [
    "# Create Northern Hemisphere DataFrame\n",
    "northern_df = weather_df.query(\"Lat >= 0\")\n",
    "northern_df = northern_df.reset_index(drop=True)\n",
    "northern_df.head()"
   ]
  },
  {
   "cell_type": "code",
   "execution_count": 129,
   "metadata": {},
   "outputs": [
    {
     "data": {
      "text/html": [
       "<div>\n",
       "<style scoped>\n",
       "    .dataframe tbody tr th:only-of-type {\n",
       "        vertical-align: middle;\n",
       "    }\n",
       "\n",
       "    .dataframe tbody tr th {\n",
       "        vertical-align: top;\n",
       "    }\n",
       "\n",
       "    .dataframe thead th {\n",
       "        text-align: right;\n",
       "    }\n",
       "</style>\n",
       "<table border=\"1\" class=\"dataframe\">\n",
       "  <thead>\n",
       "    <tr style=\"text-align: right;\">\n",
       "      <th></th>\n",
       "      <th>City</th>\n",
       "      <th>Cloudiness</th>\n",
       "      <th>Country</th>\n",
       "      <th>Date</th>\n",
       "      <th>Humidity</th>\n",
       "      <th>Lat</th>\n",
       "      <th>Lng</th>\n",
       "      <th>Max Temp</th>\n",
       "      <th>Wind Speed</th>\n",
       "    </tr>\n",
       "  </thead>\n",
       "  <tbody>\n",
       "    <tr>\n",
       "      <th>0</th>\n",
       "      <td>Rawson</td>\n",
       "      <td>72</td>\n",
       "      <td>AR</td>\n",
       "      <td>1587752340</td>\n",
       "      <td>36</td>\n",
       "      <td>-43.30</td>\n",
       "      <td>-65.10</td>\n",
       "      <td>20.00</td>\n",
       "      <td>3.67</td>\n",
       "    </tr>\n",
       "    <tr>\n",
       "      <th>1</th>\n",
       "      <td>Sumbe</td>\n",
       "      <td>5</td>\n",
       "      <td>AO</td>\n",
       "      <td>1587752341</td>\n",
       "      <td>85</td>\n",
       "      <td>-11.21</td>\n",
       "      <td>13.84</td>\n",
       "      <td>25.87</td>\n",
       "      <td>1.39</td>\n",
       "    </tr>\n",
       "    <tr>\n",
       "      <th>2</th>\n",
       "      <td>Atuona</td>\n",
       "      <td>13</td>\n",
       "      <td>PF</td>\n",
       "      <td>1587752341</td>\n",
       "      <td>73</td>\n",
       "      <td>-9.80</td>\n",
       "      <td>-139.03</td>\n",
       "      <td>27.79</td>\n",
       "      <td>7.23</td>\n",
       "    </tr>\n",
       "    <tr>\n",
       "      <th>3</th>\n",
       "      <td>Busselton</td>\n",
       "      <td>100</td>\n",
       "      <td>AU</td>\n",
       "      <td>1587752341</td>\n",
       "      <td>76</td>\n",
       "      <td>-33.65</td>\n",
       "      <td>115.33</td>\n",
       "      <td>17.22</td>\n",
       "      <td>7.10</td>\n",
       "    </tr>\n",
       "    <tr>\n",
       "      <th>4</th>\n",
       "      <td>Carutapera</td>\n",
       "      <td>88</td>\n",
       "      <td>BR</td>\n",
       "      <td>1587752342</td>\n",
       "      <td>72</td>\n",
       "      <td>-1.20</td>\n",
       "      <td>-46.02</td>\n",
       "      <td>29.12</td>\n",
       "      <td>0.65</td>\n",
       "    </tr>\n",
       "  </tbody>\n",
       "</table>\n",
       "</div>"
      ],
      "text/plain": [
       "         City  Cloudiness Country        Date  Humidity    Lat     Lng  \\\n",
       "0      Rawson          72      AR  1587752340        36 -43.30  -65.10   \n",
       "1       Sumbe           5      AO  1587752341        85 -11.21   13.84   \n",
       "2      Atuona          13      PF  1587752341        73  -9.80 -139.03   \n",
       "3   Busselton         100      AU  1587752341        76 -33.65  115.33   \n",
       "4  Carutapera          88      BR  1587752342        72  -1.20  -46.02   \n",
       "\n",
       "   Max Temp  Wind Speed  \n",
       "0     20.00        3.67  \n",
       "1     25.87        1.39  \n",
       "2     27.79        7.23  \n",
       "3     17.22        7.10  \n",
       "4     29.12        0.65  "
      ]
     },
     "execution_count": 129,
     "metadata": {},
     "output_type": "execute_result"
    }
   ],
   "source": [
    "#Create Southern Hemisphere DataFrame\n",
    "southern_df = weather_df.query(\"Lat <= 0\")\n",
    "southern_df = southern_df.reset_index(drop=True)\n",
    "southern_df.head()"
   ]
  },
  {
   "cell_type": "markdown",
   "metadata": {},
   "source": [
    "####  Northern Hemisphere - Max Temp vs. Latitude Linear Regression"
   ]
  },
  {
   "cell_type": "code",
   "execution_count": 116,
   "metadata": {},
   "outputs": [
    {
     "data": {
      "image/png": "[encoded data removed]",
      "text/plain": [
       "<Figure size 432x288 with 1 Axes>"
      ]
     },
     "metadata": {
      "needs_background": "light"
     },
     "output_type": "display_data"
    },
    {
     "name": "stdout",
     "output_type": "stream",
     "text": [
      "-0.8695090337332584\n"
     ]
    }
   ],
   "source": [
    "# Create values\n",
    "lat = northern_df[\"Lat\"]\n",
    "temp = northern_df[\"Max Temp\"]\n",
    "\n",
    "#Linear Regression & Scatter\n",
    "(slope, intercept, rvalue, pvalue, stderr) = linregress(lat, temp)\n",
    "regress_values = lat * slope + intercept\n",
    "line_eq = \"y = \" + str(round(slope,2)) + \"x + \" + str(round(intercept,2))\n",
    "plt.scatter(northern_df[\"Lat\"], northern_df[\"Max Temp\"], marker=\"o\")\n",
    "plt.plot(lat,regress_values,\"r-\")\n",
    "plt.annotate(line_eq,(6,10),fontsize=15,color=\"red\")\n",
    "\n",
    "# Add labels\n",
    "plt.title(\"Latitude vs. Temperature 04/24/2020\")\n",
    "plt.ylabel(\"Max Temperature\")\n",
    "plt.xlabel(\"Latitude\")\n",
    "plt.grid(True)\n",
    "\n",
    "# Create Png\n",
    "plt.savefig(\"NHLatitudeVs.TemperaturePlot.png\")\n",
    "\n",
    "# Show plot\n",
    "plt.show()\n",
    "print(rvalue)"
   ]
  },
  {
   "cell_type": "markdown",
   "metadata": {},
   "source": [
    "This plot looks at whether latitude affects the temperature in the city, and we can see that it does because of the clear corraltion between the closer to 0 the higher the temperature.  "
   ]
  },
  {
   "cell_type": "markdown",
   "metadata": {},
   "source": [
    "####  Southern Hemisphere - Max Temp vs. Latitude Linear Regression"
   ]
  },
  {
   "cell_type": "code",
   "execution_count": 115,
   "metadata": {},
   "outputs": [
    {
     "data": {
      "image/png": "[encoded data removed]",
      "text/plain": [
       "<Figure size 432x288 with 1 Axes>"
      ]
     },
     "metadata": {
      "needs_background": "light"
     },
     "output_type": "display_data"
    },
    {
     "name": "stdout",
     "output_type": "stream",
     "text": [
      "0.7149731069588862\n"
     ]
    }
   ],
   "source": [
    "# Create values\n",
    "lat = southern_df[\"Lat\"]\n",
    "temp = southern_df[\"Max Temp\"]\n",
    "\n",
    "#Linear Regression & Scatter\n",
    "(slope, intercept, rvalue, pvalue, stderr) = linregress(lat, temp)\n",
    "regress_values = lat * slope + intercept\n",
    "line_eq = \"y = \" + str(round(slope,2)) + \"x + \" + str(round(intercept,2))\n",
    "plt.scatter(southern_df[\"Lat\"], southern_df[\"Max Temp\"], marker=\"o\")\n",
    "plt.plot(lat,regress_values,\"r-\")\n",
    "plt.annotate(line_eq,(6,10),fontsize=15,color=\"red\")\n",
    "\n",
    "# Add labels\n",
    "plt.title(\"Latitude vs. Temperature 04/24/2020\")\n",
    "plt.ylabel(\"Max Temperature\")\n",
    "plt.xlabel(\"Latitude\")\n",
    "plt.grid(True)\n",
    "\n",
    "# Create Png\n",
    "plt.savefig(\"SHLatitudeVs.TemperaturePlot.png\")\n",
    "\n",
    "# Show plot\n",
    "plt.show()\n",
    "print(rvalue)"
   ]
  },
  {
   "cell_type": "markdown",
   "metadata": {},
   "source": [
    "This plot looks at whether latitude affects the temperature in the city, and we can see that it does because of the clear corraltion between the closer to 0 the higher the temperature.  "
   ]
  },
  {
   "cell_type": "markdown",
   "metadata": {},
   "source": [
    "####  Northern Hemisphere - Humidity (%) vs. Latitude Linear Regression"
   ]
  },
  {
   "cell_type": "code",
   "execution_count": 117,
   "metadata": {},
   "outputs": [
    {
     "data": {
      "image/png": "[encoded data removed]",
      "text/plain": [
       "<Figure size 432x288 with 1 Axes>"
      ]
     },
     "metadata": {
      "needs_background": "light"
     },
     "output_type": "display_data"
    },
    {
     "name": "stdout",
     "output_type": "stream",
     "text": [
      "0.29897185829389716\n"
     ]
    }
   ],
   "source": [
    "# Create values\n",
    "lat = northern_df[\"Lat\"]\n",
    "humidity = northern_df[\"Humidity\"]\n",
    "\n",
    "#Linear Regression & Scatter\n",
    "(slope, intercept, rvalue, pvalue, stderr) = linregress(lat, humidity)\n",
    "regress_values = lat * slope + intercept\n",
    "line_eq = \"y = \" + str(round(slope,2)) + \"x + \" + str(round(intercept,2))\n",
    "plt.scatter(northern_df[\"Lat\"], northern_df[\"Humidity\"], marker=\"o\")\n",
    "plt.plot(lat,regress_values,\"r-\")\n",
    "plt.annotate(line_eq,(6,10),fontsize=15,color=\"red\")\n",
    "\n",
    "# Add labels\n",
    "plt.title(\"Latitude vs. Humidity 04/24/2020\")\n",
    "plt.ylabel(\"Humidity\")\n",
    "plt.xlabel(\"Latitude\")\n",
    "plt.grid(True)\n",
    "\n",
    "# Create Png\n",
    "plt.savefig(\"NHLatitudeVs.HumidityPlot.png\")\n",
    "\n",
    "# Show plot\n",
    "plt.show()\n",
    "print(rvalue)"
   ]
  },
  {
   "cell_type": "markdown",
   "metadata": {},
   "source": [
    "This plot looks at whether latitude affects the humidity of the city, and we can see there is a slight amount of correlation around with the higher the latitude the higher the humidity.  "
   ]
  },
  {
   "cell_type": "markdown",
   "metadata": {},
   "source": [
    "####  Southern Hemisphere - Humidity (%) vs. Latitude Linear Regression"
   ]
  },
  {
   "cell_type": "code",
   "execution_count": 118,
   "metadata": {},
   "outputs": [
    {
     "data": {
      "image/png": "[encoded data removed]",
      "text/plain": [
       "<Figure size 432x288 with 1 Axes>"
      ]
     },
     "metadata": {
      "needs_background": "light"
     },
     "output_type": "display_data"
    },
    {
     "name": "stdout",
     "output_type": "stream",
     "text": [
      "-0.0009784099800816545\n"
     ]
    }
   ],
   "source": [
    "# Create values\n",
    "lat = southern_df[\"Lat\"]\n",
    "humidity = southern_df[\"Humidity\"]\n",
    "\n",
    "#Linear Regression & Scatter\n",
    "(slope, intercept, rvalue, pvalue, stderr) = linregress(lat, humidity)\n",
    "regress_values = lat * slope + intercept\n",
    "line_eq = \"y = \" + str(round(slope,2)) + \"x + \" + str(round(intercept,2))\n",
    "plt.scatter(southern_df[\"Lat\"], southern_df[\"Humidity\"], marker=\"o\")\n",
    "plt.plot(lat,regress_values,\"r-\")\n",
    "plt.annotate(line_eq,(6,10),fontsize=15,color=\"red\")\n",
    "\n",
    "# Add labels\n",
    "plt.title(\"Latitude vs. Humidity 04/24/2020\")\n",
    "plt.ylabel(\"Humidity\")\n",
    "plt.xlabel(\"Latitude\")\n",
    "plt.grid(True)\n",
    "\n",
    "# Create Png\n",
    "plt.savefig(\"SHLatitudeVs.HumidityPlot.png\")\n",
    "\n",
    "# Show plot\n",
    "plt.show()\n",
    "print(rvalue)"
   ]
  },
  {
   "cell_type": "markdown",
   "metadata": {},
   "source": [
    "This plot looks at whether latitude affects the humidity of the city, and we can see there is very little correlation between these datapoints. "
   ]
  },
  {
   "cell_type": "markdown",
   "metadata": {},
   "source": [
    "####  Northern Hemisphere - Cloudiness (%) vs. Latitude Linear Regression"
   ]
  },
  {
   "cell_type": "code",
   "execution_count": 119,
   "metadata": {},
   "outputs": [
    {
     "data": {
      "image/png": "[encoded data removed]",
      "text/plain": [
       "<Figure size 432x288 with 1 Axes>"
      ]
     },
     "metadata": {
      "needs_background": "light"
     },
     "output_type": "display_data"
    },
    {
     "name": "stdout",
     "output_type": "stream",
     "text": [
      "0.11751008170327017\n"
     ]
    }
   ],
   "source": [
    "# Create values\n",
    "lat = northern_df[\"Lat\"]\n",
    "cloud = northern_df[\"Cloudiness\"]\n",
    "\n",
    "#Linear Regression & Scatter\n",
    "(slope, intercept, rvalue, pvalue, stderr) = linregress(lat, cloud)\n",
    "regress_values = lat * slope + intercept\n",
    "line_eq = \"y = \" + str(round(slope,2)) + \"x + \" + str(round(intercept,2))\n",
    "plt.scatter(northern_df[\"Lat\"], northern_df[\"Cloudiness\"], marker=\"o\")\n",
    "plt.plot(lat,regress_values,\"r-\")\n",
    "plt.annotate(line_eq,(6,10),fontsize=15,color=\"red\")\n",
    "\n",
    "# Add labels\n",
    "plt.title(\"Latitude vs. Cloudiness 04/24/2020\")\n",
    "plt.ylabel(\"Cloudiness\")\n",
    "plt.xlabel(\"Latitude\")\n",
    "plt.grid(True)\n",
    "\n",
    "# Create Png\n",
    "plt.savefig(\"NHLatitudeVs.CloudinessPlot.png\")\n",
    "\n",
    "# Show plot\n",
    "plt.show()\n",
    "print(rvalue)"
   ]
  },
  {
   "cell_type": "markdown",
   "metadata": {},
   "source": [
    "This plot looks at whether latitude affects the cloudiness of the city, and we can see that it does not because of the non-correlated data points.  "
   ]
  },
  {
   "cell_type": "markdown",
   "metadata": {},
   "source": [
    "####  Southern Hemisphere - Cloudiness (%) vs. Latitude Linear Regression"
   ]
  },
  {
   "cell_type": "code",
   "execution_count": 131,
   "metadata": {},
   "outputs": [
    {
     "data": {
      "image/png": "[encoded data removed]",
      "text/plain": [
       "<Figure size 432x288 with 1 Axes>"
      ]
     },
     "metadata": {
      "needs_background": "light"
     },
     "output_type": "display_data"
    },
    {
     "name": "stdout",
     "output_type": "stream",
     "text": [
      "-0.11354279627343908\n"
     ]
    }
   ],
   "source": [
    "# Create values\n",
    "lat = southern_df[\"Lat\"]\n",
    "cloud = southern_df[\"Cloudiness\"]\n",
    "\n",
    "#Linear Regression & Scatter\n",
    "(slope, intercept, rvalue, pvalue, stderr) = linregress(lat, cloud)\n",
    "regress_values = lat * slope + intercept\n",
    "line_eq = \"y = \" + str(round(slope,2)) + \"x + \" + str(round(intercept,2))\n",
    "plt.scatter(southern_df[\"Lat\"], southern_df[\"Cloudiness\"], marker=\"o\")\n",
    "plt.plot(lat,regress_values,\"r-\")\n",
    "plt.annotate(line_eq,(6,10),fontsize=15,color=\"red\")\n",
    "\n",
    "# Add labels\n",
    "plt.title(\"Latitude vs. Cloudiness 04/24/2020\")\n",
    "plt.ylabel(\"Cloudiness\")\n",
    "plt.xlabel(\"Latitude\")\n",
    "plt.grid(True)\n",
    "\n",
    "# Create Png\n",
    "plt.savefig(\"SHLatitudeVs.CloudinessPlot.png\")\n",
    "\n",
    "# Show plot\n",
    "plt.show()\n",
    "print(rvalue)"
   ]
  },
  {
   "cell_type": "markdown",
   "metadata": {},
   "source": [
    "This plot looks at whether latitude affects the cloudiness of the city, and we can see there is a slight correlation with the lower the latitude having a higher or absent amount of cloudiness. "
   ]
  },
  {
   "cell_type": "markdown",
   "metadata": {},
   "source": [
    "####  Northern Hemisphere - Wind Speed (mph) vs. Latitude Linear Regression"
   ]
  },
  {
   "cell_type": "code",
   "execution_count": 121,
   "metadata": {},
   "outputs": [
    {
     "data": {
      "image/png": "[encoded data removed]",
      "text/plain": [
       "<Figure size 432x288 with 1 Axes>"
      ]
     },
     "metadata": {
      "needs_background": "light"
     },
     "output_type": "display_data"
    },
    {
     "name": "stdout",
     "output_type": "stream",
     "text": [
      "0.08527622356751795\n"
     ]
    }
   ],
   "source": [
    "# Create values\n",
    "lat = northern_df[\"Lat\"]\n",
    "wind = northern_df[\"Wind Speed\"]\n",
    "\n",
    "#Linear Regression & Scatter\n",
    "(slope, intercept, rvalue, pvalue, stderr) = linregress(lat, wind)\n",
    "regress_values = lat * slope + intercept\n",
    "line_eq = \"y = \" + str(round(slope,2)) + \"x + \" + str(round(intercept,2))\n",
    "plt.scatter(northern_df[\"Lat\"], northern_df[\"Wind Speed\"], marker=\"o\")\n",
    "plt.plot(lat,regress_values,\"r-\")\n",
    "plt.annotate(line_eq,(6,10),fontsize=15,color=\"red\")\n",
    "\n",
    "# Add labels\n",
    "plt.title(\"Latitude vs. Wind Speed 04/24/2020\")\n",
    "plt.ylabel(\"Wind Speed\")\n",
    "plt.xlabel(\"Latitude\")\n",
    "plt.grid(True)\n",
    "\n",
    "# Create Png\n",
    "plt.savefig(\"NHLatitudeVs.WindSpeedPlot.png\")\n",
    "\n",
    "# Show plot\n",
    "plt.show()\n",
    "print(rvalue)"
   ]
  },
  {
   "cell_type": "markdown",
   "metadata": {},
   "source": [
    "This plot looks at whether latitude affects the wind speed in a city, and we can see a small correlation with the increase in latitude bringing slightly higher wind speed.  "
   ]
  },
  {
   "cell_type": "markdown",
   "metadata": {},
   "source": [
    "####  Southern Hemisphere - Wind Speed (mph) vs. Latitude Linear Regression"
   ]
  },
  {
   "cell_type": "code",
   "execution_count": 128,
   "metadata": {},
   "outputs": [
    {
     "data": {
      "image/png": "[encoded data removed]",
      "text/plain": [
       "<Figure size 432x288 with 1 Axes>"
      ]
     },
     "metadata": {
      "needs_background": "light"
     },
     "output_type": "display_data"
    },
    {
     "name": "stdout",
     "output_type": "stream",
     "text": [
      "-0.15825913222379911\n"
     ]
    }
   ],
   "source": [
    "# Create values\n",
    "lat = southern_df[\"Lat\"]\n",
    "wind = southern_df[\"Wind Speed\"]\n",
    "\n",
    "#Linear Regression & Scatter\n",
    "(slope, intercept, rvalue, pvalue, stderr) = linregress(lat, wind)\n",
    "regress_values = lat * slope + intercept\n",
    "line_eq = \"y = \" + str(round(slope,2)) + \"x + \" + str(round(intercept,2))\n",
    "plt.scatter(southern_df[\"Lat\"], southern_df[\"Wind Speed\"], marker=\"o\")\n",
    "plt.plot(lat,regress_values,\"r-\")\n",
    "plt.annotate(line_eq,(6,10),fontsize=15,color=\"red\")\n",
    "\n",
    "# Add labels\n",
    "plt.title(\"Latitude vs. Wind Speed 04/24/2020\")\n",
    "plt.ylabel(\"Wind Speed\")\n",
    "plt.xlabel(\"Latitude\")\n",
    "plt.grid(True)\n",
    "\n",
    "# Create Png\n",
    "plt.savefig(\"SHLatitudeVs.WindSpeedPlot.png\")\n",
    "\n",
    "# Show plot\n",
    "plt.show()\n",
    "print(rvalue)"
   ]
  },
  {
   "cell_type": "markdown",
   "metadata": {},
   "source": [
    "This plot looks at whether latitude affects the wind speed in a city, and we can see a correlation with the increase in latitude bringing lower wind speed.  "
   ]
  },
  {
   "cell_type": "code",
   "execution_count": null,
   "metadata": {},
   "outputs": [],
   "source": []
  }
 ],
 "metadata": {
  "anaconda-cloud": {},
  "kernel_info": {
   "name": "python3"
  },
  "kernelspec": {
   "display_name": "PythonData",
   "language": "python",
   "name": "pythondata"
  },
  "language_info": {
   "codemirror_mode": {
    "name": "ipython",
    "version": 3
   },
   "file_extension": ".py",
   "mimetype": "text/x-python",
   "name": "python",
   "nbconvert_exporter": "python",
   "pygments_lexer": "ipython3",
   "version": "3.8.1"
  },
  "latex_envs": {
   "LaTeX_envs_menu_present": true,
   "autoclose": false,
   "autocomplete": true,
   "bibliofile": "biblio.bib",
   "cite_by": "apalike",
   "current_citInitial": 1,
   "eqLabelWithNumbers": true,
   "eqNumInitial": 1,
   "hotkeys": {
    "equation": "Ctrl-E",
    "itemize": "Ctrl-I"
   },
   "labels_anchors": false,
   "latex_user_defs": false,
   "report_style_numbering": false,
   "user_envs_cfg": false
  },
  "nteract": {
   "version": "0.12.3"
  }
 },
 "nbformat": 4,
 "nbformat_minor": 4
}
