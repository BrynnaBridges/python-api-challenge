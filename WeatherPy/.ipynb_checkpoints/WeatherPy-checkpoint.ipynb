{
 "cells": [
  {
   "cell_type": "markdown",
   "metadata": {},
   "source": [
    "# WeatherPy\n",
    "----\n",
    "\n",
    "#### Note\n",
    "* Instructions have been included for each segment. You do not have to follow them exactly, but they are included to help you think through the steps."
   ]
  },
  {
   "cell_type": "code",
   "execution_count": 3,
   "metadata": {
    "scrolled": true
   },
   "outputs": [],
   "source": [
    "# Dependencies and Setup\n",
    "import matplotlib.pyplot as plt\n",
    "import pandas as pd\n",
    "import numpy as np\n",
    "import requests\n",
    "import time\n",
    "from scipy.stats import linregress\n",
    "import openweathermapy.core as owm\n",
    "\n",
    "# Import API key\n",
    "from api_keys import weather_api_key\n",
    "\n",
    "# Incorporated citipy to determine city based on latitude and longitude\n",
    "from citipy import citipy\n",
    "\n",
    "# Output File (CSV)\n",
    "output_data_file = \"output_data/cities.csv\"\n",
    "\n",
    "# Range of latitudes and longitudes\n",
    "lat_range = (-90, 90)\n",
    "lng_range = (-180, 180)"
   ]
  },
  {
   "cell_type": "markdown",
   "metadata": {},
   "source": [
    "## Generate Cities List"
   ]
  },
  {
   "cell_type": "code",
   "execution_count": 4,
   "metadata": {},
   "outputs": [
    {
     "data": {
      "text/plain": [
       "610"
      ]
     },
     "execution_count": 4,
     "metadata": {},
     "output_type": "execute_result"
    }
   ],
   "source": [
    "# List for holding lat_lngs and cities\n",
    "lat_lngs = []\n",
    "cities = []\n",
    "\n",
    "# Create a set of random lat and lng combinations\n",
    "lats = np.random.uniform(low=-90.000, high=90.000, size=1500)\n",
    "lngs = np.random.uniform(low=-180.000, high=180.000, size=1500)\n",
    "lat_lngs = zip(lats, lngs)\n",
    "\n",
    "# Identify nearest city for each lat, lng combination\n",
    "for lat_lng in lat_lngs:\n",
    "    city = citipy.nearest_city(lat_lng[0], lat_lng[1]).city_name\n",
    "    \n",
    "    # If the city is unique, then add it to a our cities list\n",
    "    if city not in cities:\n",
    "        cities.append(city)\n",
    "\n",
    "# Print the city count to confirm sufficient count\n",
    "len(cities)"
   ]
  },
  {
   "cell_type": "markdown",
   "metadata": {},
   "source": [
    "### Perform API Calls\n",
    "* Perform a weather check on each city using a series of successive API calls.\n",
    "* Include a print log of each city as it'sbeing processed (with the city number and city name).\n"
   ]
  },
  {
   "cell_type": "code",
   "execution_count": 9,
   "metadata": {},
   "outputs": [
    {
     "name": "stdout",
     "output_type": "stream",
     "text": [
      "Beginning Data Retrieval     \n",
      "-----------------------------\n",
      "Processing Record 0 of Set 0 | hermanus\n",
      "Processing Record 1 of Set 1 | iqaluit\n",
      "Processing Record 2 of Set 2 | ushuaia\n",
      "Processing Record 3 of Set 3 | padang\n",
      "Processing Record 4 of Set 4 | jamestown\n",
      "Processing Record 5 of Set 5 | northam\n",
      "Processing Record 6 of Set 6 | la ronge\n",
      "Processing Record 7 of Set 7 | rikitea\n",
      "Processing Record 8 of Set 8 | nikolskoye\n",
      "Processing Record 9 of Set 9 | hobart\n",
      "Processing Record 10 of Set 10 | taolanaro\n",
      "City not found. Skipping...\n",
      "Processing Record 11 of Set 11 | ilulissat\n",
      "Processing Record 12 of Set 12 | kodiak\n",
      "Processing Record 13 of Set 13 | barrow\n",
      "Processing Record 14 of Set 14 | braganca paulista\n",
      "Processing Record 15 of Set 15 | shilka\n",
      "Processing Record 16 of Set 16 | cape town\n",
      "Processing Record 17 of Set 17 | port alfred\n",
      "Processing Record 18 of Set 18 | tiksi\n",
      "Processing Record 19 of Set 19 | nome\n",
      "Processing Record 20 of Set 20 | sorvag\n",
      "City not found. Skipping...\n",
      "Processing Record 21 of Set 21 | gizo\n",
      "Processing Record 22 of Set 22 | atuona\n",
      "Processing Record 23 of Set 23 | mecca\n",
      "Processing Record 24 of Set 24 | nichinan\n",
      "Processing Record 25 of Set 25 | bluff\n",
      "Processing Record 26 of Set 26 | lasa\n",
      "Processing Record 27 of Set 27 | inta\n",
      "Processing Record 28 of Set 28 | saskylakh\n",
      "Processing Record 29 of Set 29 | baculin\n",
      "Processing Record 30 of Set 30 | vaini\n",
      "Processing Record 31 of Set 31 | fort nelson\n",
      "Processing Record 32 of Set 32 | sumenep\n",
      "Processing Record 33 of Set 33 | luderitz\n",
      "Processing Record 34 of Set 34 | illoqqortoormiut\n",
      "City not found. Skipping...\n",
      "Processing Record 35 of Set 35 | saint-augustin\n",
      "Processing Record 36 of Set 36 | sitka\n",
      "Processing Record 37 of Set 37 | georgetown\n",
      "Processing Record 38 of Set 38 | amga\n",
      "Processing Record 39 of Set 39 | clyde river\n",
      "Processing Record 40 of Set 40 | dzhebariki-khaya\n",
      "Processing Record 41 of Set 41 | lisala\n",
      "Processing Record 42 of Set 42 | yellowknife\n",
      "Processing Record 43 of Set 43 | avarua\n",
      "Processing Record 44 of Set 44 | champerico\n",
      "Processing Record 45 of Set 45 | bredasdorp\n",
      "Processing Record 46 of Set 46 | faanui\n",
      "Processing Record 47 of Set 47 | thai nguyen\n",
      "Processing Record 48 of Set 48 | shingu\n",
      "Processing Record 49 of Set 49 | airai\n",
      "Processing Record 50 of Set 50 | masyaf\n",
      "Processing Record 51 of Set 51 | sao filipe\n",
      "Processing Record 52 of Set 52 | castro\n",
      "Processing Record 53 of Set 53 | fare\n",
      "Processing Record 54 of Set 54 | lima\n",
      "Processing Record 55 of Set 55 | hithadhoo\n",
      "Processing Record 56 of Set 56 | butaritari\n",
      "Processing Record 57 of Set 57 | new norfolk\n",
      "Processing Record 58 of Set 58 | broken hill\n",
      "Processing Record 59 of Set 59 | mataura\n",
      "Processing Record 60 of Set 60 | nouakchott\n",
      "Processing Record 61 of Set 61 | anulid\n",
      "Processing Record 62 of Set 62 | dudinka\n",
      "Processing Record 63 of Set 63 | hay river\n",
      "Processing Record 64 of Set 64 | porto velho\n",
      "Processing Record 65 of Set 65 | busselton\n",
      "Processing Record 66 of Set 66 | porto novo\n",
      "Processing Record 67 of Set 67 | souillac\n",
      "Processing Record 68 of Set 68 | sur\n",
      "Processing Record 69 of Set 69 | singaraja\n",
      "Processing Record 70 of Set 70 | karkaralinsk\n",
      "City not found. Skipping...\n",
      "Processing Record 71 of Set 71 | payakumbuh\n",
      "Processing Record 72 of Set 72 | kruisfontein\n",
      "Processing Record 73 of Set 73 | norman wells\n",
      "Processing Record 74 of Set 74 | port elizabeth\n",
      "Processing Record 75 of Set 75 | kaitangata\n",
      "Processing Record 76 of Set 76 | lazo\n",
      "Processing Record 77 of Set 77 | fairbanks\n",
      "Processing Record 78 of Set 78 | copperas cove\n",
      "Processing Record 79 of Set 79 | ribeira grande\n",
      "Processing Record 80 of Set 80 | albany\n",
      "Processing Record 81 of Set 81 | panacan\n",
      "Processing Record 82 of Set 82 | tignere\n",
      "Processing Record 83 of Set 83 | tuktoyaktuk\n",
      "Processing Record 84 of Set 84 | rongu\n",
      "City not found. Skipping...\n",
      "Processing Record 85 of Set 85 | umzimvubu\n",
      "City not found. Skipping...\n",
      "Processing Record 86 of Set 86 | grand centre\n",
      "City not found. Skipping...\n",
      "Processing Record 87 of Set 87 | kashi\n",
      "Processing Record 88 of Set 88 | punta arenas\n",
      "Processing Record 89 of Set 89 | sobolevo\n",
      "Processing Record 90 of Set 90 | tuatapere\n",
      "Processing Record 91 of Set 91 | torbay\n",
      "Processing Record 92 of Set 92 | tazovskiy\n",
      "Processing Record 93 of Set 93 | renqiu\n",
      "Processing Record 94 of Set 94 | shache\n",
      "Processing Record 95 of Set 95 | saint-philippe\n",
      "Processing Record 96 of Set 96 | bathsheba\n",
      "Processing Record 97 of Set 97 | dikson\n",
      "Processing Record 98 of Set 98 | hilo\n",
      "Processing Record 99 of Set 99 | hasaki\n",
      "Processing Record 100 of Set 100 | luau\n",
      "Processing Record 101 of Set 101 | mys shmidta\n",
      "City not found. Skipping...\n",
      "Processing Record 102 of Set 102 | worland\n",
      "Processing Record 103 of Set 103 | grand river south east\n",
      "City not found. Skipping...\n",
      "Processing Record 104 of Set 104 | carnarvon\n",
      "Processing Record 105 of Set 105 | aykino\n",
      "Processing Record 106 of Set 106 | tsalka\n",
      "Processing Record 107 of Set 107 | aykhal\n",
      "Processing Record 108 of Set 108 | longyearbyen\n",
      "Processing Record 109 of Set 109 | belushya guba\n",
      "City not found. Skipping...\n",
      "Processing Record 110 of Set 110 | verkhnyaya inta\n",
      "Processing Record 111 of Set 111 | yala\n",
      "Processing Record 112 of Set 112 | nizhneyansk\n",
      "City not found. Skipping...\n",
      "Processing Record 113 of Set 113 | isangel\n",
      "Processing Record 114 of Set 114 | puerto ayora\n",
      "Processing Record 115 of Set 115 | qaanaaq\n",
      "Processing Record 116 of Set 116 | dhidhdhoo\n",
      "Processing Record 117 of Set 117 | tsihombe\n",
      "City not found. Skipping...\n",
      "Processing Record 118 of Set 118 | aguadilla\n",
      "Processing Record 119 of Set 119 | tautira\n",
      "Processing Record 120 of Set 120 | borogontsy\n",
      "Processing Record 121 of Set 121 | bakel\n",
      "Processing Record 122 of Set 122 | cidreira\n",
      "Processing Record 123 of Set 123 | geraldton\n",
      "Processing Record 124 of Set 124 | mar del plata\n",
      "Processing Record 125 of Set 125 | smithers\n",
      "Processing Record 126 of Set 126 | east london\n",
      "Processing Record 127 of Set 127 | pandan\n",
      "Processing Record 128 of Set 128 | san lorenzo\n",
      "Processing Record 129 of Set 129 | port lincoln\n",
      "Processing Record 130 of Set 130 | nanortalik\n",
      "Processing Record 131 of Set 131 | amderma\n",
      "City not found. Skipping...\n",
      "Processing Record 132 of Set 132 | talnakh\n",
      "Processing Record 133 of Set 133 | nelson bay\n",
      "Processing Record 134 of Set 134 | clarence town\n",
      "Processing Record 135 of Set 135 | katsuura\n",
      "Processing Record 136 of Set 136 | kamina\n",
      "Processing Record 137 of Set 137 | bourail\n",
      "Processing Record 138 of Set 138 | vaitupu\n",
      "City not found. Skipping...\n",
      "Processing Record 139 of Set 139 | aflao\n",
      "Processing Record 140 of Set 140 | namibe\n",
      "Processing Record 141 of Set 141 | koryukivka\n",
      "Processing Record 142 of Set 142 | chagda\n",
      "City not found. Skipping...\n",
      "Processing Record 143 of Set 143 | thompson\n",
      "Processing Record 144 of Set 144 | kavieng\n",
      "Processing Record 145 of Set 145 | upernavik\n",
      "Processing Record 146 of Set 146 | jalingo\n",
      "Processing Record 147 of Set 147 | longyan\n",
      "Processing Record 148 of Set 148 | bethel\n",
      "Processing Record 149 of Set 149 | kamenka\n",
      "Processing Record 150 of Set 150 | srednekolymsk\n",
      "Processing Record 151 of Set 151 | hami\n",
      "Processing Record 152 of Set 152 | mabaruma\n",
      "Processing Record 153 of Set 153 | hambantota\n",
      "Processing Record 154 of Set 154 | tabou\n",
      "Processing Record 155 of Set 155 | banda aceh\n",
      "Processing Record 156 of Set 156 | lodja\n",
      "Processing Record 157 of Set 157 | prince rupert\n",
      "Processing Record 158 of Set 158 | damara\n",
      "Processing Record 159 of Set 159 | naze\n",
      "Processing Record 160 of Set 160 | mount isa\n",
      "Processing Record 161 of Set 161 | chokurdakh\n",
      "Processing Record 162 of Set 162 | kapaa\n",
      "Processing Record 163 of Set 163 | mayor pablo lagerenza\n",
      "Processing Record 164 of Set 164 | svencionys\n",
      "Processing Record 165 of Set 165 | kota belud\n",
      "Processing Record 166 of Set 166 | san policarpo\n",
      "Processing Record 167 of Set 167 | pevek\n",
      "Processing Record 168 of Set 168 | lagoa\n",
      "Processing Record 169 of Set 169 | maues\n",
      "Processing Record 170 of Set 170 | falkoping\n",
      "City not found. Skipping...\n",
      "Processing Record 171 of Set 171 | pacific grove\n",
      "Processing Record 172 of Set 172 | vostok\n",
      "Processing Record 173 of Set 173 | bengkulu\n",
      "Processing Record 174 of Set 174 | perigueux\n",
      "Processing Record 175 of Set 175 | sisimiut\n",
      "Processing Record 176 of Set 176 | illapel\n",
      "Processing Record 177 of Set 177 | shiyan\n",
      "Processing Record 178 of Set 178 | pleszew\n",
      "Processing Record 179 of Set 179 | esperance\n",
      "Processing Record 180 of Set 180 | bayir\n",
      "Processing Record 181 of Set 181 | zar\n",
      "Processing Record 182 of Set 182 | attawapiskat\n",
      "City not found. Skipping...\n",
      "Processing Record 183 of Set 183 | waingapu\n",
      "Processing Record 184 of Set 184 | sandwick\n",
      "Processing Record 185 of Set 185 | sawakin\n",
      "Processing Record 186 of Set 186 | eldoret\n",
      "Processing Record 187 of Set 187 | ondjiva\n",
      "Processing Record 188 of Set 188 | panguna\n",
      "Processing Record 189 of Set 189 | narsaq\n",
      "Processing Record 190 of Set 190 | meulaboh\n",
      "Processing Record 191 of Set 191 | henties bay\n",
      "Processing Record 192 of Set 192 | necochea\n",
      "Processing Record 193 of Set 193 | ilebo\n",
      "Processing Record 194 of Set 194 | ponta do sol\n",
      "Processing Record 195 of Set 195 | la concordia\n",
      "Processing Record 196 of Set 196 | sayan\n",
      "Processing Record 197 of Set 197 | port hardy\n",
      "Processing Record 198 of Set 198 | sola\n",
      "Processing Record 199 of Set 199 | chicama\n",
      "Processing Record 200 of Set 200 | arraial do cabo\n",
      "Processing Record 201 of Set 201 | honiara\n",
      "Processing Record 202 of Set 202 | lensk\n",
      "Processing Record 203 of Set 203 | cruden bay\n",
      "City not found. Skipping...\n",
      "Processing Record 204 of Set 204 | havre-saint-pierre\n",
      "Processing Record 205 of Set 205 | kokkola\n",
      "Processing Record 206 of Set 206 | samalaeulu\n",
      "City not found. Skipping...\n",
      "Processing Record 207 of Set 207 | samusu\n",
      "City not found. Skipping...\n",
      "Processing Record 208 of Set 208 | san patricio\n",
      "Processing Record 209 of Set 209 | sabang\n",
      "Processing Record 210 of Set 210 | ketchikan\n",
      "Processing Record 211 of Set 211 | pachino\n",
      "Processing Record 212 of Set 212 | tessalit\n",
      "Processing Record 213 of Set 213 | barentsburg\n",
      "City not found. Skipping...\n",
      "Processing Record 214 of Set 214 | jalu\n",
      "Processing Record 215 of Set 215 | rabaul\n",
      "Processing Record 216 of Set 216 | chapais\n",
      "Processing Record 217 of Set 217 | marsh harbour\n",
      "Processing Record 218 of Set 218 | chalus\n",
      "Processing Record 219 of Set 219 | marawi\n",
      "Processing Record 220 of Set 220 | san rafael del sur\n",
      "Processing Record 221 of Set 221 | victoria\n",
      "Processing Record 222 of Set 222 | eureka\n",
      "Processing Record 223 of Set 223 | macaboboni\n",
      "City not found. Skipping...\n",
      "Processing Record 224 of Set 224 | okha\n",
      "Processing Record 225 of Set 225 | dafeng\n",
      "Processing Record 226 of Set 226 | waipawa\n",
      "Processing Record 227 of Set 227 | lebu\n",
      "Processing Record 228 of Set 228 | kaeo\n",
      "Processing Record 229 of Set 229 | kununurra\n",
      "Processing Record 230 of Set 230 | nizwa\n",
      "Processing Record 231 of Set 231 | komsomolskiy\n",
      "Processing Record 232 of Set 232 | mindelo\n",
      "Processing Record 233 of Set 233 | doha\n",
      "Processing Record 234 of Set 234 | calahorra\n",
      "Processing Record 235 of Set 235 | nisia floresta\n",
      "Processing Record 236 of Set 236 | vestmannaeyjar\n",
      "Processing Record 237 of Set 237 | jinchang\n",
      "Processing Record 238 of Set 238 | adra\n",
      "Processing Record 239 of Set 239 | hamilton\n",
      "Processing Record 240 of Set 240 | bandar\n",
      "Processing Record 241 of Set 241 | te anau\n",
      "Processing Record 242 of Set 242 | agadir\n",
      "Processing Record 243 of Set 243 | tsentralnyy\n",
      "City not found. Skipping...\n",
      "Processing Record 244 of Set 244 | kailua\n",
      "Processing Record 245 of Set 245 | talakan\n",
      "Processing Record 246 of Set 246 | stanger\n",
      "Processing Record 247 of Set 247 | warrington\n",
      "Processing Record 248 of Set 248 | bolonchen\n",
      "City not found. Skipping...\n",
      "Processing Record 249 of Set 249 | qasigiannguit\n",
      "Processing Record 250 of Set 250 | yerbogachen\n",
      "Processing Record 251 of Set 251 | egvekinot\n",
      "Processing Record 252 of Set 252 | margate\n",
      "Processing Record 253 of Set 253 | chatrapur\n",
      "Processing Record 254 of Set 254 | sorland\n",
      "Processing Record 255 of Set 255 | ancud\n",
      "Processing Record 256 of Set 256 | tiarei\n",
      "Processing Record 257 of Set 257 | zhigansk\n",
      "Processing Record 258 of Set 258 | saint-georges\n",
      "Processing Record 259 of Set 259 | hopelchen\n",
      "Processing Record 260 of Set 260 | ayagoz\n",
      "Processing Record 261 of Set 261 | nuuk\n",
      "Processing Record 262 of Set 262 | bousso\n",
      "Processing Record 263 of Set 263 | saldanha\n",
      "Processing Record 264 of Set 264 | korla\n",
      "Processing Record 265 of Set 265 | maceio\n",
      "Processing Record 266 of Set 266 | axim\n",
      "Processing Record 267 of Set 267 | zabol\n",
      "Processing Record 268 of Set 268 | lianzhou\n",
      "Processing Record 269 of Set 269 | junin\n",
      "Processing Record 270 of Set 270 | el faiyum\n",
      "City not found. Skipping...\n",
      "Processing Record 271 of Set 271 | provideniya\n",
      "Processing Record 272 of Set 272 | pangnirtung\n",
      "Processing Record 273 of Set 273 | sekoma\n",
      "Processing Record 274 of Set 274 | karatau\n",
      "Processing Record 275 of Set 275 | yantal\n",
      "Processing Record 276 of Set 276 | manokwari\n",
      "Processing Record 277 of Set 277 | sibolga\n",
      "Processing Record 278 of Set 278 | cuenca\n",
      "Processing Record 279 of Set 279 | chara\n",
      "Processing Record 280 of Set 280 | hua hin\n",
      "Processing Record 281 of Set 281 | chernyshevskiy\n",
      "Processing Record 282 of Set 282 | cockburn town\n",
      "Processing Record 283 of Set 283 | taybad\n",
      "Processing Record 284 of Set 284 | erenhot\n",
      "Processing Record 285 of Set 285 | opobo\n",
      "City not found. Skipping...\n",
      "Processing Record 286 of Set 286 | punakha\n",
      "Processing Record 287 of Set 287 | natal\n",
      "Processing Record 288 of Set 288 | lilongwe\n",
      "Processing Record 289 of Set 289 | tasiilaq\n",
      "Processing Record 290 of Set 290 | samana\n",
      "Processing Record 291 of Set 291 | sept-iles\n",
      "Processing Record 292 of Set 292 | ndola\n",
      "Processing Record 293 of Set 293 | tshikapa\n",
      "Processing Record 294 of Set 294 | guerrero negro\n",
      "Processing Record 295 of Set 295 | ahipara\n",
      "Processing Record 296 of Set 296 | katsiveli\n",
      "City not found. Skipping...\n",
      "Processing Record 297 of Set 297 | bouna\n",
      "Processing Record 298 of Set 298 | yirol\n",
      "City not found. Skipping...\n",
      "Processing Record 299 of Set 299 | mandalgovi\n",
      "Processing Record 300 of Set 300 | gamba\n",
      "Processing Record 301 of Set 301 | carutapera\n",
      "Processing Record 302 of Set 302 | whitehorse\n",
      "Processing Record 303 of Set 303 | zaysan\n",
      "Processing Record 304 of Set 304 | lar\n",
      "Processing Record 305 of Set 305 | klisura\n",
      "Processing Record 306 of Set 306 | gigmoto\n",
      "Processing Record 307 of Set 307 | kuanshan\n",
      "City not found. Skipping...\n",
      "Processing Record 308 of Set 308 | ruatoria\n",
      "City not found. Skipping...\n",
      "Processing Record 309 of Set 309 | karaul\n",
      "City not found. Skipping...\n",
      "Processing Record 310 of Set 310 | bridgton\n",
      "Processing Record 311 of Set 311 | leningradskiy\n",
      "Processing Record 312 of Set 312 | otradnoye\n",
      "Processing Record 313 of Set 313 | jining\n",
      "Processing Record 314 of Set 314 | masjed-e soleyman\n",
      "City not found. Skipping...\n",
      "Processing Record 315 of Set 315 | maragogi\n",
      "Processing Record 316 of Set 316 | vardo\n",
      "Processing Record 317 of Set 317 | port hedland\n",
      "Processing Record 318 of Set 318 | gobabis\n",
      "Processing Record 319 of Set 319 | pathein\n",
      "Processing Record 320 of Set 320 | mehamn\n",
      "Processing Record 321 of Set 321 | codrington\n",
      "Processing Record 322 of Set 322 | batemans bay\n",
      "Processing Record 323 of Set 323 | xinmin\n",
      "Processing Record 324 of Set 324 | muros\n",
      "Processing Record 325 of Set 325 | mooi river\n",
      "City not found. Skipping...\n",
      "Processing Record 326 of Set 326 | porto santo\n",
      "Processing Record 327 of Set 327 | banepa\n",
      "Processing Record 328 of Set 328 | takoradi\n",
      "Processing Record 329 of Set 329 | chitungwiza\n",
      "Processing Record 330 of Set 330 | touros\n",
      "Processing Record 331 of Set 331 | nkhotakota\n",
      "Processing Record 332 of Set 332 | oistins\n",
      "Processing Record 333 of Set 333 | ankola\n",
      "Processing Record 334 of Set 334 | susanville\n",
      "Processing Record 335 of Set 335 | marienburg\n",
      "Processing Record 336 of Set 336 | kulhudhuffushi\n",
      "Processing Record 337 of Set 337 | kazanskoye\n",
      "Processing Record 338 of Set 338 | abbeville\n",
      "Processing Record 339 of Set 339 | grindavik\n",
      "Processing Record 340 of Set 340 | dongsheng\n",
      "Processing Record 341 of Set 341 | lata\n",
      "Processing Record 342 of Set 342 | nabire\n",
      "Processing Record 343 of Set 343 | alta floresta\n",
      "Processing Record 344 of Set 344 | jambi\n",
      "Processing Record 345 of Set 345 | tumannyy\n",
      "City not found. Skipping...\n",
      "Processing Record 346 of Set 346 | rio grande\n",
      "Processing Record 347 of Set 347 | port-cartier\n",
      "Processing Record 348 of Set 348 | yomitan\n",
      "City not found. Skipping...\n",
      "Processing Record 349 of Set 349 | vao\n",
      "Processing Record 350 of Set 350 | skibbereen\n",
      "Processing Record 351 of Set 351 | zyryanka\n",
      "Processing Record 352 of Set 352 | samarai\n",
      "Processing Record 353 of Set 353 | yuxia\n",
      "Processing Record 354 of Set 354 | saleaula\n",
      "City not found. Skipping...\n",
      "Processing Record 355 of Set 355 | mahebourg\n",
      "Processing Record 356 of Set 356 | lerwick\n",
      "Processing Record 357 of Set 357 | nakamura\n",
      "Processing Record 358 of Set 358 | hamadan\n",
      "Processing Record 359 of Set 359 | belaya gora\n",
      "Processing Record 360 of Set 360 | elk city\n",
      "Processing Record 361 of Set 361 | husavik\n",
      "Processing Record 362 of Set 362 | santiago de cao\n",
      "Processing Record 363 of Set 363 | nam tha\n",
      "City not found. Skipping...\n",
      "Processing Record 364 of Set 364 | catamarca\n",
      "Processing Record 365 of Set 365 | matamoros\n",
      "Processing Record 366 of Set 366 | srandakan\n",
      "Processing Record 367 of Set 367 | valdivia\n",
      "Processing Record 368 of Set 368 | upington\n",
      "Processing Record 369 of Set 369 | toora-khem\n",
      "Processing Record 370 of Set 370 | taywarah\n",
      "Processing Record 371 of Set 371 | kattivakkam\n",
      "Processing Record 372 of Set 372 | havelock\n",
      "Processing Record 373 of Set 373 | cabedelo\n",
      "Processing Record 374 of Set 374 | anton lizardo\n",
      "Processing Record 375 of Set 375 | goundam\n",
      "Processing Record 376 of Set 376 | lavrentiya\n",
      "Processing Record 377 of Set 377 | bilibino\n",
      "Processing Record 378 of Set 378 | biertan\n",
      "Processing Record 379 of Set 379 | bone\n",
      "Processing Record 380 of Set 380 | cabo san lucas\n",
      "Processing Record 381 of Set 381 | uravakonda\n",
      "Processing Record 382 of Set 382 | qeshm\n",
      "Processing Record 383 of Set 383 | ravar\n",
      "Processing Record 384 of Set 384 | straumen\n",
      "Processing Record 385 of Set 385 | port blair\n",
      "Processing Record 386 of Set 386 | dauphin\n",
      "Processing Record 387 of Set 387 | pacifica\n",
      "Processing Record 388 of Set 388 | port-gentil\n",
      "Processing Record 389 of Set 389 | okahandja\n",
      "Processing Record 390 of Set 390 | kazachinskoye\n",
      "Processing Record 391 of Set 391 | sentyabrskiy\n",
      "City not found. Skipping...\n",
      "Processing Record 392 of Set 392 | broome\n",
      "Processing Record 393 of Set 393 | lompoc\n",
      "Processing Record 394 of Set 394 | sulphur\n",
      "Processing Record 395 of Set 395 | bougouni\n",
      "Processing Record 396 of Set 396 | mount pleasant\n",
      "Processing Record 397 of Set 397 | fengrun\n",
      "Processing Record 398 of Set 398 | ambilobe\n",
      "Processing Record 399 of Set 399 | wildwood\n",
      "Processing Record 400 of Set 400 | cumra\n",
      "Processing Record 401 of Set 401 | lasem\n",
      "Processing Record 402 of Set 402 | kalianget\n",
      "Processing Record 403 of Set 403 | severo-kurilsk\n",
      "Processing Record 404 of Set 404 | praxedis guerrero\n",
      "Processing Record 405 of Set 405 | narathiwat\n",
      "Processing Record 406 of Set 406 | high level\n",
      "Processing Record 407 of Set 407 | goias\n",
      "Processing Record 408 of Set 408 | forbes\n",
      "Processing Record 409 of Set 409 | constitucion\n",
      "Processing Record 410 of Set 410 | amarante\n",
      "Processing Record 411 of Set 411 | xichang\n",
      "Processing Record 412 of Set 412 | cayenne\n",
      "Processing Record 413 of Set 413 | aklavik\n",
      "Processing Record 414 of Set 414 | honningsvag\n",
      "Processing Record 415 of Set 415 | takhtamygda\n",
      "Processing Record 416 of Set 416 | aksu\n",
      "Processing Record 417 of Set 417 | malatya\n",
      "Processing Record 418 of Set 418 | mount gambier\n",
      "Processing Record 419 of Set 419 | solnechnyy\n",
      "Processing Record 420 of Set 420 | verdalsora\n",
      "City not found. Skipping...\n",
      "Processing Record 421 of Set 421 | sistranda\n",
      "Processing Record 422 of Set 422 | riyadh\n",
      "Processing Record 423 of Set 423 | olafsvik\n",
      "Processing Record 424 of Set 424 | leopold\n",
      "Processing Record 425 of Set 425 | conceicao do araguaia\n",
      "Processing Record 426 of Set 426 | coquimbo\n",
      "Processing Record 427 of Set 427 | songjianghe\n",
      "Processing Record 428 of Set 428 | ust-omchug\n",
      "Processing Record 429 of Set 429 | la rioja\n",
      "Processing Record 430 of Set 430 | puerto colombia\n",
      "Processing Record 431 of Set 431 | campbell river\n",
      "Processing Record 432 of Set 432 | bondo\n",
      "Processing Record 433 of Set 433 | vila velha\n",
      "Processing Record 434 of Set 434 | ballina\n",
      "Processing Record 435 of Set 435 | krasnoarmeysk\n",
      "Processing Record 436 of Set 436 | moindou\n",
      "Processing Record 437 of Set 437 | grand gaube\n",
      "Processing Record 438 of Set 438 | cam pha\n",
      "City not found. Skipping...\n",
      "Processing Record 439 of Set 439 | portland\n",
      "Processing Record 440 of Set 440 | sar-e pul\n",
      "Processing Record 441 of Set 441 | dakar\n",
      "Processing Record 442 of Set 442 | anchorage\n",
      "Processing Record 443 of Set 443 | ostrovnoy\n",
      "Processing Record 444 of Set 444 | pocone\n",
      "Processing Record 445 of Set 445 | khatanga\n",
      "Processing Record 446 of Set 446 | beringovskiy\n",
      "Processing Record 447 of Set 447 | xiongshi\n",
      "City not found. Skipping...\n",
      "Processing Record 448 of Set 448 | san carlos de bariloche\n",
      "Processing Record 449 of Set 449 | vaitape\n",
      "Processing Record 450 of Set 450 | takanabe\n",
      "Processing Record 451 of Set 451 | cherskiy\n",
      "Processing Record 452 of Set 452 | ayan\n",
      "Processing Record 453 of Set 453 | west bay\n",
      "Processing Record 454 of Set 454 | horta\n",
      "Processing Record 455 of Set 455 | codajas\n",
      "Processing Record 456 of Set 456 | bambous virieux\n",
      "Processing Record 457 of Set 457 | phalaborwa\n",
      "Processing Record 458 of Set 458 | nanning\n",
      "Processing Record 459 of Set 459 | sao joao da barra\n",
      "Processing Record 460 of Set 460 | salmo\n",
      "Processing Record 461 of Set 461 | inhambane\n",
      "Processing Record 462 of Set 462 | sioux lookout\n",
      "Processing Record 463 of Set 463 | safwah\n",
      "City not found. Skipping...\n",
      "Processing Record 464 of Set 464 | utete\n",
      "Processing Record 465 of Set 465 | damietta\n",
      "Processing Record 466 of Set 466 | chuy\n",
      "Processing Record 467 of Set 467 | raudeberg\n",
      "Processing Record 468 of Set 468 | idenao\n",
      "Processing Record 469 of Set 469 | skhisma\n",
      "Processing Record 470 of Set 470 | berlevag\n",
      "Processing Record 471 of Set 471 | zhuhai\n",
      "Processing Record 472 of Set 472 | swift current\n",
      "Processing Record 473 of Set 473 | coihaique\n",
      "Processing Record 474 of Set 474 | chilca\n",
      "Processing Record 475 of Set 475 | dubno\n",
      "Processing Record 476 of Set 476 | chhindwara\n",
      "Processing Record 477 of Set 477 | saint-joseph\n",
      "Processing Record 478 of Set 478 | isilkul\n",
      "Processing Record 479 of Set 479 | lorengau\n",
      "Processing Record 480 of Set 480 | mayo\n",
      "Processing Record 481 of Set 481 | westport\n",
      "Processing Record 482 of Set 482 | alofi\n",
      "Processing Record 483 of Set 483 | bushehr\n",
      "Processing Record 484 of Set 484 | ryotsu\n",
      "Processing Record 485 of Set 485 | hihifo\n",
      "City not found. Skipping...\n",
      "Processing Record 486 of Set 486 | rocha\n",
      "Processing Record 487 of Set 487 | provost\n",
      "Processing Record 488 of Set 488 | osakarovka\n",
      "Processing Record 489 of Set 489 | dingle\n",
      "Processing Record 490 of Set 490 | viru\n",
      "Processing Record 491 of Set 491 | shatalovo\n",
      "Processing Record 492 of Set 492 | kipini\n",
      "Processing Record 493 of Set 493 | tonj\n",
      "Processing Record 494 of Set 494 | utiroa\n",
      "City not found. Skipping...\n",
      "Processing Record 495 of Set 495 | yei\n",
      "Processing Record 496 of Set 496 | sheridan\n",
      "Processing Record 497 of Set 497 | luanda\n",
      "Processing Record 498 of Set 498 | mongu\n",
      "Processing Record 499 of Set 499 | emerald\n",
      "Processing Record 500 of Set 500 | koungou\n",
      "Processing Record 501 of Set 501 | altamont\n",
      "Processing Record 502 of Set 502 | richards bay\n",
      "Processing Record 503 of Set 503 | moranbah\n",
      "Processing Record 504 of Set 504 | fortuna\n",
      "Processing Record 505 of Set 505 | derzhavinsk\n",
      "Processing Record 506 of Set 506 | leh\n",
      "Processing Record 507 of Set 507 | lokoja\n",
      "Processing Record 508 of Set 508 | saint-francois\n",
      "Processing Record 509 of Set 509 | tilichiki\n",
      "Processing Record 510 of Set 510 | etchoropo\n",
      "Processing Record 511 of Set 511 | dno\n",
      "Processing Record 512 of Set 512 | fez\n",
      "Processing Record 513 of Set 513 | urusha\n",
      "Processing Record 514 of Set 514 | khilok\n",
      "Processing Record 515 of Set 515 | uk\n",
      "City not found. Skipping...\n",
      "Processing Record 516 of Set 516 | iwanai\n",
      "Processing Record 517 of Set 517 | mpanda\n",
      "Processing Record 518 of Set 518 | terney\n",
      "Processing Record 519 of Set 519 | fukue\n",
      "Processing Record 520 of Set 520 | redmond\n",
      "Processing Record 521 of Set 521 | port-de-paix\n",
      "City not found. Skipping...\n",
      "Processing Record 522 of Set 522 | son la\n",
      "Processing Record 523 of Set 523 | pangody\n",
      "Processing Record 524 of Set 524 | salalah\n",
      "Processing Record 525 of Set 525 | marystown\n",
      "Processing Record 526 of Set 526 | vila franca do campo\n",
      "Processing Record 527 of Set 527 | lubin\n",
      "Processing Record 528 of Set 528 | yumen\n",
      "Processing Record 529 of Set 529 | cairo\n",
      "Processing Record 530 of Set 530 | khonuu\n",
      "City not found. Skipping...\n",
      "Processing Record 531 of Set 531 | dickinson\n",
      "Processing Record 532 of Set 532 | vanavara\n",
      "Processing Record 533 of Set 533 | huoqiu\n",
      "Processing Record 534 of Set 534 | birin\n",
      "Processing Record 535 of Set 535 | faya\n",
      "Processing Record 536 of Set 536 | pouembout\n",
      "Processing Record 537 of Set 537 | floriano\n",
      "Processing Record 538 of Set 538 | santa eulalia del rio\n",
      "City not found. Skipping...\n",
      "Processing Record 539 of Set 539 | naryan-mar\n",
      "Processing Record 540 of Set 540 | taoudenni\n",
      "Processing Record 541 of Set 541 | marshalltown\n",
      "Processing Record 542 of Set 542 | artyk\n",
      "City not found. Skipping...\n",
      "Processing Record 543 of Set 543 | cairns\n",
      "Processing Record 544 of Set 544 | poso\n",
      "Processing Record 545 of Set 545 | vidim\n",
      "Processing Record 546 of Set 546 | russellville\n",
      "Processing Record 547 of Set 547 | mana\n",
      "Processing Record 548 of Set 548 | mbuji-mayi\n",
      "Processing Record 549 of Set 549 | razole\n",
      "Processing Record 550 of Set 550 | teahupoo\n",
      "Processing Record 551 of Set 551 | pisco\n",
      "Processing Record 552 of Set 552 | tungor\n",
      "Processing Record 553 of Set 553 | ambodifototra\n",
      "City not found. Skipping...\n",
      "Processing Record 554 of Set 554 | puerto baquerizo moreno\n",
      "Processing Record 555 of Set 555 | lolua\n",
      "City not found. Skipping...\n",
      "Processing Record 556 of Set 556 | dukat\n",
      "Processing Record 557 of Set 557 | saryshagan\n",
      "City not found. Skipping...\n",
      "Processing Record 558 of Set 558 | batagay-alyta\n",
      "Processing Record 559 of Set 559 | petropavlovsk-kamchatskiy\n",
      "Processing Record 560 of Set 560 | esfarayen\n",
      "Processing Record 561 of Set 561 | hovd\n",
      "Processing Record 562 of Set 562 | nyurba\n",
      "Processing Record 563 of Set 563 | novouzensk\n",
      "Processing Record 564 of Set 564 | mitchell\n",
      "Processing Record 565 of Set 565 | palabuhanratu\n",
      "City not found. Skipping...\n",
      "Processing Record 566 of Set 566 | seminole\n",
      "Processing Record 567 of Set 567 | kathmandu\n",
      "Processing Record 568 of Set 568 | riachao das neves\n",
      "Processing Record 569 of Set 569 | alyangula\n",
      "Processing Record 570 of Set 570 | kismayo\n",
      "Processing Record 571 of Set 571 | vedea\n",
      "Processing Record 572 of Set 572 | ninghai\n",
      "Processing Record 573 of Set 573 | san quintin\n",
      "Processing Record 574 of Set 574 | cape coast\n",
      "Processing Record 575 of Set 575 | tasbuget\n",
      "City not found. Skipping...\n",
      "Processing Record 576 of Set 576 | amahai\n",
      "Processing Record 577 of Set 577 | kigoma\n",
      "Processing Record 578 of Set 578 | potosi\n",
      "Processing Record 579 of Set 579 | brandenburg\n",
      "Processing Record 580 of Set 580 | noumea\n",
      "Processing Record 581 of Set 581 | ishigaki\n",
      "Processing Record 582 of Set 582 | laguna\n",
      "Processing Record 583 of Set 583 | abapo\n",
      "Processing Record 584 of Set 584 | nhulunbuy\n",
      "Processing Record 585 of Set 585 | saint-pierre\n",
      "Processing Record 586 of Set 586 | ati\n",
      "Processing Record 587 of Set 587 | heze\n",
      "Processing Record 588 of Set 588 | harnoli\n",
      "Processing Record 589 of Set 589 | pemangkat\n",
      "Processing Record 590 of Set 590 | yerofey pavlovich\n",
      "Processing Record 591 of Set 591 | saint anthony\n",
      "Processing Record 592 of Set 592 | monmouth\n",
      "Processing Record 593 of Set 593 | morondava\n",
      "Processing Record 594 of Set 594 | batsfjord\n",
      "Processing Record 595 of Set 595 | madingou\n",
      "Processing Record 596 of Set 596 | pascagoula\n",
      "Processing Record 597 of Set 597 | volkach\n",
      "Processing Record 598 of Set 598 | roswell\n",
      "Processing Record 599 of Set 599 | buala\n",
      "Processing Record 600 of Set 600 | itarema\n",
      "Processing Record 601 of Set 601 | muravlenko\n",
      "Processing Record 602 of Set 602 | cerro largo\n",
      "Processing Record 603 of Set 603 | santa rosa\n",
      "Processing Record 604 of Set 604 | pierre\n",
      "Processing Record 605 of Set 605 | rosetta\n",
      "Processing Record 606 of Set 606 | methoni\n",
      "Processing Record 607 of Set 607 | hokitika\n",
      "Processing Record 608 of Set 608 | belyy yar\n",
      "Processing Record 609 of Set 609 | karratha\n",
      "-----------------------------\n",
      "Data Retrieval Complete      \n",
      "-----------------------------\n"
     ]
    }
   ],
   "source": [
    "#Creat Lists\n",
    "City = []\n",
    "Cloudiness = []    \n",
    "Country = []       \n",
    "Date = []          \n",
    "Humidity = []      \n",
    "Lat = []           \n",
    "Lng = []           \n",
    "Max_Temp = []      \n",
    "Wind_Speed = []\n",
    "\n",
    "#Set Units\n",
    "units = \"imperial\"\n",
    "\n",
    "#Set URL\n",
    "url = \"http://api.openweathermap.org/data/2.5/weather?\"\n",
    "\n",
    "#Start Print\n",
    "print(\"Beginning Data Retrieval     \")\n",
    "print(\"-----------------------------\")\n",
    "\n",
    "# Set start point for counters\n",
    "record_count = 0\n",
    "set_count = 0\n",
    "\n",
    "#Create loop\n",
    "for city in cities:\n",
    "    \n",
    "#Create Sets\n",
    "#if (i % 50 == 0 and i >= 50):\n",
    "#set_count += 1\n",
    "#record_count = 0\n",
    "\n",
    "    # Set URL\n",
    "    city_url = f\"{url}appid={weather_api_key}&units={units}&q=\"\n",
    "\n",
    "    # Create the print for checking the data\n",
    "    print(\"Processing Record %s of Set %s | %s\" % (record_count, set_count, city))\n",
    "\n",
    "    # Add 1 to the count for every city\n",
    "    record_count += 1\n",
    "    set_count += 1\n",
    "    \n",
    "    try:\n",
    "        # Use json to collect the data\n",
    "        weather_data = requests.get(city_url + city).json()\n",
    "\n",
    "        # Append data to create dataframe \n",
    "        City.append(weather_data[\"name\"])\n",
    "        Cloudiness.append(weather_data[\"clouds\"][\"all\"])   \n",
    "        Country.append(weather_data[\"sys\"][\"country\"])      \n",
    "        Date.append(weather_data[\"dt\"])         \n",
    "        Humidity.append(weather_data[\"main\"][\"humidity\"])     \n",
    "        Lat.append(weather_data['coord']['lat'])          \n",
    "        Lng.append(weather_data['coord']['lon'])           \n",
    "        Max_Temp.append(weather_data[\"main\"][\"temp_max\"])    \n",
    "        Wind_Speed.append(weather_data[\"wind\"][\"speed\"])\n",
    "\n",
    "        # Create Dataframe\n",
    "        weather_df = pd.DataFrame({\n",
    "                                    \"City\": (City),\n",
    "                                   \"Cloudiness\":(Cloudiness),     \n",
    "                                    \"Country\":(Country),        \n",
    "                                    \"Date\":(Date),           \n",
    "                                    \"Humidity\":(Humidity),       \n",
    "                                    \"Lat\":(Lat),            \n",
    "                                    \"Lng\":(Lng),            \n",
    "                                    \"Max Temp\":(Max_Temp),       \n",
    "                                    \"Wind Speed\":(Wind_Speed) \n",
    "                                   })\n",
    "        weather_df = weather_df[[\n",
    "                                    \"City\",\n",
    "                                    \"Cloudiness\",     \n",
    "                                    \"Country\",        \n",
    "                                    \"Date\",           \n",
    "                                    \"Humidity\",       \n",
    "                                    \"Lat\",            \n",
    "                                    \"Lng\",            \n",
    "                                    \"Max Temp\",      \n",
    "                                    \"Wind Speed\" \n",
    "                                        ]]\n",
    "        weather_df\n",
    "\n",
    "    # Print error line if city not found\n",
    "    except:\n",
    "        print(\"City not found. Skipping...\")\n",
    "    pass\n",
    "              \n",
    "# Print completion line \n",
    "print(\"-----------------------------\")\n",
    "print(\"Data Retrieval Complete      \")\n",
    "print(\"-----------------------------\")    \n"
   ]
  },
  {
   "cell_type": "markdown",
   "metadata": {},
   "source": [
    "### Convert Raw Data to DataFrame\n",
    "* Export the city data into a .csv.\n",
    "* Display the DataFrame"
   ]
  },
  {
   "cell_type": "code",
   "execution_count": 10,
   "metadata": {},
   "outputs": [
    {
     "data": {
      "text/html": [
       "<div>\n",
       "<style scoped>\n",
       "    .dataframe tbody tr th:only-of-type {\n",
       "        vertical-align: middle;\n",
       "    }\n",
       "\n",
       "    .dataframe tbody tr th {\n",
       "        vertical-align: top;\n",
       "    }\n",
       "\n",
       "    .dataframe thead th {\n",
       "        text-align: right;\n",
       "    }\n",
       "</style>\n",
       "<table border=\"1\" class=\"dataframe\">\n",
       "  <thead>\n",
       "    <tr style=\"text-align: right;\">\n",
       "      <th></th>\n",
       "      <th>City</th>\n",
       "      <th>Cloudiness</th>\n",
       "      <th>Country</th>\n",
       "      <th>Date</th>\n",
       "      <th>Humidity</th>\n",
       "      <th>Lat</th>\n",
       "      <th>Lng</th>\n",
       "      <th>Max Temp</th>\n",
       "      <th>Wind Speed</th>\n",
       "    </tr>\n",
       "  </thead>\n",
       "  <tbody>\n",
       "    <tr>\n",
       "      <th>0</th>\n",
       "      <td>Hermanus</td>\n",
       "      <td>89</td>\n",
       "      <td>ZA</td>\n",
       "      <td>1588289433</td>\n",
       "      <td>74</td>\n",
       "      <td>-34.42</td>\n",
       "      <td>19.23</td>\n",
       "      <td>60.01</td>\n",
       "      <td>1.01</td>\n",
       "    </tr>\n",
       "    <tr>\n",
       "      <th>1</th>\n",
       "      <td>Iqaluit</td>\n",
       "      <td>90</td>\n",
       "      <td>CA</td>\n",
       "      <td>1588289434</td>\n",
       "      <td>86</td>\n",
       "      <td>63.75</td>\n",
       "      <td>-68.51</td>\n",
       "      <td>30.20</td>\n",
       "      <td>13.87</td>\n",
       "    </tr>\n",
       "    <tr>\n",
       "      <th>2</th>\n",
       "      <td>Ushuaia</td>\n",
       "      <td>75</td>\n",
       "      <td>AR</td>\n",
       "      <td>1588289434</td>\n",
       "      <td>81</td>\n",
       "      <td>-54.80</td>\n",
       "      <td>-68.30</td>\n",
       "      <td>42.80</td>\n",
       "      <td>26.40</td>\n",
       "    </tr>\n",
       "    <tr>\n",
       "      <th>3</th>\n",
       "      <td>Padang</td>\n",
       "      <td>100</td>\n",
       "      <td>ID</td>\n",
       "      <td>1588289434</td>\n",
       "      <td>85</td>\n",
       "      <td>-0.95</td>\n",
       "      <td>100.35</td>\n",
       "      <td>77.32</td>\n",
       "      <td>8.37</td>\n",
       "    </tr>\n",
       "    <tr>\n",
       "      <th>4</th>\n",
       "      <td>Jamestown</td>\n",
       "      <td>90</td>\n",
       "      <td>US</td>\n",
       "      <td>1588289362</td>\n",
       "      <td>93</td>\n",
       "      <td>42.10</td>\n",
       "      <td>-79.24</td>\n",
       "      <td>48.20</td>\n",
       "      <td>10.29</td>\n",
       "    </tr>\n",
       "  </tbody>\n",
       "</table>\n",
       "</div>"
      ],
      "text/plain": [
       "        City  Cloudiness Country        Date  Humidity    Lat     Lng  \\\n",
       "0   Hermanus          89      ZA  1588289433        74 -34.42   19.23   \n",
       "1    Iqaluit          90      CA  1588289434        86  63.75  -68.51   \n",
       "2    Ushuaia          75      AR  1588289434        81 -54.80  -68.30   \n",
       "3     Padang         100      ID  1588289434        85  -0.95  100.35   \n",
       "4  Jamestown          90      US  1588289362        93  42.10  -79.24   \n",
       "\n",
       "   Max Temp  Wind Speed  \n",
       "0     60.01        1.01  \n",
       "1     30.20       13.87  \n",
       "2     42.80       26.40  \n",
       "3     77.32        8.37  \n",
       "4     48.20       10.29  "
      ]
     },
     "execution_count": 10,
     "metadata": {},
     "output_type": "execute_result"
    }
   ],
   "source": [
    "#Export Dataframe to csv\n",
    "weather_df.to_csv(r'output_data/cities.csv', index=False, header = True)\n",
    "#Display Dataframe\n",
    "weather_df.head()"
   ]
  },
  {
   "cell_type": "code",
   "execution_count": null,
   "metadata": {},
   "outputs": [],
   "source": []
  },
  {
   "cell_type": "markdown",
   "metadata": {},
   "source": [
    "### Plotting the Data\n",
    "* Use proper labeling of the plots using plot titles (including date of analysis) and axes labels.\n",
    "* Save the plotted figures as .pngs."
   ]
  },
  {
   "cell_type": "markdown",
   "metadata": {},
   "source": [
    "#### Latitude vs. Temperature Plot"
   ]
  },
  {
   "cell_type": "code",
   "execution_count": 11,
   "metadata": {
    "scrolled": true
   },
   "outputs": [
    {
     "data": {
      "image/png": "[encoded data removed]",
      "text/plain": [
       "<Figure size 432x288 with 1 Axes>"
      ]
     },
     "metadata": {
      "needs_background": "light"
     },
     "output_type": "display_data"
    }
   ],
   "source": [
    "# Create scatter plot\n",
    "plt.scatter(weather_df[\"Lat\"], weather_df[\"Max Temp\"], marker=\"o\")\n",
    "\n",
    "# Add labels\n",
    "plt.title(\"Latitude vs. Temperature 04/24/2020\")\n",
    "plt.ylabel(\"Max Temperature\")\n",
    "plt.xlabel(\"Latitude\")\n",
    "plt.grid(True)\n",
    "\n",
    "# Create Png\n",
    "plt.savefig(\"LatitudeVs.TemperaturePlot.png\")\n",
    "\n",
    "# Show plot\n",
    "plt.show()"
   ]
  },
  {
   "cell_type": "markdown",
   "metadata": {},
   "source": [
    "This plot looks at whether latitude affects the maximum temperature of the city, and we can see that it does the cities closest to zero having higher temperatures and the temp dropping on either side of 0.  "
   ]
  },
  {
   "cell_type": "markdown",
   "metadata": {},
   "source": [
    "#### Latitude vs. Humidity Plot"
   ]
  },
  {
   "cell_type": "code",
   "execution_count": 12,
   "metadata": {},
   "outputs": [
    {
     "data": {
      "image/png": "[encoded data removed]",
      "text/plain": [
       "<Figure size 432x288 with 1 Axes>"
      ]
     },
     "metadata": {
      "needs_background": "light"
     },
     "output_type": "display_data"
    }
   ],
   "source": [
    "# Create scatter plot\n",
    "plt.scatter(weather_df[\"Lat\"], weather_df[\"Humidity\"], marker=\"o\")\n",
    "\n",
    "# Add labels\n",
    "plt.title(\"Latitude vs. Humidity 04/24/2020\")\n",
    "plt.ylabel(\"Humidity\")\n",
    "plt.xlabel(\"Latitude\")\n",
    "plt.grid(True)\n",
    "\n",
    "# Create Png\n",
    "plt.savefig(\"LatitudeVs.HumidityPlot.png\")\n",
    "\n",
    "# Show plot\n",
    "plt.show()"
   ]
  },
  {
   "cell_type": "markdown",
   "metadata": {},
   "source": [
    "This plot looks at whether latitude affects the humidity of the city, and we can see there is a slight amount of correlation around the 0 latitude there is higher humidity. However, the rest of the data points do not show strong correlation.   "
   ]
  },
  {
   "cell_type": "markdown",
   "metadata": {},
   "source": [
    "#### Latitude vs. Cloudiness Plot"
   ]
  },
  {
   "cell_type": "code",
   "execution_count": 13,
   "metadata": {},
   "outputs": [
    {
     "data": {
      "image/png": "[encoded data removed]",
      "text/plain": [
       "<Figure size 432x288 with 1 Axes>"
      ]
     },
     "metadata": {
      "needs_background": "light"
     },
     "output_type": "display_data"
    }
   ],
   "source": [
    "# Create scatter plot\n",
    "plt.scatter(weather_df[\"Lat\"], weather_df[\"Cloudiness\"], marker=\"o\")\n",
    "\n",
    "# Add labels\n",
    "plt.title(\"Latitude vs. Cloudiness 04/24/2020\")\n",
    "plt.ylabel(\"Cloudiness\")\n",
    "plt.xlabel(\"Latitude\")\n",
    "plt.grid(True)\n",
    "\n",
    "# Create Png\n",
    "plt.savefig(\"LatitudeVs.CloudinessPlot.png\")\n",
    "\n",
    "# Show plot\n",
    "plt.show()"
   ]
  },
  {
   "cell_type": "markdown",
   "metadata": {},
   "source": [
    "This plot looks at whether latitude affects the cloudiness of the city, and we can see that it does not because of the non-correlated data points.  "
   ]
  },
  {
   "cell_type": "markdown",
   "metadata": {},
   "source": [
    "#### Latitude vs. Wind Speed Plot"
   ]
  },
  {
   "cell_type": "code",
   "execution_count": 14,
   "metadata": {},
   "outputs": [
    {
     "data": {
      "image/png": "[encoded data removed]",
      "text/plain": [
       "<Figure size 432x288 with 1 Axes>"
      ]
     },
     "metadata": {
      "needs_background": "light"
     },
     "output_type": "display_data"
    }
   ],
   "source": [
    "# Create scatter plot\n",
    "plt.scatter(weather_df[\"Lat\"], weather_df[\"Wind Speed\"], marker=\"o\")\n",
    "\n",
    "# Add labels\n",
    "plt.title(\"Latitude vs. Wind Speed 04/24/2020\")\n",
    "plt.ylabel(\"Wind Speed\")\n",
    "plt.xlabel(\"Latitude\")\n",
    "plt.grid(True)\n",
    "\n",
    "# Create Png\n",
    "plt.savefig(\"LatitudeVs.WindSpeedPlot.png\")\n",
    "\n",
    "# Show plot\n",
    "plt.show()"
   ]
  },
  {
   "cell_type": "markdown",
   "metadata": {},
   "source": [
    "This plot looks at whether latitude affects the wind speed in a city, and we can see that it does not because the data points are consistent across the graph no matter their latitude.  "
   ]
  },
  {
   "cell_type": "markdown",
   "metadata": {},
   "source": [
    "## Linear Regression"
   ]
  },
  {
   "cell_type": "code",
   "execution_count": 15,
   "metadata": {},
   "outputs": [],
   "source": [
    "# OPTIONAL: Create a function to create Linear Regression plots\n"
   ]
  },
  {
   "cell_type": "code",
   "execution_count": 16,
   "metadata": {},
   "outputs": [
    {
     "data": {
      "text/html": [
       "<div>\n",
       "<style scoped>\n",
       "    .dataframe tbody tr th:only-of-type {\n",
       "        vertical-align: middle;\n",
       "    }\n",
       "\n",
       "    .dataframe tbody tr th {\n",
       "        vertical-align: top;\n",
       "    }\n",
       "\n",
       "    .dataframe thead th {\n",
       "        text-align: right;\n",
       "    }\n",
       "</style>\n",
       "<table border=\"1\" class=\"dataframe\">\n",
       "  <thead>\n",
       "    <tr style=\"text-align: right;\">\n",
       "      <th></th>\n",
       "      <th>City</th>\n",
       "      <th>Cloudiness</th>\n",
       "      <th>Country</th>\n",
       "      <th>Date</th>\n",
       "      <th>Humidity</th>\n",
       "      <th>Lat</th>\n",
       "      <th>Lng</th>\n",
       "      <th>Max Temp</th>\n",
       "      <th>Wind Speed</th>\n",
       "    </tr>\n",
       "  </thead>\n",
       "  <tbody>\n",
       "    <tr>\n",
       "      <th>0</th>\n",
       "      <td>Iqaluit</td>\n",
       "      <td>90</td>\n",
       "      <td>CA</td>\n",
       "      <td>1588289434</td>\n",
       "      <td>86</td>\n",
       "      <td>63.75</td>\n",
       "      <td>-68.51</td>\n",
       "      <td>30.20</td>\n",
       "      <td>13.87</td>\n",
       "    </tr>\n",
       "    <tr>\n",
       "      <th>1</th>\n",
       "      <td>Jamestown</td>\n",
       "      <td>90</td>\n",
       "      <td>US</td>\n",
       "      <td>1588289362</td>\n",
       "      <td>93</td>\n",
       "      <td>42.10</td>\n",
       "      <td>-79.24</td>\n",
       "      <td>48.20</td>\n",
       "      <td>10.29</td>\n",
       "    </tr>\n",
       "    <tr>\n",
       "      <th>2</th>\n",
       "      <td>Northam</td>\n",
       "      <td>27</td>\n",
       "      <td>GB</td>\n",
       "      <td>1588289434</td>\n",
       "      <td>91</td>\n",
       "      <td>51.03</td>\n",
       "      <td>-4.22</td>\n",
       "      <td>51.01</td>\n",
       "      <td>13.00</td>\n",
       "    </tr>\n",
       "    <tr>\n",
       "      <th>3</th>\n",
       "      <td>La Ronge</td>\n",
       "      <td>90</td>\n",
       "      <td>CA</td>\n",
       "      <td>1588289434</td>\n",
       "      <td>35</td>\n",
       "      <td>55.10</td>\n",
       "      <td>-105.28</td>\n",
       "      <td>57.20</td>\n",
       "      <td>11.41</td>\n",
       "    </tr>\n",
       "    <tr>\n",
       "      <th>4</th>\n",
       "      <td>Nikolskoye</td>\n",
       "      <td>0</td>\n",
       "      <td>RU</td>\n",
       "      <td>1588289435</td>\n",
       "      <td>79</td>\n",
       "      <td>59.70</td>\n",
       "      <td>30.79</td>\n",
       "      <td>28.40</td>\n",
       "      <td>4.47</td>\n",
       "    </tr>\n",
       "  </tbody>\n",
       "</table>\n",
       "</div>"
      ],
      "text/plain": [
       "         City  Cloudiness Country        Date  Humidity    Lat     Lng  \\\n",
       "0     Iqaluit          90      CA  1588289434        86  63.75  -68.51   \n",
       "1   Jamestown          90      US  1588289362        93  42.10  -79.24   \n",
       "2     Northam          27      GB  1588289434        91  51.03   -4.22   \n",
       "3    La Ronge          90      CA  1588289434        35  55.10 -105.28   \n",
       "4  Nikolskoye           0      RU  1588289435        79  59.70   30.79   \n",
       "\n",
       "   Max Temp  Wind Speed  \n",
       "0     30.20       13.87  \n",
       "1     48.20       10.29  \n",
       "2     51.01       13.00  \n",
       "3     57.20       11.41  \n",
       "4     28.40        4.47  "
      ]
     },
     "execution_count": 16,
     "metadata": {},
     "output_type": "execute_result"
    }
   ],
   "source": [
    "# Create Northern Hemisphere DataFrame\n",
    "northern_df = weather_df.query(\"Lat >= 0\")\n",
    "northern_df = northern_df.reset_index(drop=True)\n",
    "northern_df.head()"
   ]
  },
  {
   "cell_type": "code",
   "execution_count": 17,
   "metadata": {},
   "outputs": [
    {
     "data": {
      "text/html": [
       "<div>\n",
       "<style scoped>\n",
       "    .dataframe tbody tr th:only-of-type {\n",
       "        vertical-align: middle;\n",
       "    }\n",
       "\n",
       "    .dataframe tbody tr th {\n",
       "        vertical-align: top;\n",
       "    }\n",
       "\n",
       "    .dataframe thead th {\n",
       "        text-align: right;\n",
       "    }\n",
       "</style>\n",
       "<table border=\"1\" class=\"dataframe\">\n",
       "  <thead>\n",
       "    <tr style=\"text-align: right;\">\n",
       "      <th></th>\n",
       "      <th>City</th>\n",
       "      <th>Cloudiness</th>\n",
       "      <th>Country</th>\n",
       "      <th>Date</th>\n",
       "      <th>Humidity</th>\n",
       "      <th>Lat</th>\n",
       "      <th>Lng</th>\n",
       "      <th>Max Temp</th>\n",
       "      <th>Wind Speed</th>\n",
       "    </tr>\n",
       "  </thead>\n",
       "  <tbody>\n",
       "    <tr>\n",
       "      <th>0</th>\n",
       "      <td>Hermanus</td>\n",
       "      <td>89</td>\n",
       "      <td>ZA</td>\n",
       "      <td>1588289433</td>\n",
       "      <td>74</td>\n",
       "      <td>-34.42</td>\n",
       "      <td>19.23</td>\n",
       "      <td>60.01</td>\n",
       "      <td>1.01</td>\n",
       "    </tr>\n",
       "    <tr>\n",
       "      <th>1</th>\n",
       "      <td>Ushuaia</td>\n",
       "      <td>75</td>\n",
       "      <td>AR</td>\n",
       "      <td>1588289434</td>\n",
       "      <td>81</td>\n",
       "      <td>-54.80</td>\n",
       "      <td>-68.30</td>\n",
       "      <td>42.80</td>\n",
       "      <td>26.40</td>\n",
       "    </tr>\n",
       "    <tr>\n",
       "      <th>2</th>\n",
       "      <td>Padang</td>\n",
       "      <td>100</td>\n",
       "      <td>ID</td>\n",
       "      <td>1588289434</td>\n",
       "      <td>85</td>\n",
       "      <td>-0.95</td>\n",
       "      <td>100.35</td>\n",
       "      <td>77.32</td>\n",
       "      <td>8.37</td>\n",
       "    </tr>\n",
       "    <tr>\n",
       "      <th>3</th>\n",
       "      <td>Rikitea</td>\n",
       "      <td>3</td>\n",
       "      <td>PF</td>\n",
       "      <td>1588289435</td>\n",
       "      <td>83</td>\n",
       "      <td>-23.12</td>\n",
       "      <td>-134.97</td>\n",
       "      <td>79.27</td>\n",
       "      <td>17.45</td>\n",
       "    </tr>\n",
       "    <tr>\n",
       "      <th>4</th>\n",
       "      <td>Hobart</td>\n",
       "      <td>20</td>\n",
       "      <td>AU</td>\n",
       "      <td>1588289378</td>\n",
       "      <td>76</td>\n",
       "      <td>-42.88</td>\n",
       "      <td>147.33</td>\n",
       "      <td>53.01</td>\n",
       "      <td>8.05</td>\n",
       "    </tr>\n",
       "  </tbody>\n",
       "</table>\n",
       "</div>"
      ],
      "text/plain": [
       "       City  Cloudiness Country        Date  Humidity    Lat     Lng  \\\n",
       "0  Hermanus          89      ZA  1588289433        74 -34.42   19.23   \n",
       "1   Ushuaia          75      AR  1588289434        81 -54.80  -68.30   \n",
       "2    Padang         100      ID  1588289434        85  -0.95  100.35   \n",
       "3   Rikitea           3      PF  1588289435        83 -23.12 -134.97   \n",
       "4    Hobart          20      AU  1588289378        76 -42.88  147.33   \n",
       "\n",
       "   Max Temp  Wind Speed  \n",
       "0     60.01        1.01  \n",
       "1     42.80       26.40  \n",
       "2     77.32        8.37  \n",
       "3     79.27       17.45  \n",
       "4     53.01        8.05  "
      ]
     },
     "execution_count": 17,
     "metadata": {},
     "output_type": "execute_result"
    }
   ],
   "source": [
    "#Create Southern Hemisphere DataFrame\n",
    "southern_df = weather_df.query(\"Lat <= 0\")\n",
    "southern_df = southern_df.reset_index(drop=True)\n",
    "southern_df.head()"
   ]
  },
  {
   "cell_type": "markdown",
   "metadata": {},
   "source": [
    "####  Northern Hemisphere - Max Temp vs. Latitude Linear Regression"
   ]
  },
  {
   "cell_type": "code",
   "execution_count": 18,
   "metadata": {},
   "outputs": [
    {
     "data": {
      "image/png": "[encoded data removed]",
      "text/plain": [
       "<Figure size 432x288 with 1 Axes>"
      ]
     },
     "metadata": {
      "needs_background": "light"
     },
     "output_type": "display_data"
    },
    {
     "name": "stdout",
     "output_type": "stream",
     "text": [
      "-0.8748138619597645\n"
     ]
    }
   ],
   "source": [
    "# Create values\n",
    "lat = northern_df[\"Lat\"]\n",
    "temp = northern_df[\"Max Temp\"]\n",
    "\n",
    "#Linear Regression & Scatter\n",
    "(slope, intercept, rvalue, pvalue, stderr) = linregress(lat, temp)\n",
    "regress_values = lat * slope + intercept\n",
    "line_eq = \"y = \" + str(round(slope,2)) + \"x + \" + str(round(intercept,2))\n",
    "plt.scatter(northern_df[\"Lat\"], northern_df[\"Max Temp\"], marker=\"o\")\n",
    "plt.plot(lat,regress_values,\"r-\")\n",
    "plt.annotate(line_eq,(6,10),fontsize=15,color=\"red\")\n",
    "\n",
    "# Add labels\n",
    "plt.title(\"Latitude vs. Temperature 04/24/2020\")\n",
    "plt.ylabel(\"Max Temperature\")\n",
    "plt.xlabel(\"Latitude\")\n",
    "plt.grid(True)\n",
    "\n",
    "# Create Png\n",
    "plt.savefig(\"NHLatitudeVs.TemperaturePlot.png\")\n",
    "\n",
    "# Show plot\n",
    "plt.show()\n",
    "print(rvalue)"
   ]
  },
  {
   "cell_type": "markdown",
   "metadata": {},
   "source": [
    "This plot looks at whether latitude affects the temperature in the city, and we can see that it does because of the clear corraltion between the closer to 0 the higher the temperature.  "
   ]
  },
  {
   "cell_type": "markdown",
   "metadata": {},
   "source": [
    "####  Southern Hemisphere - Max Temp vs. Latitude Linear Regression"
   ]
  },
  {
   "cell_type": "code",
   "execution_count": 19,
   "metadata": {},
   "outputs": [
    {
     "data": {
      "image/png": "[encoded data removed]",
      "text/plain": [
       "<Figure size 432x288 with 1 Axes>"
      ]
     },
     "metadata": {
      "needs_background": "light"
     },
     "output_type": "display_data"
    },
    {
     "name": "stdout",
     "output_type": "stream",
     "text": [
      "0.7563217987501135\n"
     ]
    }
   ],
   "source": [
    "# Create values\n",
    "lat = southern_df[\"Lat\"]\n",
    "temp = southern_df[\"Max Temp\"]\n",
    "\n",
    "#Linear Regression & Scatter\n",
    "(slope, intercept, rvalue, pvalue, stderr) = linregress(lat, temp)\n",
    "regress_values = lat * slope + intercept\n",
    "line_eq = \"y = \" + str(round(slope,2)) + \"x + \" + str(round(intercept,2))\n",
    "plt.scatter(southern_df[\"Lat\"], southern_df[\"Max Temp\"], marker=\"o\")\n",
    "plt.plot(lat,regress_values,\"r-\")\n",
    "plt.annotate(line_eq,(-25, 50),fontsize=15,color=\"red\")\n",
    "\n",
    "# Add labels\n",
    "plt.title(\"Latitude vs. Temperature 04/24/2020\")\n",
    "plt.ylabel(\"Max Temperature\")\n",
    "plt.xlabel(\"Latitude\")\n",
    "plt.grid(True)\n",
    "\n",
    "# Create Png\n",
    "plt.savefig(\"SHLatitudeVs.TemperaturePlot.png\")\n",
    "\n",
    "# Show plot\n",
    "plt.show()\n",
    "print(rvalue)"
   ]
  },
  {
   "cell_type": "markdown",
   "metadata": {},
   "source": [
    "This plot looks at whether latitude affects the temperature in the city, and we can see that it does because of the clear corraltion between the closer to 0 the higher the temperature.  "
   ]
  },
  {
   "cell_type": "markdown",
   "metadata": {},
   "source": [
    "####  Northern Hemisphere - Humidity (%) vs. Latitude Linear Regression"
   ]
  },
  {
   "cell_type": "code",
   "execution_count": 20,
   "metadata": {},
   "outputs": [
    {
     "data": {
      "image/png": "[encoded data removed]",
      "text/plain": [
       "<Figure size 432x288 with 1 Axes>"
      ]
     },
     "metadata": {
      "needs_background": "light"
     },
     "output_type": "display_data"
    },
    {
     "name": "stdout",
     "output_type": "stream",
     "text": [
      "0.13310546192431738\n"
     ]
    }
   ],
   "source": [
    "# Create values\n",
    "lat = northern_df[\"Lat\"]\n",
    "humidity = northern_df[\"Humidity\"]\n",
    "\n",
    "#Linear Regression & Scatter\n",
    "(slope, intercept, rvalue, pvalue, stderr) = linregress(lat, humidity)\n",
    "regress_values = lat * slope + intercept\n",
    "line_eq = \"y = \" + str(round(slope,2)) + \"x + \" + str(round(intercept,2))\n",
    "plt.scatter(northern_df[\"Lat\"], northern_df[\"Humidity\"], marker=\"o\")\n",
    "plt.plot(lat,regress_values,\"r-\")\n",
    "plt.annotate(line_eq,(6,10),fontsize=15,color=\"red\")\n",
    "\n",
    "# Add labels\n",
    "plt.title(\"Latitude vs. Humidity 04/24/2020\")\n",
    "plt.ylabel(\"Humidity\")\n",
    "plt.xlabel(\"Latitude\")\n",
    "plt.grid(True)\n",
    "\n",
    "# Create Png\n",
    "plt.savefig(\"NHLatitudeVs.HumidityPlot.png\")\n",
    "\n",
    "# Show plot\n",
    "plt.show()\n",
    "print(rvalue)"
   ]
  },
  {
   "cell_type": "markdown",
   "metadata": {},
   "source": [
    "This plot looks at whether latitude affects the humidity of the city, and we can see there is a slight amount of correlation around with the higher the latitude the higher the humidity.  "
   ]
  },
  {
   "cell_type": "markdown",
   "metadata": {},
   "source": [
    "####  Southern Hemisphere - Humidity (%) vs. Latitude Linear Regression"
   ]
  },
  {
   "cell_type": "code",
   "execution_count": 26,
   "metadata": {},
   "outputs": [
    {
     "data": {
      "image/png": "[encoded data removed]",
      "text/plain": [
       "<Figure size 432x288 with 1 Axes>"
      ]
     },
     "metadata": {
      "needs_background": "light"
     },
     "output_type": "display_data"
    },
    {
     "name": "stdout",
     "output_type": "stream",
     "text": [
      "0.1933206035171021\n"
     ]
    }
   ],
   "source": [
    "# Create values\n",
    "lat = southern_df[\"Lat\"]\n",
    "humidity = southern_df[\"Humidity\"]\n",
    "\n",
    "#Linear Regression & Scatter\n",
    "(slope, intercept, rvalue, pvalue, stderr) = linregress(lat, humidity)\n",
    "regress_values = lat * slope + intercept\n",
    "line_eq = \"y = \" + str(round(slope,2)) + \"x + \" + str(round(intercept,2))\n",
    "plt.scatter(southern_df[\"Lat\"], southern_df[\"Humidity\"], marker=\"o\")\n",
    "plt.plot(lat,regress_values,\"r-\")\n",
    "plt.annotate(line_eq,(-25, 50),fontsize=15,color=\"red\")\n",
    "\n",
    "# Add labels\n",
    "plt.title(\"Latitude vs. Humidity 04/24/2020\")\n",
    "plt.ylabel(\"Humidity\")\n",
    "plt.xlabel(\"Latitude\")\n",
    "plt.grid(True)\n",
    "\n",
    "# Create Png\n",
    "plt.savefig(\"SHLatitudeVs.HumidityPlot.png\")\n",
    "\n",
    "# Show plot\n",
    "plt.show()\n",
    "print(rvalue)"
   ]
  },
  {
   "cell_type": "markdown",
   "metadata": {},
   "source": [
    "This plot looks at whether latitude affects the humidity of the city, and we can see there is very little correlation between these datapoints. "
   ]
  },
  {
   "cell_type": "markdown",
   "metadata": {},
   "source": [
    "####  Northern Hemisphere - Cloudiness (%) vs. Latitude Linear Regression"
   ]
  },
  {
   "cell_type": "code",
   "execution_count": 22,
   "metadata": {},
   "outputs": [
    {
     "data": {
      "image/png": "[encoded data removed]",
      "text/plain": [
       "<Figure size 432x288 with 1 Axes>"
      ]
     },
     "metadata": {
      "needs_background": "light"
     },
     "output_type": "display_data"
    },
    {
     "name": "stdout",
     "output_type": "stream",
     "text": [
      "0.1699091225975862\n"
     ]
    }
   ],
   "source": [
    "# Create values\n",
    "lat = northern_df[\"Lat\"]\n",
    "cloud = northern_df[\"Cloudiness\"]\n",
    "\n",
    "#Linear Regression & Scatter\n",
    "(slope, intercept, rvalue, pvalue, stderr) = linregress(lat, cloud)\n",
    "regress_values = lat * slope + intercept\n",
    "line_eq = \"y = \" + str(round(slope,2)) + \"x + \" + str(round(intercept,2))\n",
    "plt.scatter(northern_df[\"Lat\"], northern_df[\"Cloudiness\"], marker=\"o\")\n",
    "plt.plot(lat,regress_values,\"r-\")\n",
    "plt.annotate(line_eq,(6,10),fontsize=15,color=\"red\")\n",
    "\n",
    "# Add labels\n",
    "plt.title(\"Latitude vs. Cloudiness 04/24/2020\")\n",
    "plt.ylabel(\"Cloudiness\")\n",
    "plt.xlabel(\"Latitude\")\n",
    "plt.grid(True)\n",
    "\n",
    "# Create Png\n",
    "plt.savefig(\"NHLatitudeVs.CloudinessPlot.png\")\n",
    "\n",
    "# Show plot\n",
    "plt.show()\n",
    "print(rvalue)"
   ]
  },
  {
   "cell_type": "markdown",
   "metadata": {},
   "source": [
    "This plot looks at whether latitude affects the cloudiness of the city, and we can see that it does not because of the non-correlated data points.  "
   ]
  },
  {
   "cell_type": "markdown",
   "metadata": {},
   "source": [
    "####  Southern Hemisphere - Cloudiness (%) vs. Latitude Linear Regression"
   ]
  },
  {
   "cell_type": "code",
   "execution_count": 27,
   "metadata": {},
   "outputs": [
    {
     "data": {
      "image/png": "[encoded data removed]",
      "text/plain": [
       "<Figure size 432x288 with 1 Axes>"
      ]
     },
     "metadata": {
      "needs_background": "light"
     },
     "output_type": "display_data"
    },
    {
     "name": "stdout",
     "output_type": "stream",
     "text": [
      "0.08682409560101753\n"
     ]
    }
   ],
   "source": [
    "# Create values\n",
    "lat = southern_df[\"Lat\"]\n",
    "cloud = southern_df[\"Cloudiness\"]\n",
    "\n",
    "#Linear Regression & Scatter\n",
    "(slope, intercept, rvalue, pvalue, stderr) = linregress(lat, cloud)\n",
    "regress_values = lat * slope + intercept\n",
    "line_eq = \"y = \" + str(round(slope,2)) + \"x + \" + str(round(intercept,2))\n",
    "plt.scatter(southern_df[\"Lat\"], southern_df[\"Cloudiness\"], marker=\"o\")\n",
    "plt.plot(lat,regress_values,\"r-\")\n",
    "plt.annotate(line_eq,(-25, 50),fontsize=15,color=\"red\")\n",
    "\n",
    "# Add labels\n",
    "plt.title(\"Latitude vs. Cloudiness 04/24/2020\")\n",
    "plt.ylabel(\"Cloudiness\")\n",
    "plt.xlabel(\"Latitude\")\n",
    "plt.grid(True)\n",
    "\n",
    "# Create Png\n",
    "plt.savefig(\"SHLatitudeVs.CloudinessPlot.png\")\n",
    "\n",
    "# Show plot\n",
    "plt.show()\n",
    "print(rvalue)"
   ]
  },
  {
   "cell_type": "markdown",
   "metadata": {},
   "source": [
    "This plot looks at whether latitude affects the cloudiness of the city, and we can see there is a slight correlation with the lower the latitude having a higher or absent amount of cloudiness. "
   ]
  },
  {
   "cell_type": "markdown",
   "metadata": {},
   "source": [
    "####  Northern Hemisphere - Wind Speed (mph) vs. Latitude Linear Regression"
   ]
  },
  {
   "cell_type": "code",
   "execution_count": 33,
   "metadata": {},
   "outputs": [
    {
     "data": {
      "image/png": "[encoded data removed]",
      "text/plain": [
       "<Figure size 432x288 with 1 Axes>"
      ]
     },
     "metadata": {
      "needs_background": "light"
     },
     "output_type": "display_data"
    },
    {
     "name": "stdout",
     "output_type": "stream",
     "text": [
      "0.18174753902640414\n"
     ]
    }
   ],
   "source": [
    "# Create values\n",
    "lat = northern_df[\"Lat\"]\n",
    "wind = northern_df[\"Wind Speed\"]\n",
    "\n",
    "#Linear Regression & Scatter\n",
    "(slope, intercept, rvalue, pvalue, stderr) = linregress(lat, wind)\n",
    "regress_values = lat * slope + intercept\n",
    "line_eq = \"y = \" + str(round(slope,2)) + \"x + \" + str(round(intercept,2))\n",
    "plt.scatter(northern_df[\"Lat\"], northern_df[\"Wind Speed\"], marker=\"o\")\n",
    "plt.plot(lat,regress_values,\"r-\")\n",
    "plt.annotate(line_eq,(6,10),fontsize=15,color=\"red\")\n",
    "\n",
    "# Add labels\n",
    "plt.title(\"Latitude vs. Wind Speed 04/24/2020\")\n",
    "plt.ylabel(\"Wind Speed\")\n",
    "plt.xlabel(\"Latitude\")\n",
    "plt.grid(True)\n",
    "\n",
    "# Create Png\n",
    "plt.savefig(\"NHLatitudeVs.WindSpeedPlot.png\")\n",
    "\n",
    "# Show plot\n",
    "plt.show()\n",
    "print(rvalue)"
   ]
  },
  {
   "cell_type": "markdown",
   "metadata": {},
   "source": [
    "This plot looks at whether latitude affects the wind speed in a city, and we can see a small correlation with the increase in latitude bringing slightly higher wind speed.  "
   ]
  },
  {
   "cell_type": "markdown",
   "metadata": {},
   "source": [
    "####  Southern Hemisphere - Wind Speed (mph) vs. Latitude Linear Regression"
   ]
  },
  {
   "cell_type": "code",
   "execution_count": 31,
   "metadata": {},
   "outputs": [
    {
     "data": {
      "image/png": "[encoded data removed]",
      "text/plain": [
       "<Figure size 432x288 with 1 Axes>"
      ]
     },
     "metadata": {
      "needs_background": "light"
     },
     "output_type": "display_data"
    },
    {
     "name": "stdout",
     "output_type": "stream",
     "text": [
      "-0.26326895356657987\n"
     ]
    }
   ],
   "source": [
    "# Create values\n",
    "lat = southern_df[\"Lat\"]\n",
    "wind = southern_df[\"Wind Speed\"]\n",
    "\n",
    "#Linear Regression & Scatter\n",
    "(slope, intercept, rvalue, pvalue, stderr) = linregress(lat, wind)\n",
    "regress_values = lat * slope + intercept\n",
    "line_eq = \"y = \" + str(round(slope,2)) + \"x + \" + str(round(intercept,2))\n",
    "plt.scatter(southern_df[\"Lat\"], southern_df[\"Wind Speed\"], marker=\"o\")\n",
    "plt.plot(lat,regress_values,\"r-\")\n",
    "plt.annotate(line_eq,(-50, 0),fontsize=15,color=\"red\")\n",
    "\n",
    "# Add labels\n",
    "plt.title(\"Latitude vs. Wind Speed 04/24/2020\")\n",
    "plt.ylabel(\"Wind Speed\")\n",
    "plt.xlabel(\"Latitude\")\n",
    "plt.grid(True)\n",
    "\n",
    "# Create Png\n",
    "plt.savefig(\"SHLatitudeVs.WindSpeedPlot.png\")\n",
    "\n",
    "# Show plot\n",
    "plt.show()\n",
    "print(rvalue)"
   ]
  },
  {
   "cell_type": "markdown",
   "metadata": {},
   "source": [
    "This plot looks at whether latitude affects the wind speed in a city, and we can see a correlation with the increase in latitude bringing lower wind speed.  "
   ]
  },
  {
   "cell_type": "code",
   "execution_count": null,
   "metadata": {},
   "outputs": [],
   "source": []
  }
 ],
 "metadata": {
  "anaconda-cloud": {},
  "kernel_info": {
   "name": "python3"
  },
  "kernelspec": {
   "display_name": "PythonData",
   "language": "python",
   "name": "pythondata"
  },
  "language_info": {
   "codemirror_mode": {
    "name": "ipython",
    "version": 3
   },
   "file_extension": ".py",
   "mimetype": "text/x-python",
   "name": "python",
   "nbconvert_exporter": "python",
   "pygments_lexer": "ipython3",
   "version": "3.8.1"
  },
  "latex_envs": {
   "LaTeX_envs_menu_present": true,
   "autoclose": false,
   "autocomplete": true,
   "bibliofile": "biblio.bib",
   "cite_by": "apalike",
   "current_citInitial": 1,
   "eqLabelWithNumbers": true,
   "eqNumInitial": 1,
   "hotkeys": {
    "equation": "Ctrl-E",
    "itemize": "Ctrl-I"
   },
   "labels_anchors": false,
   "latex_user_defs": false,
   "report_style_numbering": false,
   "user_envs_cfg": false
  },
  "nteract": {
   "version": "0.12.3"
  }
 },
 "nbformat": 4,
 "nbformat_minor": 4
}
